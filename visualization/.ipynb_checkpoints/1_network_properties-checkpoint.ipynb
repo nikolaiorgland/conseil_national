{
 "cells": [
  {
   "cell_type": "markdown",
   "metadata": {},
   "source": [
    "# NTDS'18 milestone 1: network collection and properties\n",
    "[Effrosyni Simou](https://lts4.epfl.ch/simou), [EPFL LTS4](https://lts4.epfl.ch)"
   ]
  },
  {
   "cell_type": "markdown",
   "metadata": {},
   "source": [
    "##### Students\n",
    "\n",
    "* Team: `44`\n",
    "* Students: `<Silvan Stettler, Diego Debruyn, Yann Morize, Nikolai Orgland>`\n",
    "* Dataset: `<the dataset you used to complete the milestone>`"
   ]
  },
  {
   "cell_type": "markdown",
   "metadata": {},
   "source": [
    "## Rules\n",
    "\n",
    "* Milestones have to be completed by teams. No collaboration between teams is allowed.\n",
    "* Textual answers shall be short. Typically one to three sentences.\n",
    "* Code has to be clean.\n",
    "* You cannot import any other library than we imported.\n",
    "* When submitting, the notebook is executed and the results are stored. I.e., if you open the notebook again it should show numerical results and plots. We won't be able to execute your notebooks.\n",
    "* The notebook is re-executed from a blank state before submission. That is to be sure it is reproducible. You can click \"Kernel\" then \"Restart & Run All\" in Jupyter."
   ]
  },
  {
   "cell_type": "markdown",
   "metadata": {},
   "source": [
    "## Objective "
   ]
  },
  {
   "cell_type": "markdown",
   "metadata": {},
   "source": [
    "The purpose of this milestone is to start getting acquainted to the network that you will use for this class. In the first part of the milestone you will import your data using [Pandas](http://pandas.pydata.org) and you will create the adjacency matrix using [Numpy](http://www.numpy.org). This part is project specific. In the second part you will have to compute some basic properties of your network. **For the computation of the properties you are only allowed to use the packages that have been imported in the cell below.** You are not allowed to use any graph-specific toolboxes for this milestone (such as networkx and PyGSP). Furthermore, the aim is not to blindly compute the network properties, but to also start to think about what kind of network you will be working with this semester. "
   ]
  },
  {
   "cell_type": "code",
   "execution_count": null,
   "metadata": {},
   "outputs": [],
   "source": [
    "import numpy as np\n",
    "import pandas as pd\n",
    "import matplotlib.pyplot as plt\n",
    "%load_ext autoreload\n",
    "%autoreload 2"
   ]
  },
  {
   "cell_type": "markdown",
   "metadata": {},
   "source": [
    "## Part 1 - Import your data and manipulate them. "
   ]
  },
  {
   "cell_type": "markdown",
   "metadata": {},
   "source": [
    "###  A. Load your data in a Panda dataframe."
   ]
  },
  {
   "cell_type": "markdown",
   "metadata": {},
   "source": [
    "First, you should define and understand what are your nodes, what features you have and what are your labels. Please provide below a Panda dataframe where each row corresponds to a node with its features and labels. For example, in the the case of the Free Music Archive (FMA) Project, each row of the dataframe would be of the following form:\n",
    "\n",
    "\n",
    "| Track   |  Feature 1  | Feature 2 | . . . | Feature 518|  Label 1 |  Label 2 |. . .|Label 16|\n",
    "|:-------:|:-----------:|:---------:|:-----:|:----------:|:--------:|:--------:|:---:|:------:|\n",
    "|         |             |           |       |            |          |          |     |        |\n",
    "\n",
    "It is possible that in some of the projects either the features or the labels are not available. This is OK, in that case just make sure that you create a dataframe where each of the rows corresponds to a node and its associated features or labels."
   ]
  },
  {
   "cell_type": "code",
   "execution_count": null,
   "metadata": {},
   "outputs": [],
   "source": [
    "# Your code here.\n",
    "data = pd.read_csv('../data/abdb-de-all-affairs-50-0_new.csv', sep=',',lineterminator='\\n',\n",
    "                   encoding='utf-8',engine='c', low_memory=False)\n",
    "members_cn = pd.read_csv('../data/conseil_national_members.csv')\n",
    "\n",
    "# Need to keep: \n",
    "data = data[['AffairShortId','AffairTitle','VoteDate','CouncillorId','CouncillorName',\n",
    "            'CouncillorYes','CouncillorNo','CouncillorAbstain','CouncillorNotParticipated',\n",
    "            'CouncillorExcused','CouncillorPresident']]\n",
    "\n",
    "data[['VoteDate']] = data[['VoteDate']].apply(lambda x: x.str.slice(4,15))\n",
    "#features = data.loc[:, []] # the pandas dataframe with the features and labels"
   ]
  },
  {
   "cell_type": "code",
   "execution_count": null,
   "metadata": {
    "scrolled": true
   },
   "outputs": [],
   "source": [
    "# Only keep data from councillors that are in office today\n",
    "data = data[data.CouncillorName.isin(members_cn['Name'])]\n",
    "\n",
    "\n",
    "# Delete all votes concerning \"Ordnungsanträge\"\n",
    "data = data[~((data.AffairShortId == 1) | (data.AffairShortId == 2))]\n",
    "\n",
    "# Create list of nodes containing name and Id number of councillor\n",
    "nodes = data[['CouncillorId','CouncillorName']].drop_duplicates(keep='first')\n",
    "\n",
    "# List of all affairs with their Id number. The votes of one affair corresponds to one feature of the nodes\n",
    "affairs = data[['AffairShortId','AffairTitle']].drop_duplicates(keep='first')\n",
    "#affairs = affairs.rename(columns={'index':'feature_idx'})\n",
    "#affairs.shape\n",
    "nodes.shape\n"
   ]
  },
  {
   "cell_type": "code",
   "execution_count": null,
   "metadata": {},
   "outputs": [],
   "source": [
    "# A feature of a node is equal to the vote concerning a certain affair (-> one affair_id represents one feature)\n",
    "# Replace the Affair Ids by a new index (feature index)\n",
    "affairid2feature = affairs[['AffairShortId']]\n",
    "affairid2feature.insert(1,'feature_idx',np.arange(1,affairid2feature.shape[0]+1))\n",
    "affairid2feature = affairid2feature.set_index('AffairShortId')"
   ]
  },
  {
   "cell_type": "code",
   "execution_count": null,
   "metadata": {},
   "outputs": [],
   "source": [
    "from create_network import *\n",
    "\n",
    "# Convert 'Yes','No','Abstain' etc. to a numerical value\n",
    "val_votes = assign_val_to_vote(data)\n",
    "val_votes = val_votes[['CouncillorId','AffairShortId', 'value']]\n",
    "val_votes = val_votes.join(affairid2feature, on='AffairShortId')\n",
    "val_votes = val_votes.drop(columns='AffairShortId')"
   ]
  },
  {
   "cell_type": "code",
   "execution_count": null,
   "metadata": {},
   "outputs": [],
   "source": [
    "# Reduce memory usage\n",
    "val_votes.loc[:,'CouncillorId'] = downcast_column(val_votes, 'CouncillorId','integer')\n",
    "val_votes.loc[:,'value'] = downcast_column(val_votes, 'value','float')\n",
    "val_votes.loc[:,'feature_idx'] = downcast_column(val_votes, 'feature_idx','integer')\n",
    "val_votes = val_votes.set_index('feature_idx')"
   ]
  },
  {
   "cell_type": "code",
   "execution_count": null,
   "metadata": {},
   "outputs": [],
   "source": [
    "# These df containing the complete feature_idx are\n",
    "complete_feat_idx = affairid2feature[['feature_idx']]\n",
    "complete_feat_idx = complete_feat_idx.set_index('feature_idx')\n",
    "\n",
    "# Start the clean dataset with just an index column\n",
    "data_clean = complete_feat_idx\n",
    "\n",
    "for councId in nodes.loc[:,'CouncillorId']:\n",
    "    feature_vec = extract_feature_vec(val_votes, councId, complete_feat_idx)\n",
    "    data_clean = pd.concat([data_clean, feature_vec], axis=1,sort=False)\n"
   ]
  },
  {
   "cell_type": "code",
   "execution_count": null,
   "metadata": {},
   "outputs": [],
   "source": [
    "data_clean.index = data_clean.index.rename('Counc_Id')\n",
    "features = data_clean.T\n",
    "features.head()"
   ]
  },
  {
   "cell_type": "markdown",
   "metadata": {},
   "source": [
    "### B. Create the adjacency matrix of your network."
   ]
  },
  {
   "cell_type": "markdown",
   "metadata": {},
   "source": [
    "Remember that there are edges connecting the attributed nodes that you organized in the dataframe above. The connectivity of the network is captured by the adjacency matrix $W$. If $N$ is the number of nodes, the adjacency matrix is an $N \\times N$ matrix where the value of $W(i,j)$ is the weight of the edge connecting node $i$ to node $j$.  \n",
    "\n",
    "There are two possible scenarios for your adjacency matrix construction, as you already learned in the tutorial by Benjamin:\n",
    "\n",
    "1) The edges are given to you explicitly. In this case you should simply load the file containing the edge information and parse it in order to create your adjacency matrix. See how to do that in the  [graph from edge list]() demo.\n",
    "\n",
    "2) The edges are not given to you. In that case you will have to create a feature graph. In order to do that you will have to chose a distance that will quantify how similar two nodes are based on the values in their corresponding feature vectors. In the [graph from features]() demo Benjamin showed you how to build feature graphs when using Euclidean distances between feature vectors. Be curious and explore other distances as well! For instance, in the case of high-dimensional feature vectors, you might want to consider using the cosine distance. Once you compute the distances between your nodes you will have a fully connected network. Do not forget to sparsify by keeping the most important edges in your network.\n",
    "\n",
    "Follow the appropriate steps for the construction of the adjacency matrix of your network and provide it in the Numpy array ``adjacency`` below: "
   ]
  },
  {
   "cell_type": "code",
   "execution_count": null,
   "metadata": {},
   "outputs": [],
   "source": [
    "featuresfill=features.fillna(0.5)\n",
    "featuresfill=featuresfill.reset_index(drop='true')\n",
    "featuresfill.index.names = ['index']\n",
    "featuresfill.columns.names = ['vote']\n",
    "featuresfill.head()"
   ]
  },
  {
   "cell_type": "code",
   "execution_count": null,
   "metadata": {},
   "outputs": [],
   "source": [
    "\n",
    "\n",
    "# Your code here\n",
    "\n",
    "\n",
    "\n",
    "n_nodes=nodes.shape[0]\n",
    "distances = np.zeros((n_nodes, n_nodes))\n",
    "\n",
    "\n",
    "n_nodes=nodes.shape[0]\n",
    "\n",
    "\n",
    "for i, a in featuresfill.iterrows():\n",
    "    for j, b in featuresfill.iterrows():\n",
    "        dot_product=np.dot(a,b)#computation of distance\n",
    "        distances[i,j]=1-dot_product/(np.linalg.norm(a,2)*np.linalg.norm(b,2))\n",
    "        \n",
    "\n",
    "kernel_width = distances.mean()\n",
    "weights = np.exp(-distances**2 / kernel_width**2)\n",
    "weights[:5,:5]\n",
    "\n",
    "\n",
    "adjacency=weights.copy()"
   ]
  },
  {
   "cell_type": "markdown",
   "metadata": {},
   "source": [
    "## Part 2"
   ]
  },
  {
   "cell_type": "markdown",
   "metadata": {},
   "source": [
    "Execute the cell below to plot the (weighted) adjacency matrix of your network."
   ]
  },
  {
   "cell_type": "code",
   "execution_count": null,
   "metadata": {},
   "outputs": [],
   "source": [
    "plt.spy(adjacency, markersize=0.050000)\n",
    "plt.title('adjacency matrix')\n",
    "plt.imshow(weights, cmap=plt.cm.Blues);\n",
    "plt.colorbar();\n",
    "plt.show()"
   ]
  },
  {
   "cell_type": "markdown",
   "metadata": {},
   "source": [
    "### Question 1\n",
    "\n",
    "What is the maximum number of links $L_{max}$ in a network with $N$ nodes (where $N$ is the number of nodes in your network)? How many links $L$ are there in your collected network? Comment on the sparsity of your network."
   ]
  },
  {
   "cell_type": "code",
   "execution_count": null,
   "metadata": {},
   "outputs": [],
   "source": [
    "# Your code here.\n",
    "Lmax=n_nodes*(n_nodes-1)/2\n",
    "L=(np.count_nonzero(adjacency)-n_nodes)/2\n",
    "print(L/Lmax)\n"
   ]
  },
  {
   "cell_type": "markdown",
   "metadata": {},
   "source": [
    "**Your answer here.**"
   ]
  },
  {
   "cell_type": "markdown",
   "metadata": {},
   "source": [
    "### Question 2\n",
    "\n",
    "Is your graph directed or undirected? If it is directed, convert it to an undirected graph by symmetrizing the adjacency matrix."
   ]
  },
  {
   "cell_type": "markdown",
   "metadata": {},
   "source": [
    "**Your answer here.**"
   ]
  },
  {
   "cell_type": "code",
   "execution_count": null,
   "metadata": {},
   "outputs": [],
   "source": [
    "# Your code here."
   ]
  },
  {
   "cell_type": "markdown",
   "metadata": {},
   "source": [
    "### Question 3\n",
    "\n",
    "In the cell below save the features dataframe and the **symmetrized** adjacency matrix. You can use the Pandas ``to_csv`` to save the ``features`` and Numpy's ``save`` to save the ``adjacency``. We will reuse those in the following milestones."
   ]
  },
  {
   "cell_type": "code",
   "execution_count": null,
   "metadata": {},
   "outputs": [],
   "source": [
    "# Your code here.\n",
    "np.save('adjacency',adjacency)\n",
    "features.to_csv('paunocu.csv', encoding='utf-8')"
   ]
  },
  {
   "cell_type": "markdown",
   "metadata": {},
   "source": [
    "### Question 4\n",
    "\n",
    "Are the edges of your graph weighted?"
   ]
  },
  {
   "cell_type": "markdown",
   "metadata": {},
   "source": [
    "**Yes, they are**"
   ]
  },
  {
   "cell_type": "markdown",
   "metadata": {},
   "source": [
    "### Question 5\n",
    "\n",
    "What is the degree distibution of your network? "
   ]
  },
  {
   "cell_type": "code",
   "execution_count": null,
   "metadata": {},
   "outputs": [],
   "source": [
    "#degree =np.count.nonzeros(adjacency,axis=0)  # Your code here. It should be a numpy array.\n",
    "degree=np.count_nonzero(adjacency,axis=0)\n",
    "assert len(degree) == n_nodes"
   ]
  },
  {
   "cell_type": "markdown",
   "metadata": {},
   "source": [
    "Execute the cell below to see the histogram of the degree distribution."
   ]
  },
  {
   "cell_type": "code",
   "execution_count": null,
   "metadata": {},
   "outputs": [],
   "source": [
    "weights = np.ones_like(degree) / float(n_nodes)\n",
    "plt.hist(degree, weights=weights);"
   ]
  },
  {
   "cell_type": "markdown",
   "metadata": {},
   "source": [
    "What is the average degree?"
   ]
  },
  {
   "cell_type": "code",
   "execution_count": null,
   "metadata": {},
   "outputs": [],
   "source": [
    "# Your code here.\n",
    "average=degree.mean()\n",
    "print(average)"
   ]
  },
  {
   "cell_type": "markdown",
   "metadata": {},
   "source": [
    "### Question 6\n",
    "\n",
    "Comment on the degree distribution of your network."
   ]
  },
  {
   "cell_type": "markdown",
   "metadata": {},
   "source": [
    "**Your answer here.**"
   ]
  },
  {
   "cell_type": "markdown",
   "metadata": {},
   "source": [
    "### Question 7\n",
    "\n",
    "Write a function that takes as input the adjacency matrix of a graph and determines whether the graph is connected or not."
   ]
  },
  {
   "cell_type": "code",
   "execution_count": null,
   "metadata": {},
   "outputs": [],
   "source": [
    "def connected_graph(adjacency):\n",
    "    \"\"\"Determines whether a graph is connected.\n",
    "    \n",
    "    Parameters\n",
    "    ----------\n",
    "    input_adjacency: numpy array\n",
    "        The (weighted) adjacency matrix of a graph.\n",
    "    \n",
    "    Returns\n",
    "    -------\n",
    "    bool\n",
    "        True if the graph is connected, False otherwise.\n",
    "    \"\"\"\n",
    "    \n",
    "    nb_nodes = list(adjacency.shape)[0] \n",
    "    # gives us number of nodes of the adjacency matrix\n",
    "    visited_nodes = []\n",
    "    # here we save the nodes we have visited\n",
    "    waiting_nodes = [0]\n",
    "    # here we save the new neighbouring in a waiting list\n",
    "    \n",
    "    # the while loop visits the new neighbouring nodes until all are visited of the connected part\n",
    "    while waiting_nodes:\n",
    "        # pop shallowest node (first node) from queue     \n",
    "        node = waiting_nodes.pop(0)\n",
    "        # we select the first node of the waiting list \n",
    "        if node not in visited_nodes:\n",
    "            visited_nodes.append(node)\n",
    "            # we add the node as visited\n",
    "            neighbours_array = np.nonzero(adjacency[node,:])\n",
    "            # we get tthe neighbours of the node\n",
    "            neighbours = list(neighbours_array)\n",
    "            neighbours = neighbours[0]\n",
    " \n",
    "            # add neighbours of node to queue (as a list)\n",
    "            for neighbour in neighbours:\n",
    "                waiting_nodes.append(neighbour)  \n",
    "            # we add the new neighbour nodes to the waiting list     \n",
    "                \n",
    "    nb_nodes_found = len(visited_nodes)\n",
    "    # we check if we visited all nodes\n",
    "    \n",
    "    if nb_nodes_found == nb_nodes:\n",
    "        connected =  True\n",
    "    # if we visited all nodes, the network is connected\n",
    "    else:\n",
    "        connected = False\n",
    "    return connected"
   ]
  },
  {
   "cell_type": "markdown",
   "metadata": {},
   "source": [
    "Is your graph connected? Run the ``connected_graph`` function to determine your answer."
   ]
  },
  {
   "cell_type": "code",
   "execution_count": null,
   "metadata": {},
   "outputs": [],
   "source": [
    "connected_graph(adjacency)"
   ]
  },
  {
   "cell_type": "markdown",
   "metadata": {},
   "source": [
    "### Question 8\n",
    "\n",
    "Write a function that extracts the connected components of a graph."
   ]
  },
  {
   "cell_type": "code",
   "execution_count": null,
   "metadata": {},
   "outputs": [],
   "source": [
    "def find_components(adjacency):\n",
    "    \"\"\"Find the connected components of a graph.\n",
    "    \n",
    "    Parameters\n",
    "    ----------\n",
    "    adjacency: numpy array\n",
    "        The (weighted) adjacency matrix of a graph.\n",
    "    \n",
    "    Returns\n",
    "    -------\n",
    "    list of numpy arrays\n",
    "        A list of adjacency matrices, one per connected component.\n",
    "    \"\"\"\n",
    "    nb_nodes = list(adjacency.shape)[0] \n",
    "    # gives us number of nodes of the adjacency matrix\n",
    "    visited_nodes = []\n",
    "    # here we save the nodes we have visited\n",
    "    waiting_nodes = [0]\n",
    "    # here we save the new neighbouring in a waiting list\n",
    "    \n",
    "    # the while loop visits the new neighbouring nodes until all are visited of the connected part\n",
    "    while waiting_nodes:\n",
    "        # pop shallowest node (first node) from queue     \n",
    "        node = waiting_nodes.pop(0)\n",
    "        # we select the first node of the waiting list \n",
    "        if node not in visited_nodes:\n",
    "            visited_nodes.append(node)\n",
    "            # we add the node as visited\n",
    "            neighbours_array = np.nonzero(adjacency[node,:])\n",
    "            # we get tthe neighbours of the node\n",
    "            neighbours = list(neighbours_array)\n",
    "            neighbours = neighbours[0]\n",
    " \n",
    "            # add neighbours of node to queue (as a list)\n",
    "            for neighbour in neighbours:\n",
    "                waiting_nodes.append(neighbour)  \n",
    "            # we add the new neighbour nodes to the waiting list     \n",
    "                \n",
    "    components = visited_nodes\n",
    "    return components"
   ]
  },
  {
   "cell_type": "markdown",
   "metadata": {},
   "source": [
    "How many connected components is your network composed of? What is the size of the largest connected component? Run the ``find_components`` function to determine your answer. "
   ]
  },
  {
   "cell_type": "markdown",
   "metadata": {},
   "source": [
    "**Answer:** As we have only one fully connected network, we only have one large connected component with a size of 200 nodes (which corresponds to the number of members of the national parliament). In the case that we have several distinct connected networks: After finding the first connected component, we would have to select one of the not visited nodes and run our find_component function again in order to find the remaining connected components. "
   ]
  },
  {
   "cell_type": "code",
   "execution_count": null,
   "metadata": {},
   "outputs": [],
   "source": [
    "connected_components = find_components(adjacency)"
   ]
  },
  {
   "cell_type": "code",
   "execution_count": null,
   "metadata": {},
   "outputs": [],
   "source": [
    "size_largest_component = len(connected_components)"
   ]
  },
  {
   "cell_type": "markdown",
   "metadata": {},
   "source": [
    "### Question 9\n",
    "\n",
    "Write a function that takes as input the adjacency matrix and a node (`source`) and returns the length of the shortest path between that node and all nodes in the graph using Dijkstra's algorithm. **For the purposes of this assignment we are interested in the hop distance between nodes, not in the sum of weights. **\n",
    "\n",
    "Hint: You might want to mask the adjacency matrix in the function ``compute_shortest_path_lengths`` in order to make sure you obtain a binary adjacency matrix. "
   ]
  },
  {
   "cell_type": "code",
   "execution_count": null,
   "metadata": {},
   "outputs": [],
   "source": [
    "def compute_shortest_path_lengths(adjacency, source, threshhold):\n",
    "    \"\"\"Compute the shortest path length between a source node and all nodes.\n",
    "    \n",
    "    Parameters\n",
    "    ----------\n",
    "    adjacency: numpy array\n",
    "        The (weighted) adjacency matrix of a graph.\n",
    "    source: int\n",
    "        The source node. A number between 0 and n_nodes-1.\n",
    "    \n",
    "    Returns\n",
    "    -------\n",
    "    list of ints\n",
    "        The length of the shortest path from source to all nodes. Returned list should be of length n_nodes.\n",
    "    \"\"\"\n",
    "    \n",
    "    mask=adjacency>treshhold\n",
    "    masked=mask.astype(np.int)\n",
    "    shortest_path_lengths=np.full(n_nodes, -1) #creating distance list\n",
    "    \n",
    "    np.fill_diagonal(masked, 0) #unconnecting nodes with themselves\n",
    "    temp_row=masked[source,:] #adjacency row of starting point\n",
    "    connected=np.transpose(np.nonzero(temp_row))[:,0] #list of adjacent nodes\n",
    "    waiting=connected.tolist()       #initializing waiting list    \n",
    "    np.put(shortest_path_lengths,connected,1)            #initialize distance list\n",
    "    np.put(shortest_path_lengths,source,0)\n",
    "    i=0\n",
    "    \n",
    "    while (waiting):\n",
    "        n=shortest_path_lengths[waiting[0]]\n",
    "        temp_row=masked[waiting[0],:]\n",
    "        connected=np.transpose(np.nonzero(temp_row))[:,0]\n",
    "        new_connexions=[]\n",
    "        for idx in connected:\n",
    "            if (shortest_path_lengths[idx]==-1):\n",
    "                new_connexions.append(idx)\n",
    "                \n",
    "        np.put(shortest_path_lengths,new_connexions,n+1)\n",
    "        waiting.extend(new_connexions) \n",
    "        waiting.pop(0)\n",
    "        i=i+1\n",
    "    return shortest_path_lengths"
   ]
  },
  {
   "cell_type": "markdown",
   "metadata": {},
   "source": [
    "### Question 10\n",
    "\n",
    "The diameter of the graph is the length of the longest shortest path between any pair of nodes. Use the above developed function to compute the diameter of the graph (or the diameter of the largest connected component of the graph if the graph is not connected). If your graph (or largest connected component) is very large, computing the diameter will take very long. In that case downsample your graph so that it has 1.000 nodes. There are many ways to reduce the size of a graph. For the purposes of this milestone you can chose to randomly select 1.000 nodes. "
   ]
  },
  {
   "cell_type": "code",
   "execution_count": null,
   "metadata": {},
   "outputs": [],
   "source": [
    "D =compute_shortest_path_lengths(adjacency,0,0.7)\n",
    "\n",
    "for i in range(n_nodes-1):\n",
    "    temp=compute_shortest_path_lengths(adjacency,i+1,0.7)\n",
    "    D=np.vstack((D,temp))\n",
    "\n",
    "print(D)"
   ]
  },
  {
   "cell_type": "markdown",
   "metadata": {},
   "source": [
    "### Question 11\n",
    "\n",
    "Write a function that takes as input the adjacency matrix, a path length, and two nodes (`source` and `target`), and returns the number of paths of the given length between them."
   ]
  },
  {
   "cell_type": "code",
   "execution_count": null,
   "metadata": {},
   "outputs": [],
   "source": [
    "def compute_paths(adjacency, source, target, length):\n",
    "    \"\"\"Compute the number of paths of a given length between a source and target node.\n",
    "    \n",
    "    Parameters\n",
    "    ----------\n",
    "    adjacency: numpy array\n",
    "        The (weighted) adjacency matrix of a graph.\n",
    "    source: int\n",
    "        The source node. A number between 0 and n_nodes-1.\n",
    "    target: int\n",
    "        The target node. A number between 0 and n_nodes-1.\n",
    "    length: int\n",
    "        The path length to be considered.\n",
    "    \n",
    "    Returns\n",
    "    -------\n",
    "    int\n",
    "        The number of paths.\n",
    "    \"\"\"\n",
    "    \n",
    "    # Create binary matrix\n",
    "    adj = np.zeros(adjacency.shape)\n",
    "    adj[adjacency > 0] = 1\n",
    "    \n",
    "    adj_pow = np.linalg.matrix_power(adj, length)\n",
    "    n_paths = adj_pow[source,target]\n",
    "    \n",
    "    return n_paths"
   ]
  },
  {
   "cell_type": "markdown",
   "metadata": {},
   "source": [
    "Test your function on 5 pairs of nodes, with different lengths."
   ]
  },
  {
   "cell_type": "code",
   "execution_count": null,
   "metadata": {},
   "outputs": [],
   "source": [
    "print(compute_paths(adjacency, 0, 10, 1))\n",
    "print(compute_paths(adjacency, 0, 10, 2))\n",
    "print(compute_paths(adjacency, 0, 10, 3))\n",
    "print(compute_paths(adjacency, 23, 67, 2))\n",
    "print(compute_paths(adjacency, 15, 93, 4))"
   ]
  },
  {
   "cell_type": "markdown",
   "metadata": {},
   "source": [
    "### Question 12\n",
    "\n",
    "How many paths of length 3 are there in your graph? Hint: calling the `compute_paths` function on every pair of node is not an efficient way to do it."
   ]
  },
  {
   "cell_type": "code",
   "execution_count": null,
   "metadata": {},
   "outputs": [],
   "source": [
    "def compute_total_paths_in_graph(adjacency, length):\n",
    "    # Create binary matrix\n",
    "    adj = np.zeros(adjacency.shape)\n",
    "    adj[adjacency > 0] = 1\n",
    "    \n",
    "    # Raise adjacency to the power of length in order to find all paths of length length \n",
    "    adj_pow = np.linalg.matrix_power(adj, length)\n",
    "    # Only consider upper triangular part of the matrix since we count the path of i to j and j to i as one path\n",
    "    return np.sum(np.triu(adj_pow,0))"
   ]
  },
  {
   "cell_type": "code",
   "execution_count": null,
   "metadata": {},
   "outputs": [],
   "source": [
    "length = 3\n",
    "print(\"The total number of paths of length {0} is {1}\".format(length, compute_total_paths_in_graph(adjacency, length)))"
   ]
  },
  {
   "cell_type": "markdown",
   "metadata": {},
   "source": [
    "### Question 13\n",
    "\n",
    "Write a function that takes as input the adjacency matrix of your graph (or of the largest connected component of your graph) and a node and returns the clustering coefficient of that node. "
   ]
  },
  {
   "cell_type": "code",
   "execution_count": null,
   "metadata": {},
   "outputs": [],
   "source": [
    "def compute_clustering_coefficient(adjacency, node):\n",
    "    \"\"\"Compute the clustering coefficient of a node.\n",
    "    \n",
    "    Parameters\n",
    "    ----------\n",
    "    adjacency: numpy array\n",
    "        The (weighted) adjacency matrix of a graph.\n",
    "    node: int\n",
    "        The node whose clustering coefficient will be computed. A number between 0 and n_nodes-1.\n",
    "    \n",
    "    Returns\n",
    "    -------\n",
    "    float\n",
    "        The clustering coefficient of the node. A number between 0 and 1.\n",
    "    \"\"\"\n",
    "    \n",
    "    # Your code here.\n",
    "    \n",
    "    return clustering_coefficient"
   ]
  },
  {
   "cell_type": "markdown",
   "metadata": {},
   "source": [
    "### Question 14\n",
    "\n",
    "What is the average clustering coefficient of your graph (or of the largest connected component of your graph if your graph is disconnected)? Use the function ``compute_clustering_coefficient`` to determine your answer."
   ]
  },
  {
   "cell_type": "code",
   "execution_count": null,
   "metadata": {},
   "outputs": [],
   "source": [
    "# Your code here."
   ]
  }
 ],
 "metadata": {
  "kernelspec": {
   "display_name": "Python 3",
   "language": "python",
   "name": "python3"
  },
  "language_info": {
   "codemirror_mode": {
    "name": "ipython",
    "version": 3
   },
   "file_extension": ".py",
   "mimetype": "text/x-python",
   "name": "python",
   "nbconvert_exporter": "python",
   "pygments_lexer": "ipython3",
   "version": "3.6.4"
  }
 },
 "nbformat": 4,
 "nbformat_minor": 2
}
