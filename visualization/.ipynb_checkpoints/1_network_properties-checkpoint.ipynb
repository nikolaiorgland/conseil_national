{
 "cells": [
  {
   "cell_type": "markdown",
   "metadata": {},
   "source": [
    "# NTDS'18 milestone 1: network collection and properties\n",
    "[Effrosyni Simou](https://lts4.epfl.ch/simou), [EPFL LTS4](https://lts4.epfl.ch)"
   ]
  },
  {
   "cell_type": "markdown",
   "metadata": {},
   "source": [
    "##### Students\n",
    "\n",
    "* Team: `44`\n",
    "* Students: `<Silvan Stettler, Diego Debruyn, Yann Morize, Nikolai Orgland>`\n",
    "* Dataset: `<the dataset you used to complete the milestone>`"
   ]
  },
  {
   "cell_type": "markdown",
   "metadata": {},
   "source": [
    "## Rules\n",
    "\n",
    "* Milestones have to be completed by teams. No collaboration between teams is allowed.\n",
    "* Textual answers shall be short. Typically one to three sentences.\n",
    "* Code has to be clean.\n",
    "* You cannot import any other library than we imported.\n",
    "* When submitting, the notebook is executed and the results are stored. I.e., if you open the notebook again it should show numerical results and plots. We won't be able to execute your notebooks.\n",
    "* The notebook is re-executed from a blank state before submission. That is to be sure it is reproducible. You can click \"Kernel\" then \"Restart & Run All\" in Jupyter."
   ]
  },
  {
   "cell_type": "markdown",
   "metadata": {},
   "source": [
    "## Objective "
   ]
  },
  {
   "cell_type": "markdown",
   "metadata": {},
   "source": [
    "The purpose of this milestone is to start getting acquainted to the network that you will use for this class. In the first part of the milestone you will import your data using [Pandas](http://pandas.pydata.org) and you will create the adjacency matrix using [Numpy](http://www.numpy.org). This part is project specific. In the second part you will have to compute some basic properties of your network. **For the computation of the properties you are only allowed to use the packages that have been imported in the cell below.** You are not allowed to use any graph-specific toolboxes for this milestone (such as networkx and PyGSP). Furthermore, the aim is not to blindly compute the network properties, but to also start to think about what kind of network you will be working with this semester. "
   ]
  },
  {
   "cell_type": "code",
   "execution_count": 4,
   "metadata": {},
   "outputs": [],
   "source": [
    "import numpy as np\n",
    "import pandas as pd\n",
    "import matplotlib.pyplot as plt\n",
    "%load_ext autoreload\n",
    "%autoreload 2"
   ]
  },
  {
   "cell_type": "markdown",
   "metadata": {},
   "source": [
    "## Part 1 - Import your data and manipulate them. "
   ]
  },
  {
   "cell_type": "markdown",
   "metadata": {},
   "source": [
    "###  A. Load your data in a Panda dataframe."
   ]
  },
  {
   "cell_type": "markdown",
   "metadata": {},
   "source": [
    "First, you should define and understand what are your nodes, what features you have and what are your labels. Please provide below a Panda dataframe where each row corresponds to a node with its features and labels. For example, in the the case of the Free Music Archive (FMA) Project, each row of the dataframe would be of the following form:\n",
    "\n",
    "\n",
    "| Track   |  Feature 1  | Feature 2 | . . . | Feature 518|  Label 1 |  Label 2 |. . .|Label 16|\n",
    "|:-------:|:-----------:|:---------:|:-----:|:----------:|:--------:|:--------:|:---:|:------:|\n",
    "|         |             |           |       |            |          |          |     |        |\n",
    "\n",
    "It is possible that in some of the projects either the features or the labels are not available. This is OK, in that case just make sure that you create a dataframe where each of the rows corresponds to a node and its associated features or labels."
   ]
  },
  {
   "cell_type": "code",
   "execution_count": 5,
   "metadata": {},
   "outputs": [],
   "source": [
    "# Main data file \n",
    "data = pd.read_csv('../data/abdb-de-all-affairs-50-0_new.csv', sep=',',lineterminator='\\n',\n",
    "                   encoding='utf-8',engine='c', low_memory=False)\n",
    "# List of councillors currently in office\n",
    "members_cn = pd.read_csv('../data/conseil_national_members.csv')\n",
    "\n",
    "# Need to keep: \n",
    "data = data[['AffairShortId','AffairTitle','VoteDate','CouncillorId','CouncillorName',\n",
    "            'CouncillorYes','CouncillorNo','CouncillorAbstain','CouncillorNotParticipated',\n",
    "            'CouncillorExcused','CouncillorPresident']]\n",
    "\n",
    "data[['VoteDate']] = data[['VoteDate']].apply(lambda x: x.str.slice(4,15))"
   ]
  },
  {
   "cell_type": "code",
   "execution_count": 6,
   "metadata": {
    "scrolled": true
   },
   "outputs": [],
   "source": [
    "# Only keep data from councillors that are currently in office \n",
    "data = data[data.CouncillorName.isin(members_cn['Name'])]\n",
    "\n",
    "\n",
    "# Delete all votes concerning \"Ordnungsanträge\"\n",
    "data = data[~((data.AffairShortId == 1) | (data.AffairShortId == 2))]\n",
    "\n",
    "# Create list of nodes containing name and Id number of councillor\n",
    "nodes = data[['CouncillorId','CouncillorName']].drop_duplicates(keep='first')\n",
    "\n",
    "# List of all affairs with their Id number. The votes of one affair corresponds to one feature of the nodes\n",
    "affairs = data[['AffairShortId','AffairTitle']].drop_duplicates(keep='first')"
   ]
  },
  {
   "cell_type": "code",
   "execution_count": 7,
   "metadata": {},
   "outputs": [],
   "source": [
    "# A feature of a node is equal to the vote concerning a certain affair (-> one affair_id represents one feature)\n",
    "# Replace the Affair Ids by a new index (feature index)\n",
    "affairid2feature = affairs[['AffairShortId']]\n",
    "affairid2feature.insert(1,'feature_idx',np.arange(1,affairid2feature.shape[0]+1))\n",
    "affairid2feature = affairid2feature.set_index('AffairShortId')"
   ]
  },
  {
   "cell_type": "code",
   "execution_count": 8,
   "metadata": {},
   "outputs": [],
   "source": [
    "from create_network import *\n",
    "\n",
    "# Convert 'Yes','No','Abstain' etc. to a numerical value\n",
    "val_votes = assign_val_to_vote(data)\n",
    "val_votes = val_votes[['CouncillorId','AffairShortId', 'value']]\n",
    "val_votes = val_votes.join(affairid2feature, on='AffairShortId')\n",
    "val_votes = val_votes.drop(columns='AffairShortId')"
   ]
  },
  {
   "cell_type": "code",
   "execution_count": 9,
   "metadata": {},
   "outputs": [],
   "source": [
    "# Reduce memory usage\n",
    "val_votes.loc[:,'CouncillorId'] = downcast_column(val_votes, 'CouncillorId','integer')\n",
    "val_votes.loc[:,'value'] = downcast_column(val_votes, 'value','float')\n",
    "val_votes.loc[:,'feature_idx'] = downcast_column(val_votes, 'feature_idx','integer')\n",
    "val_votes = val_votes.set_index('feature_idx')"
   ]
  },
  {
   "cell_type": "code",
   "execution_count": 10,
   "metadata": {},
   "outputs": [],
   "source": [
    "# Dataframes containing complete feature index\n",
    "complete_feat_idx = affairid2feature[['feature_idx']]\n",
    "complete_feat_idx = complete_feat_idx.set_index('feature_idx')\n",
    "\n",
    "# Start the clean dataset with just an index column\n",
    "data_clean = complete_feat_idx\n",
    "\n",
    "for councId in nodes.loc[:,'CouncillorId']:\n",
    "    feature_vec = extract_feature_vec(val_votes, councId, complete_feat_idx)\n",
    "    data_clean = pd.concat([data_clean, feature_vec], axis=1)\n"
   ]
  },
  {
   "cell_type": "code",
   "execution_count": 11,
   "metadata": {},
   "outputs": [
    {
     "data": {
      "text/html": [
       "<div>\n",
       "<style scoped>\n",
       "    .dataframe tbody tr th:only-of-type {\n",
       "        vertical-align: middle;\n",
       "    }\n",
       "\n",
       "    .dataframe tbody tr th {\n",
       "        vertical-align: top;\n",
       "    }\n",
       "\n",
       "    .dataframe thead th {\n",
       "        text-align: right;\n",
       "    }\n",
       "</style>\n",
       "<table border=\"1\" class=\"dataframe\">\n",
       "  <thead>\n",
       "    <tr style=\"text-align: right;\">\n",
       "      <th>Counc_Id</th>\n",
       "      <th>1</th>\n",
       "      <th>2</th>\n",
       "      <th>3</th>\n",
       "      <th>4</th>\n",
       "      <th>5</th>\n",
       "      <th>6</th>\n",
       "      <th>7</th>\n",
       "      <th>8</th>\n",
       "      <th>9</th>\n",
       "      <th>10</th>\n",
       "      <th>...</th>\n",
       "      <th>1307</th>\n",
       "      <th>1308</th>\n",
       "      <th>1309</th>\n",
       "      <th>1310</th>\n",
       "      <th>1311</th>\n",
       "      <th>1312</th>\n",
       "      <th>1313</th>\n",
       "      <th>1314</th>\n",
       "      <th>1315</th>\n",
       "      <th>1316</th>\n",
       "    </tr>\n",
       "  </thead>\n",
       "  <tbody>\n",
       "    <tr>\n",
       "      <th>3907</th>\n",
       "      <td>0.0</td>\n",
       "      <td>1.0</td>\n",
       "      <td>0.0</td>\n",
       "      <td>1.0</td>\n",
       "      <td>1.0</td>\n",
       "      <td>1.0</td>\n",
       "      <td>1.0</td>\n",
       "      <td>0.0</td>\n",
       "      <td>1.0</td>\n",
       "      <td>0.0</td>\n",
       "      <td>...</td>\n",
       "      <td>0.0</td>\n",
       "      <td>1.0</td>\n",
       "      <td>1.0</td>\n",
       "      <td>0.0</td>\n",
       "      <td>0.5</td>\n",
       "      <td>1.0</td>\n",
       "      <td>1.0</td>\n",
       "      <td>1.0</td>\n",
       "      <td>1.0</td>\n",
       "      <td>1.0</td>\n",
       "    </tr>\n",
       "    <tr>\n",
       "      <th>3923</th>\n",
       "      <td>0.0</td>\n",
       "      <td>1.0</td>\n",
       "      <td>0.5</td>\n",
       "      <td>1.0</td>\n",
       "      <td>1.0</td>\n",
       "      <td>1.0</td>\n",
       "      <td>1.0</td>\n",
       "      <td>0.0</td>\n",
       "      <td>1.0</td>\n",
       "      <td>0.0</td>\n",
       "      <td>...</td>\n",
       "      <td>0.0</td>\n",
       "      <td>1.0</td>\n",
       "      <td>1.0</td>\n",
       "      <td>0.0</td>\n",
       "      <td>0.0</td>\n",
       "      <td>1.0</td>\n",
       "      <td>0.0</td>\n",
       "      <td>1.0</td>\n",
       "      <td>1.0</td>\n",
       "      <td>1.0</td>\n",
       "    </tr>\n",
       "    <tr>\n",
       "      <th>3883</th>\n",
       "      <td>1.0</td>\n",
       "      <td>1.0</td>\n",
       "      <td>1.0</td>\n",
       "      <td>0.5</td>\n",
       "      <td>0.0</td>\n",
       "      <td>1.0</td>\n",
       "      <td>0.0</td>\n",
       "      <td>1.0</td>\n",
       "      <td>1.0</td>\n",
       "      <td>1.0</td>\n",
       "      <td>...</td>\n",
       "      <td>1.0</td>\n",
       "      <td>1.0</td>\n",
       "      <td>0.0</td>\n",
       "      <td>1.0</td>\n",
       "      <td>0.5</td>\n",
       "      <td>0.0</td>\n",
       "      <td>NaN</td>\n",
       "      <td>NaN</td>\n",
       "      <td>NaN</td>\n",
       "      <td>NaN</td>\n",
       "    </tr>\n",
       "    <tr>\n",
       "      <th>3897</th>\n",
       "      <td>1.0</td>\n",
       "      <td>1.0</td>\n",
       "      <td>1.0</td>\n",
       "      <td>0.5</td>\n",
       "      <td>1.0</td>\n",
       "      <td>0.0</td>\n",
       "      <td>1.0</td>\n",
       "      <td>1.0</td>\n",
       "      <td>1.0</td>\n",
       "      <td>1.0</td>\n",
       "      <td>...</td>\n",
       "      <td>1.0</td>\n",
       "      <td>1.0</td>\n",
       "      <td>1.0</td>\n",
       "      <td>1.0</td>\n",
       "      <td>1.0</td>\n",
       "      <td>1.0</td>\n",
       "      <td>0.0</td>\n",
       "      <td>1.0</td>\n",
       "      <td>1.0</td>\n",
       "      <td>1.0</td>\n",
       "    </tr>\n",
       "    <tr>\n",
       "      <th>3902</th>\n",
       "      <td>1.0</td>\n",
       "      <td>1.0</td>\n",
       "      <td>1.0</td>\n",
       "      <td>0.0</td>\n",
       "      <td>0.0</td>\n",
       "      <td>1.0</td>\n",
       "      <td>1.0</td>\n",
       "      <td>0.5</td>\n",
       "      <td>0.5</td>\n",
       "      <td>0.5</td>\n",
       "      <td>...</td>\n",
       "      <td>1.0</td>\n",
       "      <td>1.0</td>\n",
       "      <td>0.0</td>\n",
       "      <td>1.0</td>\n",
       "      <td>1.0</td>\n",
       "      <td>0.5</td>\n",
       "      <td>1.0</td>\n",
       "      <td>0.0</td>\n",
       "      <td>0.0</td>\n",
       "      <td>0.0</td>\n",
       "    </tr>\n",
       "  </tbody>\n",
       "</table>\n",
       "<p>5 rows × 1316 columns</p>\n",
       "</div>"
      ],
      "text/plain": [
       "Counc_Id  1     2     3     4     5     6     7     8     9     10    ...   \\\n",
       "3907       0.0   1.0   0.0   1.0   1.0   1.0   1.0   0.0   1.0   0.0  ...    \n",
       "3923       0.0   1.0   0.5   1.0   1.0   1.0   1.0   0.0   1.0   0.0  ...    \n",
       "3883       1.0   1.0   1.0   0.5   0.0   1.0   0.0   1.0   1.0   1.0  ...    \n",
       "3897       1.0   1.0   1.0   0.5   1.0   0.0   1.0   1.0   1.0   1.0  ...    \n",
       "3902       1.0   1.0   1.0   0.0   0.0   1.0   1.0   0.5   0.5   0.5  ...    \n",
       "\n",
       "Counc_Id  1307  1308  1309  1310  1311  1312  1313  1314  1315  1316  \n",
       "3907       0.0   1.0   1.0   0.0   0.5   1.0   1.0   1.0   1.0   1.0  \n",
       "3923       0.0   1.0   1.0   0.0   0.0   1.0   0.0   1.0   1.0   1.0  \n",
       "3883       1.0   1.0   0.0   1.0   0.5   0.0   NaN   NaN   NaN   NaN  \n",
       "3897       1.0   1.0   1.0   1.0   1.0   1.0   0.0   1.0   1.0   1.0  \n",
       "3902       1.0   1.0   0.0   1.0   1.0   0.5   1.0   0.0   0.0   0.0  \n",
       "\n",
       "[5 rows x 1316 columns]"
      ]
     },
     "execution_count": 11,
     "metadata": {},
     "output_type": "execute_result"
    }
   ],
   "source": [
    "data_clean.index = data_clean.index.rename('Counc_Id')\n",
    "data_clean = data_clean.T\n",
    "data_clean.head()"
   ]
  },
  {
   "cell_type": "code",
   "execution_count": 12,
   "metadata": {},
   "outputs": [
    {
     "data": {
      "text/html": [
       "<div>\n",
       "<style scoped>\n",
       "    .dataframe tbody tr th:only-of-type {\n",
       "        vertical-align: middle;\n",
       "    }\n",
       "\n",
       "    .dataframe tbody tr th {\n",
       "        vertical-align: top;\n",
       "    }\n",
       "\n",
       "    .dataframe thead th {\n",
       "        text-align: right;\n",
       "    }\n",
       "</style>\n",
       "<table border=\"1\" class=\"dataframe\">\n",
       "  <thead>\n",
       "    <tr style=\"text-align: right;\">\n",
       "      <th>features</th>\n",
       "      <th>1</th>\n",
       "      <th>2</th>\n",
       "      <th>3</th>\n",
       "      <th>4</th>\n",
       "      <th>5</th>\n",
       "      <th>6</th>\n",
       "      <th>7</th>\n",
       "      <th>8</th>\n",
       "      <th>9</th>\n",
       "      <th>10</th>\n",
       "      <th>...</th>\n",
       "      <th>1307</th>\n",
       "      <th>1308</th>\n",
       "      <th>1309</th>\n",
       "      <th>1310</th>\n",
       "      <th>1311</th>\n",
       "      <th>1312</th>\n",
       "      <th>1313</th>\n",
       "      <th>1314</th>\n",
       "      <th>1315</th>\n",
       "      <th>1316</th>\n",
       "    </tr>\n",
       "    <tr>\n",
       "      <th>node_id</th>\n",
       "      <th></th>\n",
       "      <th></th>\n",
       "      <th></th>\n",
       "      <th></th>\n",
       "      <th></th>\n",
       "      <th></th>\n",
       "      <th></th>\n",
       "      <th></th>\n",
       "      <th></th>\n",
       "      <th></th>\n",
       "      <th></th>\n",
       "      <th></th>\n",
       "      <th></th>\n",
       "      <th></th>\n",
       "      <th></th>\n",
       "      <th></th>\n",
       "      <th></th>\n",
       "      <th></th>\n",
       "      <th></th>\n",
       "      <th></th>\n",
       "      <th></th>\n",
       "    </tr>\n",
       "  </thead>\n",
       "  <tbody>\n",
       "    <tr>\n",
       "      <th>0</th>\n",
       "      <td>0.0</td>\n",
       "      <td>1.0</td>\n",
       "      <td>0.0</td>\n",
       "      <td>1.0</td>\n",
       "      <td>1.0</td>\n",
       "      <td>1.0</td>\n",
       "      <td>1.0</td>\n",
       "      <td>0.0</td>\n",
       "      <td>1.0</td>\n",
       "      <td>0.0</td>\n",
       "      <td>...</td>\n",
       "      <td>0.0</td>\n",
       "      <td>1.0</td>\n",
       "      <td>1.0</td>\n",
       "      <td>0.0</td>\n",
       "      <td>0.5</td>\n",
       "      <td>1.0</td>\n",
       "      <td>1.0</td>\n",
       "      <td>1.0</td>\n",
       "      <td>1.0</td>\n",
       "      <td>1.0</td>\n",
       "    </tr>\n",
       "    <tr>\n",
       "      <th>1</th>\n",
       "      <td>0.0</td>\n",
       "      <td>1.0</td>\n",
       "      <td>0.5</td>\n",
       "      <td>1.0</td>\n",
       "      <td>1.0</td>\n",
       "      <td>1.0</td>\n",
       "      <td>1.0</td>\n",
       "      <td>0.0</td>\n",
       "      <td>1.0</td>\n",
       "      <td>0.0</td>\n",
       "      <td>...</td>\n",
       "      <td>0.0</td>\n",
       "      <td>1.0</td>\n",
       "      <td>1.0</td>\n",
       "      <td>0.0</td>\n",
       "      <td>0.0</td>\n",
       "      <td>1.0</td>\n",
       "      <td>0.0</td>\n",
       "      <td>1.0</td>\n",
       "      <td>1.0</td>\n",
       "      <td>1.0</td>\n",
       "    </tr>\n",
       "    <tr>\n",
       "      <th>2</th>\n",
       "      <td>1.0</td>\n",
       "      <td>1.0</td>\n",
       "      <td>1.0</td>\n",
       "      <td>0.5</td>\n",
       "      <td>0.0</td>\n",
       "      <td>1.0</td>\n",
       "      <td>0.0</td>\n",
       "      <td>1.0</td>\n",
       "      <td>1.0</td>\n",
       "      <td>1.0</td>\n",
       "      <td>...</td>\n",
       "      <td>1.0</td>\n",
       "      <td>1.0</td>\n",
       "      <td>0.0</td>\n",
       "      <td>1.0</td>\n",
       "      <td>0.5</td>\n",
       "      <td>0.0</td>\n",
       "      <td>0.5</td>\n",
       "      <td>0.5</td>\n",
       "      <td>0.5</td>\n",
       "      <td>0.5</td>\n",
       "    </tr>\n",
       "    <tr>\n",
       "      <th>3</th>\n",
       "      <td>1.0</td>\n",
       "      <td>1.0</td>\n",
       "      <td>1.0</td>\n",
       "      <td>0.5</td>\n",
       "      <td>1.0</td>\n",
       "      <td>0.0</td>\n",
       "      <td>1.0</td>\n",
       "      <td>1.0</td>\n",
       "      <td>1.0</td>\n",
       "      <td>1.0</td>\n",
       "      <td>...</td>\n",
       "      <td>1.0</td>\n",
       "      <td>1.0</td>\n",
       "      <td>1.0</td>\n",
       "      <td>1.0</td>\n",
       "      <td>1.0</td>\n",
       "      <td>1.0</td>\n",
       "      <td>0.0</td>\n",
       "      <td>1.0</td>\n",
       "      <td>1.0</td>\n",
       "      <td>1.0</td>\n",
       "    </tr>\n",
       "    <tr>\n",
       "      <th>4</th>\n",
       "      <td>1.0</td>\n",
       "      <td>1.0</td>\n",
       "      <td>1.0</td>\n",
       "      <td>0.0</td>\n",
       "      <td>0.0</td>\n",
       "      <td>1.0</td>\n",
       "      <td>1.0</td>\n",
       "      <td>0.5</td>\n",
       "      <td>0.5</td>\n",
       "      <td>0.5</td>\n",
       "      <td>...</td>\n",
       "      <td>1.0</td>\n",
       "      <td>1.0</td>\n",
       "      <td>0.0</td>\n",
       "      <td>1.0</td>\n",
       "      <td>1.0</td>\n",
       "      <td>0.5</td>\n",
       "      <td>1.0</td>\n",
       "      <td>0.0</td>\n",
       "      <td>0.0</td>\n",
       "      <td>0.0</td>\n",
       "    </tr>\n",
       "  </tbody>\n",
       "</table>\n",
       "<p>5 rows × 1316 columns</p>\n",
       "</div>"
      ],
      "text/plain": [
       "features  1     2     3     4     5     6     7     8     9     10    ...   \\\n",
       "node_id                                                               ...    \n",
       "0          0.0   1.0   0.0   1.0   1.0   1.0   1.0   0.0   1.0   0.0  ...    \n",
       "1          0.0   1.0   0.5   1.0   1.0   1.0   1.0   0.0   1.0   0.0  ...    \n",
       "2          1.0   1.0   1.0   0.5   0.0   1.0   0.0   1.0   1.0   1.0  ...    \n",
       "3          1.0   1.0   1.0   0.5   1.0   0.0   1.0   1.0   1.0   1.0  ...    \n",
       "4          1.0   1.0   1.0   0.0   0.0   1.0   1.0   0.5   0.5   0.5  ...    \n",
       "\n",
       "features  1307  1308  1309  1310  1311  1312  1313  1314  1315  1316  \n",
       "node_id                                                               \n",
       "0          0.0   1.0   1.0   0.0   0.5   1.0   1.0   1.0   1.0   1.0  \n",
       "1          0.0   1.0   1.0   0.0   0.0   1.0   0.0   1.0   1.0   1.0  \n",
       "2          1.0   1.0   0.0   1.0   0.5   0.0   0.5   0.5   0.5   0.5  \n",
       "3          1.0   1.0   1.0   1.0   1.0   1.0   0.0   1.0   1.0   1.0  \n",
       "4          1.0   1.0   0.0   1.0   1.0   0.5   1.0   0.0   0.0   0.0  \n",
       "\n",
       "[5 rows x 1316 columns]"
      ]
     },
     "execution_count": 12,
     "metadata": {},
     "output_type": "execute_result"
    }
   ],
   "source": [
    "# People elected during the current legislature did not participate in a part of the votes and thus have NA for those\n",
    "# features. Ideally, these features (dimensions) are ignored when computing the distance between two nodes but for now \n",
    "# we count these as 'not participated', thus 0.5.\n",
    "features = data_clean.fillna(0.5)\n",
    "# Rename row and column index\n",
    "features = features.reset_index(drop='true')\n",
    "features.index.names = ['node_id']\n",
    "features.columns.names = ['features']\n",
    "features.head()"
   ]
  },
  {
   "cell_type": "markdown",
   "metadata": {},
   "source": [
    "### B. Create the adjacency matrix of your network."
   ]
  },
  {
   "cell_type": "markdown",
   "metadata": {},
   "source": [
    "Remember that there are edges connecting the attributed nodes that you organized in the dataframe above. The connectivity of the network is captured by the adjacency matrix $W$. If $N$ is the number of nodes, the adjacency matrix is an $N \\times N$ matrix where the value of $W(i,j)$ is the weight of the edge connecting node $i$ to node $j$.  \n",
    "\n",
    "There are two possible scenarios for your adjacency matrix construction, as you already learned in the tutorial by Benjamin:\n",
    "\n",
    "1) The edges are given to you explicitly. In this case you should simply load the file containing the edge information and parse it in order to create your adjacency matrix. See how to do that in the  [graph from edge list]() demo.\n",
    "\n",
    "2) The edges are not given to you. In that case you will have to create a feature graph. In order to do that you will have to chose a distance that will quantify how similar two nodes are based on the values in their corresponding feature vectors. In the [graph from features]() demo Benjamin showed you how to build feature graphs when using Euclidean distances between feature vectors. Be curious and explore other distances as well! For instance, in the case of high-dimensional feature vectors, you might want to consider using the cosine distance. Once you compute the distances between your nodes you will have a fully connected network. Do not forget to sparsify by keeping the most important edges in your network.\n",
    "\n",
    "Follow the appropriate steps for the construction of the adjacency matrix of your network and provide it in the Numpy array ``adjacency`` below: "
   ]
  },
  {
   "cell_type": "code",
   "execution_count": 13,
   "metadata": {},
   "outputs": [],
   "source": [
    "# Number of nodes in the graph\n",
    "n_nodes=nodes.shape[0]\n",
    "\n",
    "# Initialize distances matrix\n",
    "distances = np.zeros((n_nodes, n_nodes))\n",
    "\n",
    "# Distance calculation. Due to the high dimensional data (> 1300 dimensions) the cosine distance is chosen\n",
    "for i, a in features.iterrows():\n",
    "    for j, b in features.iterrows():\n",
    "        dot_product=np.dot(a,b)\n",
    "        distances[i,j]=1-dot_product/(np.linalg.norm(a,2)*np.linalg.norm(b,2))\n",
    "\n",
    "# Weights (gaussian) are assigned to each link based on the distance  \n",
    "kernel_width = distances.mean()\n",
    "weights = np.exp(-distances**2 / kernel_width**2)\n",
    "\n",
    "# Set main diagonal to zero (No self-loops)\n",
    "np.fill_diagonal(weights,0)\n",
    "\n",
    "# Weighted adjacency matrix\n",
    "adjacency=weights.copy()"
   ]
  },
  {
   "cell_type": "markdown",
   "metadata": {},
   "source": [
    "## Part 2"
   ]
  },
  {
   "cell_type": "markdown",
   "metadata": {},
   "source": [
    "Execute the cell below to plot the (weighted) adjacency matrix of your network."
   ]
  },
  {
   "cell_type": "code",
   "execution_count": 14,
   "metadata": {},
   "outputs": [
    {
     "data": {
      "image/png": "[encoded data removed]",
      "text/plain": [
       "<Figure size 432x288 with 2 Axes>"
      ]
     },
     "metadata": {},
     "output_type": "display_data"
    }
   ],
   "source": [
    "plt.spy(adjacency, markersize=0.050000)\n",
    "plt.title('adjacency matrix')\n",
    "plt.imshow(weights, cmap=plt.cm.Blues);\n",
    "plt.colorbar();\n",
    "plt.show()"
   ]
  },
  {
   "cell_type": "markdown",
   "metadata": {},
   "source": [
    "### Question 1\n",
    "\n",
    "What is the maximum number of links $L_{max}$ in a network with $N$ nodes (where $N$ is the number of nodes in your network)? How many links $L$ are there in your collected network? Comment on the sparsity of your network."
   ]
  },
  {
   "cell_type": "markdown",
   "metadata": {},
   "source": [
    "**Since a gaussian funtion to compute the weights for each link, even councillors with very different voting patterns (distance close to one) are linked. In order to get meaningful results for the remaining questions, we feel that it is necessary to create and unweighted, binary matrix. This is acheived by eliminating all links with weights below a certain threshold (setting the corresponding entry in the adjacency to 0) and keeping the ones with weights stronger than the threshold (setting the corresponding in the adjacency to 1)** "
   ]
  },
  {
   "cell_type": "code",
   "execution_count": 15,
   "metadata": {},
   "outputs": [],
   "source": [
    "threshold = 0.5\n",
    "\n",
    "adjacency_binary = np.zeros(adjacency.shape)\n",
    "adjacency_binary[adjacency > threshold] = 1\n",
    "\n",
    "# Weighted adjacency matrix:                      adjacency\n",
    "# Binary adjacency matrix with threshold applied: adjacency_binary"
   ]
  },
  {
   "cell_type": "code",
   "execution_count": 16,
   "metadata": {},
   "outputs": [
    {
     "name": "stdout",
     "output_type": "stream",
     "text": [
      "Sparsity of our network: L/Lmax = 0.37613065326633166\n"
     ]
    }
   ],
   "source": [
    "# Theoretical maximum number of links in a network with n_nodes\n",
    "Lmax=n_nodes*(n_nodes-1)/2\n",
    "# Number of links in our network \n",
    "L=(np.count_nonzero(adjacency_binary))/2\n",
    "print(\"Sparsity of our network: L/Lmax = {0}\".format(L/Lmax))"
   ]
  },
  {
   "cell_type": "markdown",
   "metadata": {},
   "source": [
    "Since a gaussian funtion to compute the weights for each link, even councillors with very different voting patterns (distance close to one) are linked. Even though the weight of the link is weak in that case, the link still exists and thus the network contains the maximum number of links $L_{max}$. "
   ]
  },
  {
   "cell_type": "markdown",
   "metadata": {},
   "source": [
    "### Question 2\n",
    "\n",
    "Is your graph directed or undirected? If it is directed, convert it to an undirected graph by symmetrizing the adjacency matrix."
   ]
  },
  {
   "cell_type": "markdown",
   "metadata": {},
   "source": [
    "**Your answer here.**"
   ]
  },
  {
   "cell_type": "markdown",
   "metadata": {},
   "source": [
    "Our matrix is undirected "
   ]
  },
  {
   "cell_type": "markdown",
   "metadata": {},
   "source": [
    "### Question 3\n",
    "\n",
    "In the cell below save the features dataframe and the **symmetrized** adjacency matrix. You can use the Pandas ``to_csv`` to save the ``features`` and Numpy's ``save`` to save the ``adjacency``. We will reuse those in the following milestones."
   ]
  },
  {
   "cell_type": "code",
   "execution_count": 17,
   "metadata": {},
   "outputs": [],
   "source": [
    "# Your code here.\n",
    "np.save('adjacency',adjacency)\n",
    "features.to_csv('paunocu.csv', encoding='utf-8')"
   ]
  },
  {
   "cell_type": "markdown",
   "metadata": {},
   "source": [
    "### Question 4\n",
    "\n",
    "Are the edges of your graph weighted?"
   ]
  },
  {
   "cell_type": "markdown",
   "metadata": {},
   "source": [
    "**Yes, they are**"
   ]
  },
  {
   "cell_type": "markdown",
   "metadata": {},
   "source": [
    "### Question 5\n",
    "\n",
    "What is the degree distibution of your network? "
   ]
  },
  {
   "cell_type": "code",
   "execution_count": 18,
   "metadata": {},
   "outputs": [],
   "source": [
    "# For this question we will consider both the weighted adjacency matrix and the binary adjacency matrix\n",
    "k_i = np.sum(adjacency,axis=1)\n",
    "k_i.sort()\n",
    "\n",
    "k_i_binary = np.sum(adjacency_binary, axis=1)\n",
    "k_i_binary.sort()"
   ]
  },
  {
   "cell_type": "markdown",
   "metadata": {},
   "source": [
    "Execute the cell below to see the histogram of the degree distribution."
   ]
  },
  {
   "cell_type": "code",
   "execution_count": 19,
   "metadata": {},
   "outputs": [
    {
     "data": {
      "text/plain": [
       "Text(0.5, 1.0, 'Degree distribution (binary adjacency)')"
      ]
     },
     "execution_count": 19,
     "metadata": {},
     "output_type": "execute_result"
    },
    {
     "data": {
      "image/png": "[encoded data removed]",
      "text/plain": [
       "<Figure size 864x432 with 2 Axes>"
      ]
     },
     "metadata": {},
     "output_type": "display_data"
    }
   ],
   "source": [
    "plt.figure(figsize=(12, 6))\n",
    "\n",
    "plt.subplot(121)\n",
    "plt.hist(k_i, bins=70, density=True)\n",
    "plt.grid(True)\n",
    "plt.xlabel('Degree $k$')\n",
    "plt.ylabel('Probability')\n",
    "plt.title('Degree distribution (weighted adjacency)')\n",
    "plt.subplot(122)\n",
    "plt.hist(k_i_binary, bins=70, density=True)\n",
    "plt.grid(True)\n",
    "plt.xlabel('Degree $k$')\n",
    "plt.ylabel('Probability')\n",
    "plt.title('Degree distribution (binary adjacency)')"
   ]
  },
  {
   "cell_type": "markdown",
   "metadata": {},
   "source": [
    "What is the average degree?"
   ]
  },
  {
   "cell_type": "code",
   "execution_count": 20,
   "metadata": {},
   "outputs": [
    {
     "name": "stdout",
     "output_type": "stream",
     "text": [
      "The average degree of a node in the weighted network is 88.1\n",
      "The average degree of a node in the unweighted network is 74.8\n"
     ]
    }
   ],
   "source": [
    "print(\"The average degree of a node in the weighted network is %.1f\" %(np.mean(k_i)))\n",
    "print(\"The average degree of a node in the unweighted network is %.1f\" %(np.mean(k_i_binary)))"
   ]
  },
  {
   "cell_type": "markdown",
   "metadata": {},
   "source": [
    "### Question 6\n",
    "\n",
    "Comment on the degree distribution of your network."
   ]
  },
  {
   "cell_type": "markdown",
   "metadata": {},
   "source": [
    "***On the plot of the weighted adjacency matrix: We can clearly see two distincts peaks separated by 20 degrees k on an scale of 200. \n",
    "On the plot with the binary adjacency: we now have only one peak around 70 (locations of the first peaks from previous plot) and the peak is at p=0.09 (slightly higher thant the first peak from pevious plot).\n",
    "One possible analysis would be that by doing a threshold on the second plot, we removed loads of ''low weighted connexions''. As people situated in the center of the political polarisation most likely have medium weighted connections with many people (= high k), they are probably the nodes that create the second peak in the node distribution of the weighted matrix. However, since a large part of the links are not that strong, they are deleted when applying a threshold and thus it makes sense that highest peak disapears.***"
   ]
  },
  {
   "cell_type": "markdown",
   "metadata": {},
   "source": [
    "### Question 7\n",
    "\n",
    "Write a function that takes as input the adjacency matrix of a graph and determines whether the graph is connected or not."
   ]
  },
  {
   "cell_type": "code",
   "execution_count": 21,
   "metadata": {},
   "outputs": [],
   "source": [
    "def connected_graph(adjacency):\n",
    "    \"\"\"Determines whether a graph is connected.\n",
    "    \n",
    "    Parameters\n",
    "    ----------\n",
    "    input_adjacency: numpy array\n",
    "        The (weighted) adjacency matrix of a graph.\n",
    "    \n",
    "    Returns\n",
    "    -------\n",
    "    bool\n",
    "        True if the graph is connected, False otherwise.\n",
    "    \"\"\"\n",
    "    \n",
    "    nb_nodes = list(adjacency.shape)[0] \n",
    "    # gives us number of nodes of the adjacency matrix\n",
    "    \n",
    "    visited_nodes = []\n",
    "    # here we save the nodes we have visited\n",
    "    \n",
    "    waiting_nodes = [0]\n",
    "    # here we save the new neighbouring in a waiting list\n",
    "    \n",
    "    # the while loop visits the new neighbouring nodes until all are visited of the connected part\n",
    "    while waiting_nodes:\n",
    "        # pop shallowest node (first node) from queue     \n",
    "        node = waiting_nodes.pop(0)\n",
    "        # we select the first node of the waiting list \n",
    "        if node not in visited_nodes:\n",
    "            visited_nodes.append(node)\n",
    "            # we add the node as visited\n",
    "            \n",
    "            neighbours_array = np.nonzero(adjacency[node,:])\n",
    "            # we get tthe neighbours of the node\n",
    "            neighbours = list(neighbours_array)\n",
    "            neighbours = neighbours[0]\n",
    " \n",
    "            # add neighbours of node to queue (as a list)\n",
    "            for neighbour in neighbours:\n",
    "                waiting_nodes.append(neighbour)  \n",
    "            # we add the new neighbour nodes to the waiting list     \n",
    "                \n",
    "    nb_nodes_found = len(visited_nodes)\n",
    "    # we check if we visited all nodes\n",
    "    \n",
    "    if nb_nodes_found == nb_nodes:\n",
    "        connected =  True\n",
    "    # if we visited all nodes, the network is connected\n",
    "    else:\n",
    "        connected = False\n",
    "    return connected"
   ]
  },
  {
   "cell_type": "markdown",
   "metadata": {},
   "source": [
    "Is your graph connected? Run the ``connected_graph`` function to determine your answer."
   ]
  },
  {
   "cell_type": "code",
   "execution_count": 22,
   "metadata": {},
   "outputs": [
    {
     "name": "stdout",
     "output_type": "stream",
     "text": [
      "Connectivity of the graph: True\n"
     ]
    }
   ],
   "source": [
    "print(\"Connectivity of the graph: {0}\".format(connected_graph(adjacency_binary)))"
   ]
  },
  {
   "cell_type": "markdown",
   "metadata": {},
   "source": [
    "### Question 8\n",
    "\n",
    "Write a function that extracts the connected components of a graph."
   ]
  },
  {
   "cell_type": "code",
   "execution_count": 23,
   "metadata": {},
   "outputs": [],
   "source": [
    "def find_components(adjacency):\n",
    "    \n",
    "    \"\"\"Find the connected components of a graph.\n",
    "    \n",
    "    Parameters\n",
    "    ----------\n",
    "    adjacency: numpy array\n",
    "        The (weighted) adjacency matrix of a graph.\n",
    "    \n",
    "    Returns\n",
    "    -------\n",
    "    list of numpy arrays\n",
    "        A list of adjacency matrices, one per connected component.\n",
    "    \"\"\"\n",
    "    adjacency_list = list()\n",
    "    nb_connected_components = 0\n",
    "    \n",
    "    # We get the number of nodes of the adjacency matrix\n",
    "    nb_nodes = adjacency.shape[0]\n",
    "    \n",
    "    # We save the nodes we have visited\n",
    "    visited_nodes = []\n",
    "    \n",
    "    # We save the nodes we still need to visit\n",
    "    nodes_to_visit = list(range(nb_nodes))\n",
    "    \n",
    "    while len(visited_nodes) < nb_nodes:\n",
    "        visited_nodes_current_comp = []\n",
    "        # Here we save the new neighbouring nodes in a waiting list\n",
    "        waiting_nodes = [nodes_to_visit[0]]\n",
    "\n",
    "        # The while loop visits the new neighbouring nodes until all are visited of the connected part\n",
    "        \n",
    "        while waiting_nodes:\n",
    "            # We select the first node of the waiting list    \n",
    "            node = waiting_nodes.pop(0)\n",
    "            \n",
    "            if node not in visited_nodes:\n",
    "                # We add the node as visited\n",
    "                visited_nodes.append(node)\n",
    "                visited_nodes_current_comp.append(node)\n",
    "                # We get the neighbours of the node\n",
    "                neighbours_array = np.nonzero(adjacency[node,:])\n",
    "                neighbours = list(neighbours_array)\n",
    "                neighbours = neighbours[0]\n",
    "\n",
    "                # We add the new neighbour nodes to the waiting list   \n",
    "                for neighbour in neighbours:\n",
    "                    waiting_nodes.append(neighbour)  \n",
    "                    \n",
    "        # We sort and save the nodes we have found in this connected component\n",
    "        connected_component = sorted(visited_nodes_current_comp)\n",
    "        nb_nodes_found = len(connected_component)\n",
    "\n",
    "        # We construct the adjacency matrix of this connected component\n",
    "        adjacency_connected_component = np.zeros((nb_nodes_found, nb_nodes_found))\n",
    "        for idx, node_id in enumerate(connected_component):\n",
    "            adjacency_connected_component[idx,:] = adjacency[node_id,[connected_component]]\n",
    "        \n",
    "        # We add this adjacency matrix to our list of adjacency matrices\n",
    "        adjacency_list.append(adjacency_connected_component)\n",
    "        \n",
    "        # We get the remaining nodes that are not connected to this coumpound\n",
    "        nodes_to_visit = (list(set(nodes_to_visit) - set(visited_nodes))) \n",
    "        \n",
    "    \n",
    "    return adjacency_list"
   ]
  },
  {
   "cell_type": "markdown",
   "metadata": {},
   "source": [
    "How many connected components is your network composed of? What is the size of the largest connected component? Run the ``find_components`` function to determine your answer. "
   ]
  },
  {
   "cell_type": "markdown",
   "metadata": {},
   "source": [
    "**Answer:** As we have only one fully connected network, **we only have one large connected component** with a size of 200 nodes (which corresponds to the number of members of the national parliament). \n",
    "\n",
    "In the **hypotethical case that we would have several distinct connected networks (eg.  with a higher threshold when constructing the binary adjacency matrix) :** After finding the first connected component, we have to select one of the not visited nodes search the other remaining connected networks. This task is also coded in our find_components function, even if this case does not apply for our network."
   ]
  },
  {
   "cell_type": "code",
   "execution_count": 24,
   "metadata": {},
   "outputs": [
    {
     "name": "stdout",
     "output_type": "stream",
     "text": [
      "Our network consist of 1 connected component(s)\n"
     ]
    }
   ],
   "source": [
    "ad_matrices = find_components(adjacency_binary)\n",
    "nb_connected_components = len(ad_matrices)\n",
    "print(\"Our network consist of %d connected component(s)\" %nb_connected_components)"
   ]
  },
  {
   "cell_type": "code",
   "execution_count": 25,
   "metadata": {},
   "outputs": [
    {
     "name": "stdout",
     "output_type": "stream",
     "text": [
      "The largest component consists of 200 nodes\n"
     ]
    }
   ],
   "source": [
    "print(\"The largest component consists of %d nodes\" % np.max([len(ad_comp) for ad_comp in ad_matrices]))"
   ]
  },
  {
   "cell_type": "markdown",
   "metadata": {},
   "source": [
    "### Question 9\n",
    "\n",
    "Write a function that takes as input the adjacency matrix and a node (`source`) and returns the length of the shortest path between that node and all nodes in the graph using Dijkstra's algorithm. **For the purposes of this assignment we are interested in the hop distance between nodes, not in the sum of weights. **\n",
    "\n",
    "Hint: You might want to mask the adjacency matrix in the function ``compute_shortest_path_lengths`` in order to make sure you obtain a binary adjacency matrix. "
   ]
  },
  {
   "cell_type": "code",
   "execution_count": 26,
   "metadata": {},
   "outputs": [],
   "source": [
    "def compute_shortest_path_lengths(adjacency, source):\n",
    "    \n",
    "    #initialize list of unvisited nodes    \n",
    "    nodes_list=list(range(0, n_nodes)) \n",
    "    #previous node in order to achieve shortest path\n",
    "    prev=[None]*n_nodes\n",
    "    # distance to each node\n",
    "    dist=[float('inf')]*n_nodes\n",
    "    # 0 distance to itself\n",
    "    dist[source]=0 \n",
    "\n",
    "    #algorithm continues as long waiting list is not empty\n",
    "    while(nodes_list):\n",
    "        #find closest node u from waiting list and removes it\n",
    "        u_idx=np.argmin(np.take(dist,nodes_list)) \n",
    "        u=nodes_list[u_idx]\n",
    "        nodes_list.remove(u)\n",
    "\n",
    "        #find adjacent nodes,v to u\n",
    "        temp_row=adjacency[u,:]\n",
    "        connected=np.transpose(np.nonzero(temp_row))[:,0]\n",
    "        #if path from source to v trough u is shorter than shortest known path to v it replaces it.\n",
    "        for v in connected:\n",
    "            alt=dist[u]+distances[u,v]\n",
    "            if alt<dist[v]:\n",
    "                #prev tacks last node of the smallest path\n",
    "                prev[v]=u\n",
    "                dist[v]=alt   \n",
    "                \n",
    "    shortest_path_lengths = dist\n",
    "    return shortest_path_lengths"
   ]
  },
  {
   "cell_type": "markdown",
   "metadata": {},
   "source": [
    "### Question 10\n",
    "\n",
    "The diameter of the graph is the length of the longest shortest path between any pair of nodes. Use the above developed function to compute the diameter of the graph (or the diameter of the largest connected component of the graph if the graph is not connected). If your graph (or largest connected component) is very large, computing the diameter will take very long. In that case downsample your graph so that it has 1.000 nodes. There are many ways to reduce the size of a graph. For the purposes of this milestone you can chose to randomly select 1.000 nodes. "
   ]
  },
  {
   "cell_type": "code",
   "execution_count": 27,
   "metadata": {},
   "outputs": [
    {
     "name": "stdout",
     "output_type": "stream",
     "text": [
      "0.7310677170753479\n"
     ]
    }
   ],
   "source": [
    "D = compute_shortest_path_lengths(adjacency,0)\n",
    "\n",
    "for i in range(n_nodes-1):\n",
    "    temp=compute_shortest_path_lengths(adjacency,i+1)\n",
    "    D=np.vstack((D,temp))\n",
    "\n",
    "diameter=np.amax(D)\n",
    "print(diameter)"
   ]
  },
  {
   "cell_type": "markdown",
   "metadata": {},
   "source": [
    "### Question 11\n",
    "\n",
    "Write a function that takes as input the adjacency matrix, a path length, and two nodes (`source` and `target`), and returns the number of paths of the given length between them."
   ]
  },
  {
   "cell_type": "code",
   "execution_count": null,
   "metadata": {},
   "outputs": [],
   "source": [
    "def compute_paths(adjacency, source, target, length):\n",
    "    \"\"\"Compute the number of paths of a given length between a source and target node.\n",
    "    \n",
    "    Parameters\n",
    "    ----------\n",
    "    adjacency: numpy array\n",
    "        The (weighted) adjacency matrix of a graph.\n",
    "    source: int\n",
    "        The source node. A number between 0 and n_nodes-1.\n",
    "    target: int\n",
    "        The target node. A number between 0 and n_nodes-1.\n",
    "    length: int\n",
    "        The path length to be considered.\n",
    "    \n",
    "    Returns\n",
    "    -------\n",
    "    int\n",
    "        The number of paths.\n",
    "    \"\"\"\n",
    "    adj_pow = np.linalg.matrix_power(adjacency, length)\n",
    "    n_paths = adj_pow[source,target]\n",
    "    \n",
    "    return n_paths"
   ]
  },
  {
   "cell_type": "markdown",
   "metadata": {},
   "source": [
    "Test your function on 5 pairs of nodes, with different lengths."
   ]
  },
  {
   "cell_type": "code",
   "execution_count": null,
   "metadata": {},
   "outputs": [],
   "source": [
    "print(compute_paths(adjacency_binary, 0, 10, 1))\n",
    "print(compute_paths(adjacency_binary, 0, 10, 2))\n",
    "print(compute_paths(adjacency_binary, 0, 10, 3))\n",
    "print(compute_paths(adjacency_binary, 23, 67, 2))\n",
    "print(compute_paths(adjacency_binary, 15, 93, 4))"
   ]
  },
  {
   "cell_type": "markdown",
   "metadata": {},
   "source": [
    "### Question 12\n",
    "\n",
    "How many paths of length 3 are there in your graph? Hint: calling the `compute_paths` function on every pair of node is not an efficient way to do it."
   ]
  },
  {
   "cell_type": "code",
   "execution_count": null,
   "metadata": {},
   "outputs": [],
   "source": [
    "def compute_total_paths_in_graph(adjacency, length):\n",
    "    # Raise adjacency to the power of length in order to find all paths of length length \n",
    "    adj_pow = np.linalg.matrix_power(adjacency, length)\n",
    "    # Only consider upper triangular part of the matrix since we count the path of i to j and j to i as one path\n",
    "    return np.sum(np.triu(adj_pow,0))"
   ]
  },
  {
   "cell_type": "code",
   "execution_count": null,
   "metadata": {},
   "outputs": [],
   "source": [
    "length = 3\n",
    "print(\"The total number of paths of length {0} is {1}\".format(length, compute_total_paths_in_graph(adjacency_binary, length)))"
   ]
  },
  {
   "cell_type": "markdown",
   "metadata": {},
   "source": [
    "### Question 13\n",
    "\n",
    "Write a function that takes as input the adjacency matrix of your graph (or of the largest connected component of your graph) and a node and returns the clustering coefficient of that node. "
   ]
  },
  {
   "cell_type": "code",
   "execution_count": null,
   "metadata": {},
   "outputs": [],
   "source": [
    "def compute_clustering_coefficient(adjacency, node):\n",
    "    \"\"\"Compute the clustering coefficient of a node.\n",
    "    \n",
    "    Parameters\n",
    "    ----------\n",
    "    adjacency: numpy array\n",
    "        The (weighted) adjacency matrix of a graph.\n",
    "    node: int\n",
    "        The node whose clustering coefficient will be computed. A number between 0 and n_nodes-1.\n",
    "    \n",
    "    Returns\n",
    "    -------\n",
    "    float\n",
    "        The clustering coefficient of the node. A number between 0 and 1.\n",
    "    \"\"\"\n",
    "    \n",
    "    Li=0\n",
    "    \n",
    "    #Counts the number of neighbours of 'node' \n",
    "    ki= np.count_nonzero(adjacency[node,:])\n",
    "    \n",
    "    #creates a vector with all the neighbours of 'node'\n",
    "    idx_neighbour_nodes = np.nonzero(adjacency[node,:])                   \n",
    "    idx_neighbour_nodes = list(idx_neighbour_nodes[0])                    \n",
    "    \n",
    "    #all the potential connexions between the neighbours of 'node'\n",
    "    for i in range(len(idx_neighbour_nodes)):\n",
    "        for j in range(i,len(idx_neighbour_nodes)): \n",
    "            #test if theses nodes are actually connected\n",
    "            if adjacency[idx_neighbour_nodes[i],idx_neighbour_nodes[j]]>0:\n",
    "                Li=Li+1\n",
    "            else: continue\n",
    "    \n",
    "    if (ki > 0) & (ki < 1):\n",
    "        clustering_coefficient=0\n",
    "    else :\n",
    "        clustering_coefficient= (2*Li)/(ki*(ki-1))\n",
    "\n",
    "    \n",
    "    return clustering_coefficient"
   ]
  },
  {
   "cell_type": "markdown",
   "metadata": {},
   "source": [
    "### Question 14\n",
    "\n",
    "What is the average clustering coefficient of your graph (or of the largest connected component of your graph if your graph is disconnected)? Use the function ``compute_clustering_coefficient`` to determine your answer."
   ]
  },
  {
   "cell_type": "code",
   "execution_count": null,
   "metadata": {},
   "outputs": [],
   "source": [
    "c_i = [compute_clustering_coefficient(adjacency_binary, node) for node in range(n_nodes) ]\n",
    "print(\"The average clustering coefficient of our graph is {0}\".format(np.mean(c_i)))"
   ]
  }
 ],
 "metadata": {
  "kernelspec": {
   "display_name": "Python 3",
   "language": "python",
   "name": "python3"
  },
  "language_info": {
   "codemirror_mode": {
    "name": "ipython",
    "version": 3
   },
   "file_extension": ".py",
   "mimetype": "text/x-python",
   "name": "python",
   "nbconvert_exporter": "python",
   "pygments_lexer": "ipython3",
   "version": "3.6.6"
  }
 },
 "nbformat": 4,
 "nbformat_minor": 2
}
