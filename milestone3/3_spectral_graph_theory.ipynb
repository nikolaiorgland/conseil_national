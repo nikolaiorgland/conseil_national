{
 "cells": [
  {
   "cell_type": "markdown",
   "metadata": {},
   "source": [
    "# [NTDS'18] milestone 3: spectral graph theory\n",
    "[ntds'18]: https://github.com/mdeff/ntds_2018\n",
    "\n",
    "[Michaël Defferrard](http://deff.ch), [EPFL LTS2](https://lts2.epfl.ch)"
   ]
  },
  {
   "cell_type": "markdown",
   "metadata": {},
   "source": [
    "## Students\n",
    "\n",
    "* Team: 44\n",
    "* Students: Nikolai Orgland, Diego Debruyn, Yann Morize, Silvan Stettler\n",
    "* Dataset: Swiss National Council"
   ]
  },
  {
   "cell_type": "markdown",
   "metadata": {},
   "source": [
    "## Rules\n",
    "\n",
    "* Milestones have to be completed by teams. No collaboration between teams is allowed.\n",
    "* Textual answers shall be short. Typically one to two sentences.\n",
    "* Code has to be clean.\n",
    "* You cannot import any other library than we imported.\n",
    "* When submitting, the notebook is executed and the results are stored. I.e., if you open the notebook again it should show numerical results and plots. We won't be able to execute your notebooks.\n",
    "* The notebook is re-executed from a blank state before submission. That is to be sure it is reproducible. You can click \"Kernel\" then \"Restart & Run All\" in Jupyter."
   ]
  },
  {
   "cell_type": "markdown",
   "metadata": {},
   "source": [
    "## Objective\n",
    "\n",
    "The goal of this milestone is to get familiar with the graph Laplacian and its spectral decomposition."
   ]
  },
  {
   "cell_type": "markdown",
   "metadata": {},
   "source": [
    "## 0 Load your network"
   ]
  },
  {
   "cell_type": "code",
   "execution_count": 1,
   "metadata": {},
   "outputs": [],
   "source": [
    "%matplotlib inline\n",
    "import numpy as np\n",
    "\n",
    "# Weighted adjacency matrix\n",
    "adjacency_weighted = np.load(\"adjacency.npy\")\n",
    "\n",
    "# Binary matrices created using different thresholds\n",
    "filenames = [\"adjacency_0.1\", \"adjacency_0.3\", \"adjacency_0.5\", \"adjacency_0.7\", \"adjacency_0.9\"]\n",
    "\n",
    "adjacencies_binary =  [np.load(file+\".npy\") for file in filenames]\n",
    "n_nodes =  np.asarray([a.shape[0] for a in adjacencies_binary])\n",
    "n_edges =  np.asarray([np.sum(a)/2 for a in adjacencies_binary])\n",
    "thresholds = np.linspace(0.1, 0.9, 5)"
   ]
  },
  {
   "cell_type": "markdown",
   "metadata": {},
   "source": [
    "If you get a `No module named 'sklearn'` error when running the below cell, install [scikit-learn](https://scikit-learn.org) with `conda install scikit-learn` (after activating the `ntds_2018` environment)."
   ]
  },
  {
   "cell_type": "code",
   "execution_count": 2,
   "metadata": {},
   "outputs": [],
   "source": [
    "from scipy import sparse\n",
    "import scipy.sparse.linalg\n",
    "import matplotlib.pyplot as plt\n",
    "from sklearn.cluster import KMeans"
   ]
  },
  {
   "cell_type": "markdown",
   "metadata": {},
   "source": [
    "Let's denote your graph as $\\mathcal{G} = (\\mathcal{V}, \\mathcal{E}, A)$, where $\\mathcal{V}$ is the set of nodes, $\\mathcal{E}$ is the set of edges, $A \\in \\mathbb{R}^{N \\times N}$ is the (weighted) adjacency matrix, and $N = |\\mathcal{V}|$ is the number of nodes.\n",
    "\n",
    "Import the adjacency matrix $A$ that you constructed in the first milestone.\n",
    "(You're allowed to update it between milestones if you want to.)"
   ]
  },
  {
   "cell_type": "code",
   "execution_count": 3,
   "metadata": {},
   "outputs": [],
   "source": [
    "adjacency =  adjacency_weighted\n",
    "n_nodes =  adjacency_weighted.shape[0]"
   ]
  },
  {
   "cell_type": "markdown",
   "metadata": {},
   "source": [
    "## 1 Graph Laplacian"
   ]
  },
  {
   "cell_type": "markdown",
   "metadata": {},
   "source": [
    "### Question 1\n",
    "\n",
    "From the (weighted) adjacency matrix $A$, compute both the combinatorial (also called unnormalized) and the normalized graph Laplacian matrices.\n",
    "\n",
    "Note: if your graph is weighted, use the weighted adjacency matrix. If not, use the binary adjacency matrix.\n",
    "\n",
    "For efficient storage and computation, store these sparse matrices in a [compressed sparse row (CSR) format](https://en.wikipedia.org/wiki/Sparse_matrix#Compressed_sparse_row_.28CSR.2C_CRS_or_Yale_format.29)."
   ]
  },
  {
   "cell_type": "code",
   "execution_count": 4,
   "metadata": {},
   "outputs": [],
   "source": [
    "k_i = np.sum(adjacency, axis=1)\n",
    "\n",
    "row = np.arange(200)  # row coordinates\n",
    "col = np.arange(200)  # column coordinates\n",
    "D = sparse.coo_matrix((k_i, (row, col)), shape=(200,200))\n",
    "D_sqrt = D.power(-0.5).toarray()\n",
    "laplacian_combinatorial_array =  D.toarray()-adjacency \n",
    "laplacian_normalized_array =  D_sqrt @ laplacian_combinatorial_array @ D_sqrt "
   ]
  },
  {
   "cell_type": "code",
   "execution_count": 5,
   "metadata": {},
   "outputs": [],
   "source": [
    "# Store matrix in crs format\n",
    "laplacian_combinatorial = scipy.sparse.csr_matrix(laplacian_combinatorial_array)\n",
    "laplacian_normalized = scipy.sparse.csr_matrix(laplacian_normalized_array)"
   ]
  },
  {
   "cell_type": "markdown",
   "metadata": {},
   "source": [
    "Use one of them as the graph Laplacian $L$ for the rest of the milestone.\n",
    "We however encourage you to run the code with both to get a sense of the difference!"
   ]
  },
  {
   "cell_type": "code",
   "execution_count": 6,
   "metadata": {},
   "outputs": [],
   "source": [
    "laplacian =  laplacian_normalized"
   ]
  },
  {
   "cell_type": "markdown",
   "metadata": {},
   "source": [
    "### Question 2\n",
    "\n",
    "Compute the eigendecomposition of the Laplacian $L = U^\\top \\Lambda U$, where the columns $u_k \\in \\mathbb{R}^N$ of $U = [u_1, \\dots, u_N] \\in \\mathbb{R}^{N \\times N}$ are the eigenvectors and the diagonal elements $\\lambda_k = \\Lambda_{kk}$ are the corresponding eigenvalues.\n",
    "\n",
    "Make sure that the eigenvalues are ordered, i.e., $0 = \\lambda_1 \\leq \\lambda_2 \\leq \\dots \\leq \\lambda_N$."
   ]
  },
  {
   "cell_type": "code",
   "execution_count": 7,
   "metadata": {},
   "outputs": [],
   "source": [
    "L=laplacian.toarray()"
   ]
  },
  {
   "cell_type": "code",
   "execution_count": 8,
   "metadata": {},
   "outputs": [
    {
     "name": "stdout",
     "output_type": "stream",
     "text": [
      "The eigendeconmosition is correct: True\n"
     ]
    }
   ],
   "source": [
    "vals, vecs = np.linalg.eigh(L)\n",
    "#eigenvalues are already sorted with this function\n",
    "D = np.diag(vals)\n",
    "#Test to verify eigendecomposition was done correctly\n",
    "TEST = np.allclose(L,np.matrix(vecs) @ np.matrix(D) @ np.matrix(np.transpose(vecs)))\n",
    "\n",
    "eigenvalues =  np.round(vals,10)\n",
    "eigenvectors =  np.round(vecs,10)\n",
    "\n",
    "assert eigenvectors.shape == (n_nodes, n_nodes)\n",
    "print('The eigendeconmosition is correct: {0:}'.format(TEST))"
   ]
  },
  {
   "cell_type": "markdown",
   "metadata": {},
   "source": [
    "Justify your choice of eigensolver."
   ]
  },
  {
   "cell_type": "markdown",
   "metadata": {},
   "source": [
    "**We used numpy because spars format coudn't compute with a k higher than 198...**"
   ]
  },
  {
   "cell_type": "markdown",
   "metadata": {},
   "source": [
    "### Question 3\n",
    "\n",
    "We can write $L = S S^\\top$. What is the matrix $S$? What does $S^\\top x$, with $x \\in \\mathbb{R}^N$, compute?"
   ]
  },
  {
   "cell_type": "markdown",
   "metadata": {},
   "source": [
    "**S is the incidence matrix. $S^Tx$ gives us the gradient of x.**"
   ]
  },
  {
   "cell_type": "markdown",
   "metadata": {},
   "source": [
    "### Question 4\n",
    "\n",
    "Show that $\\lambda_k = \\| S^\\top u_k \\|_2^2$, where $\\| \\cdot \\|_2^2$ denotes the squared Euclidean norm (a.k.a. squared $L^2$ norm)."
   ]
  },
  {
   "cell_type": "markdown",
   "metadata": {},
   "source": [
    "**Considering the eigendecomposition of L**"
   ]
  },
  {
   "cell_type": "markdown",
   "metadata": {},
   "source": [
    "**$\\lambda_k = u_k^\\top L u_k = u_k^\\top S S^\\top u_k = (S^\\top u_k)^\\top (S^\\top u_k) = \\| S^\\top u_k \\|_2^2$**"
   ]
  },
  {
   "cell_type": "markdown",
   "metadata": {},
   "source": [
    "What does the quantity $\\| S^\\top x \\|_2^2$ tell us about $x$?"
   ]
  },
  {
   "cell_type": "markdown",
   "metadata": {},
   "source": [
    "### Question 5\n",
    "\n",
    "What is the value of $u_0$, both for the combinatorial and normalized Laplacians?"
   ]
  },
  {
   "cell_type": "markdown",
   "metadata": {},
   "source": [
    "**$u_0$ is called the constant vector. As we can see on the plots below: the first eigenvector for the combinatorial Laplacian is constant. However the one for Normalized Laplacian has some small fluctuations. We think that this is due to approximations by computing the inverse roots of D given the very small fluctuations.**"
   ]
  },
  {
   "cell_type": "code",
   "execution_count": 15,
   "metadata": {},
   "outputs": [
    {
     "name": "stdout",
     "output_type": "stream",
     "text": [
      "Difference between max and min values of u0_norm = 0.03179\n"
     ]
    },
    {
     "data": {
      "text/plain": [
       "Text(0.5,1,'Eigenvector u0 from L combinatorial')"
      ]
     },
     "execution_count": 15,
     "metadata": {},
     "output_type": "execute_result"
    },
    {
     "data": {
      "image/png": "[encoded data removed]",
      "text/plain": [
       "<matplotlib.figure.Figure at 0x1ca7dbc2fd0>"
      ]
     },
     "metadata": {},
     "output_type": "display_data"
    }
   ],
   "source": [
    "valsnorm, vecsnorm = np.linalg.eigh(laplacian_normalized_array)\n",
    "valscomb, vecscomb = np.linalg.eigh(laplacian_combinatorial_array)\n",
    "\n",
    "deviation = (np.max(vecsnorm[:,0]))-(np.min (vecsnorm[:,0]))\n",
    "print('Difference between max and min values of u0_norm = {0:.5f}'.format(deviation))\n",
    "\n",
    "plt.figure(figsize=(12, 6))\n",
    "\n",
    "plt.subplot(121)\n",
    "plt.plot(row, vecsnorm[:,0])\n",
    "plt.grid(True)\n",
    "plt.xlabel('values')\n",
    "plt.ylabel('u0_norm')\n",
    "plt.title('Eigenvector u0 from L normalized')\n",
    "plt.subplot(122)\n",
    "plt.plot(row, vecscomb[:,0])\n",
    "plt.grid(True)\n",
    "plt.xlabel('values')\n",
    "plt.ylabel('u0_comb')\n",
    "plt.title('Eigenvector u0 from L combinatorial')\n"
   ]
  },
  {
   "cell_type": "markdown",
   "metadata": {},
   "source": [
    "### Question 6\n",
    "\n",
    "Look at the spectrum of the Laplacian by plotting the eigenvalues.\n",
    "Comment on what you observe."
   ]
  },
  {
   "cell_type": "code",
   "execution_count": 10,
   "metadata": {},
   "outputs": [
    {
     "data": {
      "image/png": "[encoded data removed]",
      "text/plain": [
       "<matplotlib.figure.Figure at 0x1ca7af1f8d0>"
      ]
     },
     "metadata": {},
     "output_type": "display_data"
    }
   ],
   "source": [
    "plt.figure(figsize=(20, 10))\n",
    "plt.bar(row, eigenvalues)\n",
    "plt.xlabel('x')\n",
    "plt.ylabel('eigenvalues')\n",
    "plt.title('Eigenvalues')\n",
    "plt.show()"
   ]
  },
  {
   "cell_type": "markdown",
   "metadata": {},
   "source": [
    "**There is one single minimum eigenvalue which is 0. Then the eigenvalues converge very fast to 1. There are two eigenvalues between 0 and 0.8. All the rest are very close to 1.**"
   ]
  },
  {
   "cell_type": "markdown",
   "metadata": {},
   "source": [
    "How many connected components are there in your graph? Answer using the eigenvalues only."
   ]
  },
  {
   "cell_type": "code",
   "execution_count": 11,
   "metadata": {},
   "outputs": [
    {
     "name": "stdout",
     "output_type": "stream",
     "text": [
      "The graph has 1 connected component(s)\n"
     ]
    }
   ],
   "source": [
    "connect = np.count_nonzero(eigenvalues == 0)\n",
    "print (\"The graph has {} connected component(s)\".format(connect)) "
   ]
  },
  {
   "cell_type": "markdown",
   "metadata": {},
   "source": [
    "Is there an upper bound on the eigenvalues, i.e., what is the largest possible eigenvalue? Answer for both the combinatorial and normalized Laplacians."
   ]
  },
  {
   "cell_type": "markdown",
   "metadata": {},
   "source": [
    "**We have for the largest eigenvalue of the Normalized Laplacian: $\\lambda_{N-1}= \\frac{N}{N-1}$ for a complete graph and $\\lambda_{N-1}=2$ for a bipartite graph. As see in the next cell our $\\lambda_{N-1}$ is way closer to a complete graphe thant to a bipartite one.**"
   ]
  },
  {
   "cell_type": "code",
   "execution_count": 12,
   "metadata": {},
   "outputs": [
    {
     "name": "stdout",
     "output_type": "stream",
     "text": [
      "N/(N-1) = 1.005\n",
      "lambda_norm max = 1.015\n",
      "Bipartie = 2\n",
      "\n",
      "Indeed: 1.005 < 1.015 < 2\n"
     ]
    }
   ],
   "source": [
    "Complete_norm = n_nodes/(n_nodes-1)\n",
    "lamb_norm = max (valsnorm)\n",
    "Bipartite_norm= 2\n",
    "print('N/(N-1) = {0:.3f}'.format(Complete_norm))\n",
    "print('lambda_norm max = {0:.3f}'.format(lamb_norm))\n",
    "print('Bipartie = {0}'.format(Bipartite_norm))\n",
    "print()\n",
    "print(\"Indeed: {0:.3f} < {1:.3f} < {2}\" .format(Complete_norm, lamb_norm,Bipartite_norm))"
   ]
  },
  {
   "cell_type": "markdown",
   "metadata": {},
   "source": [
    "**For the combinatorial Laplacian: $\\lambda_{N-1}= \\frac{N}{N-1}*\\Delta(G)$ for a complete graph and $\\lambda_{N-1}=2*\\Delta(G)$ for a bipartite graph. With $\\Delta(G)=max (k_i).$**"
   ]
  },
  {
   "cell_type": "code",
   "execution_count": 16,
   "metadata": {},
   "outputs": [
    {
     "name": "stdout",
     "output_type": "stream",
     "text": [
      "N/(N-1)*∆(G) = 118.587\n",
      "lambda_comb max = 118.734728\n",
      "Bipartie = 235.988\n",
      "\n",
      "Indeed: 118.587 < 118.735 < 235.988\n"
     ]
    }
   ],
   "source": [
    "Complete_comb=n_nodes/(n_nodes-1)* max(k_i)\n",
    "lamb_comb = max (valscomb)\n",
    "Bipartite_comb= 2*max(k_i)\n",
    "print('N/(N-1)*∆(G) = {0:.3f}'.format(Complete_comb))\n",
    "print('lambda_comb max = {0:3f}'.format(lamb_comb))\n",
    "print(\"Bipartie = {0:.3f}\".format(Bipartite_comb))\n",
    "print()\n",
    "print(\"Indeed: {0:.3f} < {1:.3f} < {2:.3f}\".format(Complete_comb, lamb_comb,Bipartite_comb))\n"
   ]
  },
  {
   "cell_type": "markdown",
   "metadata": {},
   "source": [
    "## 3 Laplacian eigenmaps\n",
    "\n",
    "*Laplacian eigenmaps* is a method to embed a graph $\\mathcal{G}$ in a $d$-dimensional Euclidean space.\n",
    "That is, it associates a vector $z_i \\in \\mathbb{R}^d$ to every node $v_i \\in \\mathcal{V}$.\n",
    "The graph $\\mathcal{G}$ is thus embedded as $Z \\in \\mathbb{R}^{N \\times d}$."
   ]
  },
  {
   "cell_type": "markdown",
   "metadata": {},
   "source": [
    "### Question 7\n",
    "\n",
    "What do we use Laplacian eigenmaps for? (Or more generally, graph embeddings.)"
   ]
  },
  {
   "cell_type": "markdown",
   "metadata": {},
   "source": [
    "**Your answer here.**"
   ]
  },
  {
   "cell_type": "markdown",
   "metadata": {},
   "source": [
    "### Question 8\n",
    "\n",
    "Embed your graph in $d=2$ dimensions with Laplacian eigenmaps.\n",
    "Try with and without re-normalizing the eigenvectors by the degrees, then keep the one your prefer.\n",
    "\n",
    "**Recompute** the eigenvectors you need with a partial eigendecomposition method for sparse matrices.\n",
    "When $k \\ll N$ eigenvectors are needed, partial eigendecompositions are much more efficient than complete eigendecompositions.\n",
    "A partial eigendecomposition scales as $\\Omega(k |\\mathcal{E}|$), while a complete eigendecomposition costs $\\mathcal{O}(N^3)$ operations."
   ]
  },
  {
   "cell_type": "code",
   "execution_count": null,
   "metadata": {},
   "outputs": [],
   "source": [
    "# Your code here."
   ]
  },
  {
   "cell_type": "markdown",
   "metadata": {},
   "source": [
    "Plot the nodes embedded in 2D. Comment on what you see."
   ]
  },
  {
   "cell_type": "code",
   "execution_count": null,
   "metadata": {},
   "outputs": [],
   "source": [
    "# Your code here."
   ]
  },
  {
   "cell_type": "markdown",
   "metadata": {},
   "source": [
    "**Your answer here.**"
   ]
  },
  {
   "cell_type": "markdown",
   "metadata": {},
   "source": [
    "### Question 9"
   ]
  },
  {
   "cell_type": "markdown",
   "metadata": {},
   "source": [
    "What does the embedding $Z \\in \\mathbb{R}^{N \\times d}$ preserve?"
   ]
  },
  {
   "cell_type": "markdown",
   "metadata": {},
   "source": [
    "**Your answer here.**"
   ]
  },
  {
   "cell_type": "markdown",
   "metadata": {},
   "source": [
    "## 2 Spectral clustering\n",
    "\n",
    "*Spectral clustering* is a method to partition a graph into distinct clusters.\n",
    "The method associates a feature vector $z_i \\in \\mathbb{R}^d$ to every node $v_i \\in \\mathcal{V}$, then runs [$k$-means](https://en.wikipedia.org/wiki/K-means_clustering) in the embedding space $\\mathbb{R}^d$ to assign each node $v_i \\in \\mathcal{V}$ to a cluster $c_j \\in \\mathcal{C}$, where $k = |\\mathcal{C}|$ is the number of desired clusters."
   ]
  },
  {
   "cell_type": "markdown",
   "metadata": {},
   "source": [
    "### Question 10\n",
    "\n",
    "Choose $k$ and $d$. How did you get to those numbers?"
   ]
  },
  {
   "cell_type": "markdown",
   "metadata": {},
   "source": [
    "**Your answer here.**"
   ]
  },
  {
   "cell_type": "markdown",
   "metadata": {},
   "source": [
    "### Question 11\n",
    "\n",
    "1. Embed your graph in $\\mathbb{R}^d$ as $Z \\in \\mathbb{R}^{N \\times d}$.\n",
    "   Try with and without re-normalizing the eigenvectors by the degrees, then keep the one your prefer.\n",
    "1. If you want $k=2$ clusters, partition with the Fiedler vector. For $k > 2$ clusters, run $k$-means on $Z$. Don't implement $k$-means, use the `KMeans` class imported from scikit-learn."
   ]
  },
  {
   "cell_type": "code",
   "execution_count": null,
   "metadata": {},
   "outputs": [],
   "source": []
  },
  {
   "cell_type": "code",
   "execution_count": null,
   "metadata": {},
   "outputs": [],
   "source": [
    "#Fiedler vecotr\n",
    "plt.figure()\n",
    "plt.title('Fiedler vector')\n",
    "plt.plot(row, vecs[:,1]/k_i)\n",
    "\n",
    "#2D embedding\n",
    "fig, ax = plt.subplots()\n",
    "test=vecs[:,1]<0\n",
    "\n",
    "graph_d_3=vecs[:,0:3]\n",
    "graph_d_3_norm=vecs[:,0:3]*np.power([D[1,1],D[2,2],D[3,3]],1/2)\n",
    "ax.plot(graph_d_3[:,1],graph_d_3[:,2],'*g',label='regular')\n",
    "ax.plot(graph_d_3_norm[:,1],graph_d_3_norm[:,2],'*r',label='re-normalizing')\n",
    "plt.title('2D embeding')\n",
    "ax.legend()\n",
    "\n",
    "#Importing parties\n",
    "real_clus=np.load('clustering.npy')\n",
    "gauche=(real_clus == -1)\n",
    "droite=(real_clus == 1)\n",
    "\n",
    "#Clustering\n",
    "fig, (ax1, ax2) = plt.subplots(nrows=1,ncols=2, sharey=True)\n",
    "\n",
    "ax1.plot(graph_d_3[test,1],graph_d_3[test,2],'*b',label='cluster 1')\n",
    "ax1.plot(graph_d_3[~test,1],graph_d_3[~test,2],'*r',label='cluster 2')\n",
    "#plt.axes().set_aspect('equal', 'datalim')\n",
    "ax1.legend()\n",
    "\n",
    "ax2.plot(graph_d_3[gauche,1],graph_d_3[gauche,2],'*r',label='gauche')\n",
    "ax2.plot(graph_d_3[droite,1],graph_d_3[droite,2],'*b',label='droite')\n",
    "ax2.plot(graph_d_3[~(gauche|droite),1],graph_d_3[~(gauche|droite),2],'*y',label='reste')\n",
    "ax2.legend()\n",
    "#plt.axes().set_aspect('equal', 'datalim')\n",
    "\n",
    "#three clusters\n",
    "fig, (ax1, ax2) = plt.subplots(nrows=1,ncols=2, sharey=True)\n",
    "clustering = KMeans(n_clusters=3,random_state=0).fit(graph_d_3)\n",
    "group1=(clustering.labels_==0)\n",
    "group2=(clustering.labels_==1)\n",
    "group3=(clustering.labels_==2)\n",
    "\n",
    "\n",
    "ax1.plot(graph_d_3[group1,1],graph_d_3[group1,2],'*g',label='cluster 1')\n",
    "ax1.plot(graph_d_3[group2,1],graph_d_3[group2,2],'*b',label='cluster 2')\n",
    "ax1.plot(graph_d_3[group3,1],graph_d_3[group3,2],'*r',label='cluster 3')\n",
    "#plt.axes().set_aspect('equal', 'datalim')\n",
    "ax1.legend()\n",
    "\n",
    "ax2.plot(graph_d_3[gauche,1],graph_d_3[gauche,2],'*b',label='gauche')\n",
    "ax2.plot(graph_d_3[droite,1],graph_d_3[droite,2],'*r',label='droite')\n",
    "ax2.plot(graph_d_3[~(gauche|droite),1],graph_d_3[~(gauche|droite),2],'*y',label='reste')\n",
    "ax2.legend()\n",
    "\n",
    "\n",
    "print(graph_d_3.shape)"
   ]
  },
  {
   "cell_type": "markdown",
   "metadata": {},
   "source": [
    "### Question 12\n",
    "\n",
    "Use the computed cluster assignment to reorder the adjacency matrix $A$.\n",
    "What do you expect? What do you observe?"
   ]
  },
  {
   "cell_type": "code",
   "execution_count": null,
   "metadata": {},
   "outputs": [],
   "source": [
    "# Your code here.\n",
    "cluster=test*1\n",
    "order=np.argsort(cluster)\n",
    "adjacency_temp=adjacency[:,order]\n",
    "adjacency_temp=adjacency_temp[order,:]"
   ]
  },
  {
   "cell_type": "markdown",
   "metadata": {},
   "source": [
    "**Your answer here.**"
   ]
  },
  {
   "cell_type": "markdown",
   "metadata": {},
   "source": [
    "### Question 13\n",
    "\n",
    "If you have ground truth clusters for your dataset, compare the cluster assignment from spectral clustering to the ground truth.\n",
    "A simple quantitative measure is to compute the percentage of nodes that have been correctly categorized.\n",
    "If you don't have a ground truth, qualitatively assess the quality of the clustering.\n",
    "\n",
    "Ground truth clusters are the \"real clusters\".\n",
    "For example, the genre of musical tracks in FMA, the category of Wikipedia articles, the spammer status of individuals, etc.\n",
    "Look for the `labels` in the [dataset descriptions](https://github.com/mdeff/ntds_2018/tree/master/projects/README.md)."
   ]
  },
  {
   "cell_type": "code",
   "execution_count": null,
   "metadata": {},
   "outputs": [],
   "source": [
    "# Your code here."
   ]
  },
  {
   "cell_type": "markdown",
   "metadata": {},
   "source": [
    "### Question 14\n",
    "\n",
    "Plot the cluster assignment (one color per cluster) on the 2D embedding you computed above with Laplacian eigenmaps."
   ]
  },
  {
   "cell_type": "code",
   "execution_count": null,
   "metadata": {},
   "outputs": [],
   "source": [
    "# Your code here."
   ]
  },
  {
   "cell_type": "markdown",
   "metadata": {},
   "source": [
    "### Question 15\n",
    "\n",
    "Why did we use the eigenvectors of the graph Laplacian as features? Could we use other features for clustering?"
   ]
  },
  {
   "cell_type": "markdown",
   "metadata": {},
   "source": [
    "**Your answer here.**"
   ]
  }
 ],
 "metadata": {
  "kernelspec": {
   "display_name": "Python 3",
   "language": "python",
   "name": "python3"
  },
  "language_info": {
   "codemirror_mode": {
    "name": "ipython",
    "version": 3
   },
   "file_extension": ".py",
   "mimetype": "text/x-python",
   "name": "python",
   "nbconvert_exporter": "python",
   "pygments_lexer": "ipython3",
   "version": "3.6.4"
  }
 },
 "nbformat": 4,
 "nbformat_minor": 2
}
