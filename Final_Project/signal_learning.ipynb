{
 "cells": [
  {
   "cell_type": "code",
   "execution_count": null,
   "metadata": {},
   "outputs": [],
   "source": [
    "%load_ext autoreload\n",
    "%autoreload 2"
   ]
  },
  {
   "cell_type": "code",
   "execution_count": null,
   "metadata": {},
   "outputs": [],
   "source": [
    "import numpy as np\n",
    "import matplotlib.pyplot as plt\n",
    "import networkx as nx\n",
    "from feature_learning import *\n",
    "from load_and_preprocessing import load_data_and_filter_members"
   ]
  },
  {
   "cell_type": "code",
   "execution_count": null,
   "metadata": {},
   "outputs": [],
   "source": [
    "leg='50'\n",
    "from_date = None\n",
    "to_date = None\n",
    "link_cutoff = 0.5\n",
    "data_transf, adjacency, node_index, affairs_features, sum_na_per_row = load_data_and_filter_members('../data/abdb-de-all-affairs-'+leg+'-0.csv',\n",
    "                                                                     start_date=from_date, end_date=to_date,\n",
    "                                                                     filter_method='number_NA',cutoff=10,ret_transf=True, delete_links_below=link_cutoff )"
   ]
  },
  {
   "cell_type": "markdown",
   "metadata": {},
   "source": [
    "Put train data import here after"
   ]
  },
  {
   "cell_type": "code",
   "execution_count": null,
   "metadata": {},
   "outputs": [],
   "source": [
    "X_train = np.load('X_train.npy')\n",
    "y_train = np.load('y_train.npy')\n",
    "\n",
    "X_train = X_train[y_train != 2]\n",
    "y_train = y_train[y_train !=2]\n",
    "\n",
    "X_train = GFT(X_train.T)\n",
    "\n",
    "X_train = X_train.T\n",
    "\n",
    "print(\"Train data (n_samples, n_dimensions): {0}\".format(X_train.shape))\n",
    "classes, counts = np.unique(y_train, return_counts=True)\n",
    "print(\"Classes {0}, samples per class {1}, {2}\"\n",
    "      .format(len(classes), counts[0], counts[1]))"
   ]
  },
  {
   "cell_type": "code",
   "execution_count": null,
   "metadata": {},
   "outputs": [],
   "source": [
    "graph = nx.from_numpy_array(adjacency)\n",
    "laplacian = nx.normalized_laplacian_matrix(graph)\n",
    "vals, vecs = np.linalg.eigh(laplacian.toarray())\n",
    "e = vals\n",
    "U = vecs\n",
    "\n",
    "X_f = (GFT(U, X_train)).T\n",
    "X_f_heat = graph_filter()"
   ]
  },
  {
   "cell_type": "markdown",
   "metadata": {},
   "source": [
    "**Do PCA**"
   ]
  },
  {
   "cell_type": "code",
   "execution_count": null,
   "metadata": {},
   "outputs": [],
   "source": [
    "#X = do_pca(X_train, n_comps=10, plot_expl_var=True)\n",
    "X = X_train\n",
    "X.shape"
   ]
  },
  {
   "cell_type": "markdown",
   "metadata": {},
   "source": [
    "**Do logistic regression**"
   ]
  },
  {
   "cell_type": "code",
   "execution_count": null,
   "metadata": {},
   "outputs": [],
   "source": [
    "log_reg_accuracy = fit_log_regression(X,y_train,20,k_fold=5)"
   ]
  },
  {
   "cell_type": "markdown",
   "metadata": {},
   "source": [
    "**Do SVM**"
   ]
  },
  {
   "cell_type": "code",
   "execution_count": null,
   "metadata": {},
   "outputs": [],
   "source": [
    "c_hyperparam = np.logspace(-6,-1,11)\n",
    "use_kernel = 'linear'\n",
    "k_fold = 5\n",
    "\n",
    "mean_accuracy, variance = fit_svm(X, y_train, use_kernel, c_hyperparam, k_fold=k_fold)"
   ]
  },
  {
   "cell_type": "code",
   "execution_count": null,
   "metadata": {},
   "outputs": [],
   "source": [
    "fig, ax1 = plt.subplots(figsize=(15, 5))\n",
    "ax1.plot(mean_accuracy, 'b.-')\n",
    "ax1.set_ylabel('Accuracy', color='b')\n",
    "ax2 = ax1.twinx()\n",
    "ax2.plot(variance, 'g.-')\n",
    "ax2.set_ylabel('training loss', color='g')\n",
    "plt.show()"
   ]
  },
  {
   "cell_type": "code",
   "execution_count": null,
   "metadata": {},
   "outputs": [],
   "source": []
  },
  {
   "cell_type": "code",
   "execution_count": null,
   "metadata": {},
   "outputs": [],
   "source": []
  },
  {
   "cell_type": "code",
   "execution_count": null,
   "metadata": {},
   "outputs": [],
   "source": []
  },
  {
   "cell_type": "markdown",
   "metadata": {},
   "source": [
    "ConvNN:"
   ]
  },
  {
   "cell_type": "code",
   "execution_count": null,
   "metadata": {},
   "outputs": [],
   "source": [
    "leg='50'\n",
    "from_date = None\n",
    "to_date = None\n",
    "link_cutoff = 0.7\n",
    "data_transf, adjacency, node_index, affairs_features, sum_na_per_row = load_data_and_filter_members('../data/abdb-de-all-affairs-'+leg+'-0.csv',\n",
    "                                                                     start_date=from_date, end_date=to_date,\n",
    "                                                                     filter_method='number_NA',cutoff=10,ret_transf=True, delete_links_below=link_cutoff )"
   ]
  },
  {
   "cell_type": "code",
   "execution_count": null,
   "metadata": {},
   "outputs": [],
   "source": [
    "hyperparam_values = np.logspace(-7,-2,15)\n",
    "hyperparam_name = 'regularization'\n",
    "k_fold = 5\n",
    "nn_accuracy, nn_loss = cross_validate_convNN(X_train, y_train, adjacency, hyperparam_name, hyperparam_values, k_fold)"
   ]
  },
  {
   "cell_type": "code",
   "execution_count": null,
   "metadata": {},
   "outputs": [],
   "source": [
    "nn_accuracy"
   ]
  },
  {
   "cell_type": "code",
   "execution_count": null,
   "metadata": {},
   "outputs": [],
   "source": [
    "fig, ax1 = plt.subplots(figsize=(15, 5))\n",
    "ax1.plot(hyperparam_values, np.array(nn_accuracy)[:,1], 'b.-')\n",
    "ax1.set_ylabel('Accuracy', color='b')\n",
    "ax1.set_xlabel(hyperparam_name)\n",
    "ax2 = ax1.twinx()\n",
    "ax2.plot(hyperparam_values, np.array(nn_loss)[:,1], 'g.-')\n",
    "ax2.set_ylabel('training loss', color='g')\n",
    "plt.show()"
   ]
  },
  {
   "cell_type": "code",
   "execution_count": null,
   "metadata": {},
   "outputs": [],
   "source": [
    "hyperparam_values"
   ]
  }
 ],
 "metadata": {
  "kernelspec": {
   "display_name": "Python 3",
   "language": "python",
   "name": "python3"
  },
  "language_info": {
   "codemirror_mode": {
    "name": "ipython",
    "version": 3
   },
   "file_extension": ".py",
   "mimetype": "text/x-python",
   "name": "python",
   "nbconvert_exporter": "python",
   "pygments_lexer": "ipython3",
   "version": "3.6.4"
  }
 },
 "nbformat": 4,
 "nbformat_minor": 2
}
