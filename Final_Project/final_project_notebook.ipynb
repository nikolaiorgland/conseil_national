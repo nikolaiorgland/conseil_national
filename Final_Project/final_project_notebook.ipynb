{
 "cells": [
  {
   "cell_type": "markdown",
   "metadata": {},
   "source": [
    "** Final project code **"
   ]
  },
  {
   "cell_type": "code",
   "execution_count": 1,
   "metadata": {},
   "outputs": [],
   "source": [
    "%load_ext autoreload\n",
    "%autoreload 2"
   ]
  },
  {
   "cell_type": "code",
   "execution_count": 2,
   "metadata": {},
   "outputs": [],
   "source": [
    "import numpy as np\n",
    "import pandas as pd\n",
    "import pygsp as pg\n",
    "import matplotlib.pyplot as plt"
   ]
  },
  {
   "cell_type": "code",
   "execution_count": 3,
   "metadata": {},
   "outputs": [],
   "source": [
    "from load_and_preprocessing import load_data_and_filter_members, assign_party_to_names\n",
    "from visualization import label_to_numeric, get_lap_eigendecomp"
   ]
  },
  {
   "cell_type": "code",
   "execution_count": 4,
   "metadata": {},
   "outputs": [
    {
     "name": "stdout",
     "output_type": "stream",
     "text": [
      "(Nbr. of councillors, nbr. of votes) before filter: (434, 1320)\n",
      "(Nbr. of councillors, nbr. of votes) after filter: (179, 1316)\n"
     ]
    }
   ],
   "source": [
    "# Use load_data_and_filter_members to create adjacency for any file from any legislature\n",
    "# Example \n",
    "adjacency, node_index, sum_na_per_row = load_data_and_filter_members('../data/abdb-de-all-affairs-50-0_new.csv',\n",
    "                                                                     filter_method='number_NA',cutoff=10,ret_transf=False)"
   ]
  },
  {
   "cell_type": "markdown",
   "metadata": {},
   "source": [
    "Assigning parties to the councillors from the dataset loaded above:"
   ]
  },
  {
   "cell_type": "code",
   "execution_count": 5,
   "metadata": {},
   "outputs": [
    {
     "name": "stdout",
     "output_type": "stream",
     "text": [
      "         Counc_Id                  CouncillorName PartyAbbreviation\n",
      "node_id                                                            \n",
      "0            3907            Thorens Goumaz Adèle               PES\n",
      "1            3923                       Marra Ada               PSS\n",
      "2            3897            Moser Tiana Angelina               pvl\n",
      "3            3902                  Rickli Natalie               UDC\n",
      "4            3875     Eichenberger-Walther Corina               PLR\n",
      "5            3876                Estermann Yvette               UDC\n",
      "6            3877                     Fiala Doris               PRD\n",
      "7            3878           Flückiger-Bäni Sylvia               UDC\n",
      "8            3880      Geissbühler Andrea Martina               UDC\n",
      "9            1346                  Moret Isabelle               PRD\n",
      "10           3830        Carobbio Guscetti Marina               PSS\n",
      "11           1129                 Schenker Silvia               PSS\n",
      "12           1288                    Amherd Viola               PDC\n",
      "13           1295             Graf-Litscher Edith               PSS\n",
      "14           1337          Glanzmann-Hunkeler Ida               PDC\n",
      "15           1147           Kiener Nellen Margret               PSS\n",
      "16           1139              Markwalder Christa               PLR\n",
      "17           1125                 Galladé Chantal               PSS\n",
      "18           1156                        Heim Bea               PSS\n",
      "19            806                       Graf Maya               PES\n",
      "20           1071                     Humbel Ruth               PDC\n",
      "21            502                    Riklin Kathy               PDC\n",
      "22            354                  Semadeni Silva               PSS\n",
      "23            487  Leutenegger Oberholzer Susanne               PSS\n",
      "24           3912          Wasserfallen Christian               PLR\n",
      "25           3931                   Weibel Thomas               pvl\n",
      "26           3910            von Siebenthal Erich               UDC\n",
      "27           3895               Lüscher Christian               PLS\n",
      "28           3898                   Nidegger Yves               UDC\n",
      "29           3899                 Nussbaumer Eric               PSS\n",
      "...           ...                             ...               ...\n",
      "149          4195        Fehlmann Rielle Laurence               PSS\n",
      "150          4191                 Genecand Benoît               PLR\n",
      "151          4161                 Glarner Andreas               UDC\n",
      "152          4181       Gmür-Schönenberger Andrea               PDC\n",
      "153          4162                    Grüter Franz               UDC\n",
      "154          4163                      Hess Erich               UDC\n",
      "155          4164                 Imark Christian               UDC\n",
      "156          4165         Keller-Inhelder Barbara               UDC\n",
      "157          4166                    Köppel Roger               UDC\n",
      "158          4183        Marchand-Balet Géraldine               PDC\n",
      "159          4197                    Marti Min Li               PSS\n",
      "160          4167      Martullo-Blocher Magdalena               UDC\n",
      "161          4186                    Mazzone Lisa               PES\n",
      "162          4198                    Meyer Mattea               PSS\n",
      "163          4193              Nantermod Philippe               PLR\n",
      "164          4168                 Nicolet Jacques               UDC\n",
      "165          4169               Page Pierre-André               UDC\n",
      "166          4170                    Ruppen Franz               UDC\n",
      "167          4172                 Salzmann Werner               UDC\n",
      "168          4202                   Sauter Regine               PLR\n",
      "169          4199              Seiler Graf Priska               PSS\n",
      "170          4173               Sollberger Sandra               UDC\n",
      "171          4174              Steinemann Barbara               UDC\n",
      "172          4175                     Tuena Mauro               UDC\n",
      "173          4176                  Vogt Hans-Ueli               UDC\n",
      "174          4177                  Walliser Bruno               UDC\n",
      "175          4194                  Wehrli Laurent               PLR\n",
      "176          4178                 Zanetti Claudio               UDC\n",
      "177          4179               Zuberbühler David               UDC\n",
      "178          4208         Jauslin Matthias Samuel               PLR\n",
      "\n",
      "[179 rows x 3 columns]\n"
     ]
    }
   ],
   "source": [
    "name_with_party = assign_party_to_names('../data/Ratsmitglieder_1848_FR.csv', node_index)\n",
    "print(name_with_party)"
   ]
  },
  {
   "cell_type": "markdown",
   "metadata": {},
   "source": [
    "Translating the party label into a numerical value:"
   ]
  },
  {
   "cell_type": "code",
   "execution_count": 6,
   "metadata": {},
   "outputs": [],
   "source": [
    "# Example here is with parties, but the same function works for any kind of dictionary, eg. lobbying mandates\n",
    "party_map = {'UDC': 1,'PSS': -1,'PDC':0.5,'BastA':-1,'PLR':1,'pvl':-0.5,\n",
    "             'PES':-0.5, 'PBD':0.5, 'PdT':1, 'CSPO':-0.5, 'PLS':1,\n",
    "             'PRD':0.5, 'MCR':-0.5, 'PEV':-0.5, 'Lega':1, 'csp-ow':-0.5 }\n",
    "\n",
    "name_with_party_num, labels_in_data = label_to_numeric(name_with_party, 'PartyAbbreviation', party_map, ret_values=True)"
   ]
  },
  {
   "cell_type": "markdown",
   "metadata": {},
   "source": [
    "This can be used to see if the label dictionary needs to be adjusted:"
   ]
  },
  {
   "cell_type": "code",
   "execution_count": 7,
   "metadata": {},
   "outputs": [
    {
     "name": "stdout",
     "output_type": "stream",
     "text": [
      "Unique label values found in data: \n",
      "['PES' 'PSS' 'pvl' 'UDC' 'PLR' 'PRD' 'PDC' 'PLS' 'PBD' 'PEV' 'Lega'\n",
      " 'csp-ow' 'MCR' 'BastA' 'PdT']\n",
      "Label values that are translated by provided dictionary: \n",
      "dict_keys(['UDC', 'PSS', 'PDC', 'BastA', 'PLR', 'pvl', 'PES', 'PBD', 'PdT', 'CSPO', 'PLS', 'PRD', 'MCR', 'PEV', 'Lega', 'csp-ow'])\n"
     ]
    }
   ],
   "source": [
    "print(\"Unique label values found in data: \\n{0}\".format(labels_in_data))\n",
    "print(\"Label values that are translated by provided dictionary: \\n{0}\".format(party_map.keys()))"
   ]
  },
  {
   "cell_type": "markdown",
   "metadata": {},
   "source": [
    "Draw some eigenmaps and plot party membership as signal:"
   ]
  },
  {
   "cell_type": "code",
   "execution_count": 11,
   "metadata": {},
   "outputs": [
    {
     "data": {
      "text/plain": [
       "Text(0.5, 1.0, 'Position on political spectrum by party ')"
      ]
     },
     "execution_count": 11,
     "metadata": {},
     "output_type": "execute_result"
    },
    {
     "data": {
      "image/png": "[encoded data removed]",
      "text/plain": [
       "<Figure size 432x288 with 2 Axes>"
      ]
     },
     "metadata": {},
     "output_type": "display_data"
    }
   ],
   "source": [
    "graph_pygsp = pg.graphs.Graph(adjacency)\n",
    "eigenvectors = get_lap_eigendecomp(adjacency, lap_type='normalized', ret_eigval=False)\n",
    "signal = name_with_party_num['PartyAbbreviation'].values\n",
    "graph_pygsp.set_coordinates(eigenvectors[:, 1:3])  # Laplacian eigenmaps.\n",
    "graph_pygsp.plot_signal(signal, vertex_size=3)\n",
    "plt.title('Position on political spectrum by party ')"
   ]
  },
  {
   "cell_type": "code",
   "execution_count": null,
   "metadata": {},
   "outputs": [],
   "source": []
  }
 ],
 "metadata": {
  "kernelspec": {
   "display_name": "Python 3",
   "language": "python",
   "name": "python3"
  },
  "language_info": {
   "codemirror_mode": {
    "name": "ipython",
    "version": 3
   },
   "file_extension": ".py",
   "mimetype": "text/x-python",
   "name": "python",
   "nbconvert_exporter": "python",
   "pygments_lexer": "ipython3",
   "version": "3.6.4"
  }
 },
 "nbformat": 4,
 "nbformat_minor": 2
}
