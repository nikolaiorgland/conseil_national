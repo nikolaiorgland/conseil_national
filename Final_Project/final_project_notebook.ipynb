{
 "cells": [
  {
   "cell_type": "markdown",
   "metadata": {},
   "source": [
    "** Final project code **"
   ]
  },
  {
   "cell_type": "code",
   "execution_count": 1,
   "metadata": {},
   "outputs": [],
   "source": [
    "%load_ext autoreload\n",
    "%autoreload 2"
   ]
  },
  {
   "cell_type": "code",
   "execution_count": 2,
   "metadata": {},
   "outputs": [],
   "source": [
    "import numpy as np\n",
    "import pandas as pd\n",
    "import pygsp as pg"
   ]
  },
  {
   "cell_type": "code",
   "execution_count": 3,
   "metadata": {},
   "outputs": [],
   "source": [
    "from load_and_preprocessing import load_data_and_filter_members, assign_party_to_names\n",
    "from visualization import label_to_numeric, get_lap_eigendecomp"
   ]
  },
  {
   "cell_type": "code",
   "execution_count": 4,
   "metadata": {},
   "outputs": [
    {
     "name": "stdout",
     "output_type": "stream",
     "text": [
      "(Nbr. of councillors, nbr. of votes) before filter: (434, 1320)\n",
      "(Nbr. of councillors, nbr. of votes) after filter: (181, 1295)\n"
     ]
    }
   ],
   "source": [
    "# Use load_data_and_filter_members to create adjacency for any file from any legislature\n",
    "# Example \n",
    "adjacency, node_index, sum_na_per_row = load_data_and_filter_members('../data/abdb-de-all-affairs-50-0_new.csv',\n",
    "                                                                     filter_method='number_NA',cutoff=50,ret_transf=False)"
   ]
  },
  {
   "cell_type": "markdown",
   "metadata": {},
   "source": [
    "Assigning parties to the councillors from the dataset loaded above:"
   ]
  },
  {
   "cell_type": "code",
   "execution_count": 5,
   "metadata": {},
   "outputs": [
    {
     "name": "stdout",
     "output_type": "stream",
     "text": [
      "         Counc_Id                  CouncillorName PartyAbbreviation\n",
      "node_id                                                            \n",
      "0            3907            Thorens Goumaz Adèle               PES\n",
      "1            3923                       Marra Ada               PSS\n",
      "2            3897            Moser Tiana Angelina               pvl\n",
      "3            3902                  Rickli Natalie               UDC\n",
      "4            3875     Eichenberger-Walther Corina               PLR\n",
      "5            3876                Estermann Yvette               UDC\n",
      "6            3877                     Fiala Doris               PRD\n",
      "7            3878           Flückiger-Bäni Sylvia               UDC\n",
      "8            3880      Geissbühler Andrea Martina               UDC\n",
      "9            1346                  Moret Isabelle               PRD\n",
      "10           3830        Carobbio Guscetti Marina               PSS\n",
      "11           1129                 Schenker Silvia               PSS\n",
      "12           1288                    Amherd Viola               PDC\n",
      "13           1295             Graf-Litscher Edith               PSS\n",
      "14           1337          Glanzmann-Hunkeler Ida               PDC\n",
      "15           1147           Kiener Nellen Margret               PSS\n",
      "16           1139              Markwalder Christa               PLR\n",
      "17           1125                 Galladé Chantal               PSS\n",
      "18           1156                        Heim Bea               PSS\n",
      "19            806                       Graf Maya               PES\n",
      "20           1071                     Humbel Ruth               PDC\n",
      "21            502                    Riklin Kathy               PDC\n",
      "22            354                  Semadeni Silva               PSS\n",
      "23            487  Leutenegger Oberholzer Susanne               PSS\n",
      "24           3912          Wasserfallen Christian               PLR\n",
      "25           3931                   Weibel Thomas               pvl\n",
      "26           3910            von Siebenthal Erich               UDC\n",
      "27           3895               Lüscher Christian               PLS\n",
      "28           3898                   Nidegger Yves               UDC\n",
      "29           3899                 Nussbaumer Eric               PSS\n",
      "...           ...                             ...               ...\n",
      "151          4191                 Genecand Benoît               PLR\n",
      "152          4161                 Glarner Andreas               UDC\n",
      "153          4181       Gmür-Schönenberger Andrea               PDC\n",
      "154          4162                    Grüter Franz               UDC\n",
      "155          4163                      Hess Erich               UDC\n",
      "156          4164                 Imark Christian               UDC\n",
      "157          4165         Keller-Inhelder Barbara               UDC\n",
      "158          4166                    Köppel Roger               UDC\n",
      "159          4183        Marchand-Balet Géraldine               PDC\n",
      "160          4197                    Marti Min Li               PSS\n",
      "161          4167      Martullo-Blocher Magdalena               UDC\n",
      "162          4186                    Mazzone Lisa               PES\n",
      "163          4198                    Meyer Mattea               PSS\n",
      "164          4193              Nantermod Philippe               PLR\n",
      "165          4168                 Nicolet Jacques               UDC\n",
      "166          4169               Page Pierre-André               UDC\n",
      "167          4170                    Ruppen Franz               UDC\n",
      "168          4172                 Salzmann Werner               UDC\n",
      "169          4202                   Sauter Regine               PLR\n",
      "170          4199              Seiler Graf Priska               PSS\n",
      "171          4173               Sollberger Sandra               UDC\n",
      "172          4174              Steinemann Barbara               UDC\n",
      "173          4175                     Tuena Mauro               UDC\n",
      "174          4176                  Vogt Hans-Ueli               UDC\n",
      "175          4177                  Walliser Bruno               UDC\n",
      "176          4194                  Wehrli Laurent               PLR\n",
      "177          4178                 Zanetti Claudio               UDC\n",
      "178          4179               Zuberbühler David               UDC\n",
      "179          4209              Bigler Hans-Ulrich               PLR\n",
      "180          4208         Jauslin Matthias Samuel               PLR\n",
      "\n",
      "[181 rows x 3 columns]\n"
     ]
    }
   ],
   "source": [
    "name_with_party = assign_party_to_names('../data/Ratsmitglieder_1848_FR.csv', node_index)\n",
    "print(name_with_party)"
   ]
  },
  {
   "cell_type": "markdown",
   "metadata": {},
   "source": [
    "Translating the party label into a numerical value:"
   ]
  },
  {
   "cell_type": "code",
   "execution_count": 6,
   "metadata": {},
   "outputs": [],
   "source": [
    "# Example here is with parties, but the same function works for any kind of dictionary, eg. lobbying mandates\n",
    "party_map = {'UDC': 6,'PSS': -6,'PDC':0,'BastA':-3,'PLR':5,'pvl':-2,\n",
    "             'PES':-5, 'PBD':2, 'PdT':-4,'PLS':5,\n",
    "             'PRD':5, 'MCR':4, 'PEV':-1, 'Lega':3, 'csp-ow':1 }\n",
    "\n",
    "name_with_party_num, labels_in_data = label_to_numeric(name_with_party, 'PartyAbbreviation', party_map, ret_values=True)"
   ]
  },
  {
   "cell_type": "markdown",
   "metadata": {},
   "source": [
    "This can be used to see if the label dictionary needs to be adjusted:"
   ]
  },
  {
   "cell_type": "code",
   "execution_count": 7,
   "metadata": {},
   "outputs": [
    {
     "name": "stdout",
     "output_type": "stream",
     "text": [
      "Unique label values found in data: \n",
      "['PES' 'PSS' 'pvl' 'UDC' 'PLR' 'PRD' 'PDC' 'PLS' 'PBD' 'PEV' 'Lega'\n",
      " 'csp-ow' 'MCR' 'BastA' 'PdT']\n",
      "Label values that are translated by provided dictionary: \n",
      "dict_keys(['UDC', 'PSS', 'PDC', 'BastA', 'PLR', 'pvl', 'PES', 'PBD', 'PdT', 'PLS', 'PRD', 'MCR', 'PEV', 'Lega', 'csp-ow'])\n"
     ]
    }
   ],
   "source": [
    "print(\"Unique label values found in data: \\n{0}\".format(labels_in_data))\n",
    "print(\"Label values that are translated by provided dictionary: \\n{0}\".format(party_map.keys()))"
   ]
  },
  {
   "cell_type": "markdown",
   "metadata": {},
   "source": [
    "Draw some eigenmaps and plot party membership as signal:"
   ]
  },
  {
   "cell_type": "code",
   "execution_count": 8,
   "metadata": {},
   "outputs": [],
   "source": [
    "eigenvectors = get_lap_eigendecomp(adjacency, lap_type='normalized', ret_eigval=False)"
   ]
  },
  {
   "cell_type": "code",
   "execution_count": 9,
   "metadata": {},
   "outputs": [
    {
     "name": "stdout",
     "output_type": "stream",
     "text": [
      "Using matplotlib backend: Qt5Agg\n",
      "Populating the interactive namespace from numpy and matplotlib\n"
     ]
    }
   ],
   "source": [
    "%pylab"
   ]
  },
  {
   "cell_type": "code",
   "execution_count": 10,
   "metadata": {},
   "outputs": [],
   "source": [
    "signal = name_with_party_num['PartyAbbreviation'].values\n",
    "name_labels = name_with_party_num['CouncillorName'].values\n",
    "colorbar_labels = ['UDC', 'PLR', 'MCR', 'LEGA', 'PBD', 'csp-ow', 'PDC', 'PEV', 'pvl', 'BastA', 'PdT', 'PES', 'PSS']"
   ]
  },
  {
   "cell_type": "code",
   "execution_count": 12,
   "metadata": {},
   "outputs": [],
   "source": [
    "fig = plt.figure(figsize=(16,9))\n",
    "ax = fig.add_subplot(111)\n",
    "ax.scatter(eigenvectors[:,1], eigenvectors[:,2], c=signal, s=15, vmin=-6, vmax=6, cmap=\"jet\")\n",
    "\n",
    "for i, txt in enumerate(name_labels):\n",
    "    ax.annotate(txt, (eigenvectors[i,1], eigenvectors[i,2]), xytext=(1,1), textcoords='offset points')\n",
    "    \n",
    "cbar = fig.colorbar(ax.collections[0], ticks=np.linspace(6,-6,13), orientation='vertical')\n",
    "cbar.ax.set_yticklabels(colorbar_labels)\n",
    "ax.set_title('Position on political spectrum by party ')\n",
    "fig.tight_layout()"
   ]
  },
  {
   "cell_type": "code",
   "execution_count": null,
   "metadata": {},
   "outputs": [],
   "source": []
  }
 ],
 "metadata": {
  "kernelspec": {
   "display_name": "Python 3",
   "language": "python",
   "name": "python3"
  },
  "language_info": {
   "codemirror_mode": {
    "name": "ipython",
    "version": 3
   },
   "file_extension": ".py",
   "mimetype": "text/x-python",
   "name": "python",
   "nbconvert_exporter": "python",
   "pygments_lexer": "ipython3",
   "version": "3.6.4"
  }
 },
 "nbformat": 4,
 "nbformat_minor": 2
}
