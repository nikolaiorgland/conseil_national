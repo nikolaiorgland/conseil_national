{
 "cells": [
  {
   "cell_type": "markdown",
   "metadata": {},
   "source": [
    "** Final project code **"
   ]
  },
  {
   "cell_type": "code",
   "execution_count": 11,
   "metadata": {},
   "outputs": [
    {
     "name": "stdout",
     "output_type": "stream",
     "text": [
      "The autoreload extension is already loaded. To reload it, use:\n",
      "  %reload_ext autoreload\n"
     ]
    }
   ],
   "source": [
    "%load_ext autoreload\n",
    "%autoreload 2\n",
    "%matplotlib inline"
   ]
  },
  {
   "cell_type": "code",
   "execution_count": 12,
   "metadata": {},
   "outputs": [],
   "source": [
    "import numpy as np\n",
    "import pandas as pd\n",
    "import pygsp as pg\n",
    "import matplotlib.pylab as plt"
   ]
  },
  {
   "cell_type": "code",
   "execution_count": 38,
   "metadata": {},
   "outputs": [],
   "source": [
    "from load_and_preprocessing import load_data_and_filter_members, assign_party_to_names\n",
    "from helpers import label_to_numeric, get_lap_eigendecomp, visualize_node_loyalty, visualize_modularity, visualize_party_orientation, make_signal\n",
    "from network_analysis import compute_community_loyalty, detect_partitions, compute_modularity, centralities\n",
    "from conseil_national_evolution import create_evolution_features_v1"
   ]
  },
  {
   "cell_type": "code",
   "execution_count": 7,
   "metadata": {},
   "outputs": [
    {
     "name": "stdout",
     "output_type": "stream",
     "text": [
      "(Nbr. of councillors, nbr. of votes) before filter: (204, 419)\n",
      "(Nbr. of councillors, nbr. of votes) after filter: (194, 418)\n"
     ]
    }
   ],
   "source": [
    "# Use load_data_and_filter_members to create adjacency for any file from any legislature\n",
    "# Example \n",
    "leg='49'\n",
    "from_date = '01_01_2012'\n",
    "to_date = '31_12_2012'\n",
    "adjacency, node_index, sum_na_per_row = load_data_and_filter_members('../data/abdb-de-all-affairs-'+leg+'-0.csv',\n",
    "                                                                     start_date=from_date, end_date=to_date,\n",
    "                                                                     filter_method='number_NA',cutoff=10,ret_transf=False)"
   ]
  },
  {
   "cell_type": "markdown",
   "metadata": {},
   "source": [
    "Assigning parties to the councillors from the dataset loaded above:"
   ]
  },
  {
   "cell_type": "code",
   "execution_count": 8,
   "metadata": {},
   "outputs": [
    {
     "name": "stdout",
     "output_type": "stream",
     "text": [
      "         Counc_Id                  CouncillorName PartyAbbreviation\n",
      "node_id                                                            \n",
      "0             490              Lustenberger Ruedi               PDC\n",
      "1            4025              Büchel Roland Rino               UDC\n",
      "2             504                Rossini Stéphane               PSS\n",
      "3            3922                   Favre Laurent               PLR\n",
      "4            4092                    Poggia Mauro               MCR\n",
      "5            1104                   Büchler Jakob               PDC\n",
      "6            3911                      Voruz Eric               PSS\n",
      "7            1295             Graf-Litscher Edith               PSS\n",
      "8            4052                   Ritter Markus               PDC\n",
      "9            3876                Estermann Yvette               UDC\n",
      "10           4075                   Caroni Andrea               PLR\n",
      "11           1112                     Müller Geri               PES\n",
      "12           3892                     Killer Hans               UDC\n",
      "13           1318                 Schelbert Louis               PES\n",
      "14           4110                     Egloff Hans               UDC\n",
      "15           3908            von Graffenried Alec               PES\n",
      "16           3902                  Rickli Natalie               UDC\n",
      "17           3882                   Girod Bastien               PES\n",
      "18           1111                      Müri Felix               UDC\n",
      "19           4061                Hardegger Thomas               PSS\n",
      "20           4046                  Quadri Lorenzo              Lega\n",
      "21           4106                     Naef Martin               PSS\n",
      "22           4073                 Pantani Roberta              Lega\n",
      "23           4115         Schwaab Jean Christophe               PSS\n",
      "24           3890                   Hurter Thomas               UDC\n",
      "25           4074             Fridez Pierre-Alain               PSS\n",
      "26           1123         Veillon Pierre-François               UDC\n",
      "27            359              Teuscher Franziska               PES\n",
      "28           3901                   Reimann Lukas               UDC\n",
      "29           3889                 Hodgers Antonio               PES\n",
      "30           4103               Hausammann Markus               UDC\n",
      "31           4095                     Rytz Regula               PES\n",
      "32           1159                Schwander Pirmin               UDC\n",
      "33           3907            Thorens Goumaz Adèle               PES\n",
      "34           4098                    Keller Peter               UDC\n",
      "35           1293            John-Calame Francine               PES\n",
      "36           3867                    Aebi Andreas               UDC\n",
      "37           4018             Maire Jacques-André               PSS\n",
      "38           3886                    Grunder Hans               PBD\n",
      "39           4113                  Tornare Manuel               PSS\n",
      "40            472           Haller Vannini Ursula               PBD\n",
      "41           4091                 Reynard Mathias               PSS\n",
      "42           4105                  Ziörjen Lothar               PBD\n",
      "43           4058               Badran Jacqueline               PSS\n",
      "44           4057                  Wermuth Cédric               PSS\n",
      "45            214                      Stamm Luzi               PLR\n",
      "46           4045                 Pardini Corrado               PSS\n",
      "47           4114                 Knecht Hansjörg               UDC\n",
      "48           3924            van Singer Christian               PES\n",
      "49           4042               Frehner Sebastian               UDC\n",
      "50           1065                Leuenberger Ueli               PES\n",
      "51           4051               de Courten Thomas               UDC\n",
      "52           4093               Glättli Balthasar               PES\n",
      "53           4100                    Rösti Albert               UDC\n",
      "54           3881                    Gilli Yvonne               PES\n",
      "55           3878           Flückiger-Bäni Sylvia               UDC\n",
      "56           1110                  Vischer Daniel               PES\n",
      "57            479                   Kaufmann Hans               UDC\n",
      "58           3833                  Aubert Josiane               PSS\n",
      "59           4108              Chevalley Isabelle               pvl\n",
      "60           3899                 Nussbaumer Eric               PSS\n",
      "61           4094                     Hess Lorenz               PBD\n",
      "62           4032                       Jans Beat               PSS\n",
      "63           4082                   Guhl Bernhard               PBD\n",
      "64           4007              Chopard-Acklin Max               PSS\n",
      "65           4066              Quadranti Rosmarie               PBD\n",
      "66           4107                  Amarelle Cesla               PSS\n",
      "67            473                Hassler Hansjörg               UDC\n",
      "68           4109          Piller Carrard Valérie               PSS\n",
      "69           4008                  Landolt Martin               PBD\n",
      "70           4049              Aebischer Matthias               PSS\n",
      "71           4071                      Gasche Urs               PBD\n",
      "72            224             Tschäppät Alexander               PSS\n",
      "73           3887                     Heer Alfred               UDC\n",
      "74           4059                      Flach Beat               pvl\n",
      "75            478                    Joder Rudolf               UDC\n",
      "76           4050                    Böhni Thomas               pvl\n",
      "77           3885                Grin Jean-Pierre               UDC\n",
      "78           4089                  Fischer Roland               pvl\n",
      "79           1145                     Perrin Yvan               UDC\n",
      "80           4117                    Maier Thomas               pvl\n",
      "81           4090                 Amaudruz Céline               UDC\n",
      "82           4081                 Kessler Margrit               pvl\n",
      "83            542               Mörgeli Christoph               UDC\n",
      "84           4102                Bertschy Kathrin               pvl\n",
      "85           3910            von Siebenthal Erich               UDC\n",
      "86           4083                    Grossen Jürg               pvl\n",
      "87           1142                  Wobmann Walter               UDC\n",
      "88           3891                 Jositsch Daniel               PSS\n",
      "89           1138                   Bäumle Martin               pvl\n",
      "90           4104                Gasser Josias F.               pvl\n",
      "91           3877                     Fiala Doris               PLR\n",
      "92           3865           Steiert Jean-François               PSS\n",
      "93           4077                  Feller Olivier               PLR\n",
      "94           3923                       Marra Ada               PSS\n",
      "95           4084                  Pezzatti Bruno               PLR\n",
      "96           4076                  Hadorn Philipp               PSS\n",
      "97           4111                    Ribaux Alain               PLR\n",
      "98            354                  Semadeni Silva               PSS\n",
      "99           4079                    Derder Fathi               PLR\n",
      "100          1156                        Heim Bea               PSS\n",
      "101          4116                     Gössi Petra               PLR\n",
      "102          4030             Birrer-Heimo Prisca               PSS\n",
      "103          1289                  Barthassat Luc               PDC\n",
      "104          4086                  Buttet Yannick               PDC\n",
      "105          1108                    Parmelin Guy               UDC\n",
      "106          4072                   Regazzi Fabio               PDC\n",
      "107          4048                  Rusconi Pierre               UDC\n",
      "108          4087              Gschwind Jean-Paul               PDC\n",
      "109           173              Reimann Maximilian               UDC\n",
      "110          4085                     Vogler Karl            csp-ow\n",
      "111          4067                     Brand Heinz               UDC\n",
      "112          4031                     Ingold Maja               PEV\n",
      "113          1127                Freysinger Oskar               UDC\n",
      "114          4036         Streiff-Feller Marianne               PEV\n",
      "115          3898                   Nidegger Yves               UDC\n",
      "116          3931                   Weibel Thomas               pvl\n",
      "117          4053                   Aeschi Thomas               UDC\n",
      "118          3897            Moser Tiana Angelina               pvl\n",
      "119            28                 Bortoluzzi Toni               UDC\n",
      "120          1125                 Galladé Chantal               PSS\n",
      "121          1122                      Fluri Kurt               PLR\n",
      "122          1131                    Allemann Evi               PSS\n",
      "123          3875     Eichenberger-Walther Corina               PLR\n",
      "124           350                Bernasconi Maria               PSS\n",
      "125          4060            Schneeberger Daniela               PLR\n",
      "126          1120                 Sommaruga Carlo               PSS\n",
      "127          4069                     Feri Yvonne               PSS\n",
      "128          4054                   Vitali Albert               PLR\n",
      "129          4121                    Gysi Barbara               PSS\n",
      "130          3879                Français Olivier               PLR\n",
      "131          3830        Carobbio Guscetti Marina               PSS\n",
      "132          3872               Bourgeois Jacques               PLR\n",
      "133          1129                 Schenker Silvia               PSS\n",
      "134          3888                 Hiltpold Hugues               PLR\n",
      "135          1147           Kiener Nellen Margret               PSS\n",
      "136          3912          Wasserfallen Christian               PLR\n",
      "137           487  Leutenegger Oberholzer Susanne               PSS\n",
      "138          3895               Lüscher Christian               PLS\n",
      "139           498                Neirynck Jacques               PDC\n",
      "140           319                       Fehr Hans               UDC\n",
      "141          4120                    Romano Marco               PDC\n",
      "142          1345                   Müller Thomas               PDC\n",
      "143          4101      Bulliard-Marbach Christine               PDC\n",
      "144          4065                    Pieren Nadja               UDC\n",
      "145          4040   Schneider-Schneiter Elisabeth               PDC\n",
      "146           514                      Stahl Jürg               UDC\n",
      "147          4099                  Lehmann Markus               PDC\n",
      "148            26                 Borer Roland F.               UDC\n",
      "149          4097                      Müller Leo               PDC\n",
      "150           520              Wandfluh Hansruedi               UDC\n",
      "151          4122                    Schläfli Urs               PDC\n",
      "152          3880      Geissbühler Andrea Martina               UDC\n",
      "153          4063         Müller-Altermatt Stefan               PDC\n",
      "154          4096                      Gmür Alois               PDC\n",
      "155           513                   Spuhler Peter               UDC\n",
      "156          4070                 Candinas Martin               PDC\n",
      "157            91             Giezendanner Ulrich               UDC\n",
      "158          1279                  Nordmann Roger               PSS\n",
      "159          1137                   Müller Walter               PLR\n",
      "160           464                  Fehr Hans-Jürg               PSS\n",
      "161          1113             Leutenegger Filippo               PLR\n",
      "162           522                     Wyss Ursula               PSS\n",
      "163          1139              Markwalder Christa               PLR\n",
      "164           405                 Fehr Jacqueline               PSS\n",
      "165          1141                  Müller Philipp               PLR\n",
      "166          3829               Tschümperlin Andy               PSS\n",
      "167          1103                      Huber Gabi               PLR\n",
      "168           395   Fässler-Osterwalder Hildegard               PSS\n",
      "169           345                    Pelli Fulvio               PLR\n",
      "170          4118                  Lohr Christian               PDC\n",
      "171          1126                   Hutter Markus               PLR\n",
      "172           494           Meier-Schatz Lucrezia               PDC\n",
      "173          1153                     Noser Ruedi               PLR\n",
      "174          1124              de Buman Dominique               PDC\n",
      "175          1346                  Moret Isabelle               PLR\n",
      "176          1133            Darbellay Christophe               PDC\n",
      "177          3828                  Cassis Ignazio               PLR\n",
      "178          1288                    Amherd Viola               PDC\n",
      "179          1117             Germanier Jean-René               PLR\n",
      "180          1337          Glanzmann-Hunkeler Ida               PDC\n",
      "181           404                   Baader Caspar               UDC\n",
      "182          3904          Schmid-Federer Barbara               PDC\n",
      "183            21               Blocher Christoph               UDC\n",
      "184          1109                 Pfister Gerhard               PDC\n",
      "185          1119              Rime Jean-François               UDC\n",
      "186          4056                  Fässler Daniel               PDC\n",
      "187            15                      Binder Max               UDC\n",
      "188          1071                     Humbel Ruth               PDC\n",
      "189           307                    Brunner Toni               UDC\n",
      "190           502                    Riklin Kathy               PDC\n",
      "191          1135                  Amstutz Adrian               UDC\n",
      "192           453                    Bugnon André               UDC\n",
      "193            97                   Gross Andreas               PSS\n"
     ]
    }
   ],
   "source": [
    "name_with_party = assign_party_to_names('../data/Ratsmitglieder_1848_FR.csv', node_index)\n",
    "print(name_with_party.to_string())"
   ]
  },
  {
   "cell_type": "markdown",
   "metadata": {},
   "source": [
    "Make a csv that can be used in Gephi:"
   ]
  },
  {
   "cell_type": "code",
   "execution_count": 9,
   "metadata": {},
   "outputs": [],
   "source": [
    "name_labels = name_with_party['CouncillorName'].values\n",
    "adjacency_df = pd.DataFrame(data=adjacency, columns=name_labels, index=name_labels)\n",
    "adjacency_df.to_csv('gephi_'+leg+'-'+from_date+'-'+to_date+'.csv', sep=',', index_label='', index=True, header=True)"
   ]
  },
  {
   "cell_type": "markdown",
   "metadata": {},
   "source": [
    "Translating the party label into a numerical value:"
   ]
  },
  {
   "cell_type": "code",
   "execution_count": null,
   "metadata": {},
   "outputs": [],
   "source": [
    "# Example here is with parties, but the same function works for any kind of dictionary, eg. lobbying mandates\n",
    "party_map = {'UDC': 6,'PSS': -6,'PDC':0,'BastA':-3,'PLR':5,'pvl':-2,\n",
    "             'PES':-5, 'PBD':2, 'PdT':-4,'PLS':5,\n",
    "             'PRD':5, 'MCR':4, 'PEV':-1, 'Lega':3, 'csp-ow':1, 'Al':-7,'FraP!':-8, 'GB':7, 'CSPO':8 }\n",
    "\n",
    "name_with_party_num, labels_in_data = label_to_numeric(name_with_party, 'PartyAbbreviation', party_map, ret_values=True)"
   ]
  },
  {
   "cell_type": "code",
   "execution_count": null,
   "metadata": {},
   "outputs": [],
   "source": [
    "name_labels = name_with_party['CouncillorName'].values\n",
    "d= name_with_party_num['PartyAbbreviation'].values\n",
    "Party_attribute = pd.DataFrame(data=np.c_[name_labels,d], columns=['Id','party'])\n",
    "Party_attribute.to_csv('gephi_'+leg+'-'+from_date+'-'+to_date+'party'+'.csv', sep=',',  index=False, header=True)"
   ]
  },
  {
   "cell_type": "markdown",
   "metadata": {},
   "source": [
    "This can be used to see if the label dictionary needs to be adjusted:"
   ]
  },
  {
   "cell_type": "code",
   "execution_count": null,
   "metadata": {},
   "outputs": [],
   "source": [
    "print(\"Unique label values found in data: \\n{0}\".format(labels_in_data))\n",
    "print(\"Label values that are translated by provided dictionary: \\n{0}\".format(party_map.keys()))"
   ]
  },
  {
   "cell_type": "markdown",
   "metadata": {},
   "source": [
    "Find partitions based on Louvain method and calculate modularity"
   ]
  },
  {
   "cell_type": "code",
   "execution_count": 10,
   "metadata": {},
   "outputs": [],
   "source": [
    "partitions, modularity = detect_partitions(adjacency, resolution=1)"
   ]
  },
  {
   "cell_type": "markdown",
   "metadata": {},
   "source": [
    "Draw some eigenmaps and plot party membership as signal:"
   ]
  },
  {
   "cell_type": "code",
   "execution_count": null,
   "metadata": {},
   "outputs": [],
   "source": [
    "eigenvals, eigenvectors = get_lap_eigendecomp(adjacency, lap_type='normalized', ret_eigval=True)"
   ]
  },
  {
   "cell_type": "code",
   "execution_count": null,
   "metadata": {},
   "outputs": [],
   "source": [
    "partition_signal = make_signal(adjacency.shape[0],partitions)\n",
    "party_signal = name_with_party_num['PartyAbbreviation'].values\n",
    "colorbar_labels = ['UDC', 'PLR', 'MCR', 'LEGA', 'PBD', 'csp-ow', 'PDC', 'PEV', 'pvl', 'BastA', 'PdT', 'PES', 'PSS']"
   ]
  },
  {
   "cell_type": "code",
   "execution_count": null,
   "metadata": {},
   "outputs": [],
   "source": [
    "fig = plt.figure(figsize=(16,9))\n",
    "ax = fig.add_subplot(111)\n",
    "ax.scatter(eigenvectors[:,1], eigenvectors[:,2], c=partition_signal, s=15, vmin=-6, vmax=6, cmap=\"jet\")\n",
    "\n",
    "for i, txt in enumerate(name_labels):\n",
    "    ax.annotate(txt, (eigenvectors[i,1], eigenvectors[i,2]), xytext=(1,1), textcoords='offset points')\n",
    "    \n",
    "ax.set_title('Position on political spectrum by party ')\n",
    "fig.tight_layout()"
   ]
  },
  {
   "cell_type": "markdown",
   "metadata": {},
   "source": [
    "Set colorbar to whatever"
   ]
  },
  {
   "cell_type": "code",
   "execution_count": null,
   "metadata": {},
   "outputs": [],
   "source": [
    "cbar = fig.colorbar(ax.collections[0], ticks=np.linspace(6,-6,13), orientation='vertical')\n",
    "cbar.ax.set_yticklabels(colorbar_labels)"
   ]
  },
  {
   "cell_type": "markdown",
   "metadata": {},
   "source": [
    "**Party orientation assessment**"
   ]
  },
  {
   "cell_type": "code",
   "execution_count": 27,
   "metadata": {},
   "outputs": [],
   "source": [
    "legislatures=['48','49','50']\n",
    "years_of_leg = [4,4,3]\n",
    "# Compute average orientation of a party per year\n",
    "party_evolution_df, years = create_evolution_features_v1(legislatures, years_of_leg)"
   ]
  },
  {
   "cell_type": "code",
   "execution_count": 29,
   "metadata": {},
   "outputs": [
    {
     "data": {
      "image/png": "[encoded data removed]",
      "text/plain": [
       "<Figure size 1008x504 with 1 Axes>"
      ]
     },
     "metadata": {
      "needs_background": "light"
     },
     "output_type": "display_data"
    }
   ],
   "source": [
    "party_to_be_plotted = ['UDC','PSS','PDC','pvl','PLR','PES','PBD']\n",
    "party_colors = ['royalblue','r', 'orange', 'g', 'cyan', 'forestgreen', 'yellow']\n",
    "party_color_map = dict((key, value) for (key, value) in zip(party_to_be_plotted, party_colors))\n",
    "\n",
    "visualize_party_orientation(party_evolution_df, years, party_color_map)\n"
   ]
  },
  {
   "cell_type": "markdown",
   "metadata": {},
   "source": [
    "** Modularity analysis **"
   ]
  },
  {
   "cell_type": "code",
   "execution_count": 34,
   "metadata": {},
   "outputs": [
    {
     "data": {
      "image/png": "[encoded data removed]",
      "text/plain": [
       "<Figure size 792x360 with 1 Axes>"
      ]
     },
     "metadata": {
      "needs_background": "light"
     },
     "output_type": "display_data"
    }
   ],
   "source": [
    "legislatures=['48','49','50']\n",
    "years_of_leg = [4,4,3]\n",
    "modularity_data, years = compute_modularity(legislatures, years_of_leg, resolution=1)\n",
    "visualize_modularity(modularity_data, years)"
   ]
  },
  {
   "cell_type": "markdown",
   "metadata": {},
   "source": [
    "** Community \"loyalty\" analysis**"
   ]
  },
  {
   "cell_type": "code",
   "execution_count": 35,
   "metadata": {},
   "outputs": [],
   "source": [
    "leg = ['50']\n",
    "leg_years = [3]\n",
    "# Analyze for communities formed by modularity maximization\n",
    "community_type = 'modularity_max'\n",
    "\n",
    "communities, community_loyalty, node_loyalty, years = compute_community_loyalty(community_type, leg, leg_years)"
   ]
  },
  {
   "cell_type": "code",
   "execution_count": 36,
   "metadata": {},
   "outputs": [
    {
     "name": "stderr",
     "output_type": "stream",
     "text": [
      "C:\\Users\\silus\\Anaconda3\\lib\\site-packages\\matplotlib\\figure.py:445: UserWarning: Matplotlib is currently using module://ipykernel.pylab.backend_inline, which is a non-GUI backend, so cannot show the figure.\n",
      "  % get_backend())\n"
     ]
    },
    {
     "data": {
      "image/png": "[encoded data removed]",
      "text/plain": [
       "<Figure size 1080x360 with 1 Axes>"
      ]
     },
     "metadata": {
      "needs_background": "light"
     },
     "output_type": "display_data"
    }
   ],
   "source": [
    "visualize_node_loyalty(node_loyalty[0], padding=10)"
   ]
  },
  {
   "cell_type": "markdown",
   "metadata": {},
   "source": [
    "**Centrality**"
   ]
  },
  {
   "cell_type": "code",
   "execution_count": 46,
   "metadata": {},
   "outputs": [],
   "source": [
    "legislatures=['48','49','50']\n",
    "years_of_leg = [4,4,3]\n",
    "centrality, years = centralities(legislatures, years_of_leg, 0.5)"
   ]
  },
  {
   "cell_type": "code",
   "execution_count": 49,
   "metadata": {},
   "outputs": [
    {
     "data": {
      "text/html": [
       "<div>\n",
       "<style scoped>\n",
       "    .dataframe tbody tr th:only-of-type {\n",
       "        vertical-align: middle;\n",
       "    }\n",
       "\n",
       "    .dataframe tbody tr th {\n",
       "        vertical-align: top;\n",
       "    }\n",
       "\n",
       "    .dataframe thead th {\n",
       "        text-align: right;\n",
       "    }\n",
       "</style>\n",
       "<table border=\"1\" class=\"dataframe\">\n",
       "  <thead>\n",
       "    <tr style=\"text-align: right;\">\n",
       "      <th></th>\n",
       "      <th>CouncillorName</th>\n",
       "      <th>PartyAbbreviation</th>\n",
       "      <th>Closeness centrality</th>\n",
       "      <th>Betweenness centrality</th>\n",
       "    </tr>\n",
       "  </thead>\n",
       "  <tbody>\n",
       "    <tr>\n",
       "      <th>0</th>\n",
       "      <td>Bruderer Wyss Pascale</td>\n",
       "      <td>PSS</td>\n",
       "      <td>0.485075</td>\n",
       "      <td>0.014283</td>\n",
       "    </tr>\n",
       "    <tr>\n",
       "      <th>1</th>\n",
       "      <td>Parmelin Guy</td>\n",
       "      <td>UDC</td>\n",
       "      <td>0.502577</td>\n",
       "      <td>0.019637</td>\n",
       "    </tr>\n",
       "    <tr>\n",
       "      <th>2</th>\n",
       "      <td>Germanier Jean-René</td>\n",
       "      <td>PLR</td>\n",
       "      <td>0.580357</td>\n",
       "      <td>0.002626</td>\n",
       "    </tr>\n",
       "    <tr>\n",
       "      <th>3</th>\n",
       "      <td>Engelberger Edi</td>\n",
       "      <td>PLR</td>\n",
       "      <td>0.592705</td>\n",
       "      <td>0.009219</td>\n",
       "    </tr>\n",
       "    <tr>\n",
       "      <th>4</th>\n",
       "      <td>Müller Geri</td>\n",
       "      <td>PES</td>\n",
       "      <td>0.372849</td>\n",
       "      <td>0.000001</td>\n",
       "    </tr>\n",
       "  </tbody>\n",
       "</table>\n",
       "</div>"
      ],
      "text/plain": [
       "          CouncillorName PartyAbbreviation  Closeness centrality  \\\n",
       "0  Bruderer Wyss Pascale               PSS              0.485075   \n",
       "1           Parmelin Guy               UDC              0.502577   \n",
       "2    Germanier Jean-René               PLR              0.580357   \n",
       "3        Engelberger Edi               PLR              0.592705   \n",
       "4            Müller Geri               PES              0.372849   \n",
       "\n",
       "   Betweenness centrality  \n",
       "0                0.014283  \n",
       "1                0.019637  \n",
       "2                0.002626  \n",
       "3                0.009219  \n",
       "4                0.000001  "
      ]
     },
     "execution_count": 49,
     "metadata": {},
     "output_type": "execute_result"
    }
   ],
   "source": [
    "centrality[0].head()"
   ]
  },
  {
   "cell_type": "markdown",
   "metadata": {},
   "source": [
    "**Party isolation analysis**"
   ]
  },
  {
   "cell_type": "code",
   "execution_count": null,
   "metadata": {},
   "outputs": [],
   "source": []
  }
 ],
 "metadata": {
  "kernelspec": {
   "display_name": "Python 3",
   "language": "python",
   "name": "python3"
  },
  "language_info": {
   "codemirror_mode": {
    "name": "ipython",
    "version": 3
   },
   "file_extension": ".py",
   "mimetype": "text/x-python",
   "name": "python",
   "nbconvert_exporter": "python",
   "pygments_lexer": "ipython3",
   "version": "3.6.4"
  }
 },
 "nbformat": 4,
 "nbformat_minor": 2
}
