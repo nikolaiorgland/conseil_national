{
 "cells": [
  {
   "cell_type": "markdown",
   "metadata": {},
   "source": [
    "** Final project code **"
   ]
  },
  {
   "cell_type": "code",
   "execution_count": null,
   "metadata": {},
   "outputs": [],
   "source": [
    "%load_ext autoreload\n",
    "%autoreload 2"
   ]
  },
  {
   "cell_type": "code",
   "execution_count": null,
   "metadata": {},
   "outputs": [],
   "source": [
    "import numpy as np\n",
    "import pandas as pd\n",
    "import pygsp as pg"
   ]
  },
  {
   "cell_type": "code",
   "execution_count": null,
   "metadata": {},
   "outputs": [],
   "source": [
    "from load_and_preprocessing import load_data_and_filter_members, assign_party_to_names\n",
    "from helpers import label_to_numeric, get_lap_eigendecomp, make_signal, visualize_node_loyalty\n",
    "from network_analysis import compute_community_loyalty, detect_partitions\n",
    "from conseil_national_evolution import create_evolution_features_v1"
   ]
  },
  {
   "cell_type": "code",
   "execution_count": null,
   "metadata": {},
   "outputs": [],
   "source": [
    "# Use load_data_and_filter_members to create adjacency for any file from any legislature\n",
    "# Example \n",
    "leg=''\n",
    "from_date = '01_01_2012'\n",
    "to_date = '31_12_2012'\n",
    "adjacency, node_index, sum_na_per_row = load_data_and_filter_members('../data/abdb-de-all-affairs-'+leg+'-0.csv',\n",
    "                                                                     start_date=from_date, end_date=to_date,\n",
    "                                                                     filter_method='number_NA',cutoff=10,ret_transf=False)"
   ]
  },
  {
   "cell_type": "markdown",
   "metadata": {},
   "source": [
    "Assigning parties to the councillors from the dataset loaded above:"
   ]
  },
  {
   "cell_type": "code",
   "execution_count": null,
   "metadata": {},
   "outputs": [],
   "source": [
    "name_with_party = assign_party_to_names('../data/Ratsmitglieder_1848_FR.csv', node_index)\n",
    "print(name_with_party.to_string())"
   ]
  },
  {
   "cell_type": "markdown",
   "metadata": {},
   "source": [
    "Make a csv that can be used in Gephi:"
   ]
  },
  {
   "cell_type": "code",
   "execution_count": null,
   "metadata": {},
   "outputs": [],
   "source": [
    "name_labels = name_with_party['CouncillorName'].values\n",
    "adjacency_df = pd.DataFrame(data=adjacency, columns=name_labels, index=name_labels)\n",
    "adjacency_df.to_csv('gephi_'+leg+'-'+from_date+'-'+to_date+'.csv', sep=',', index_label='', index=True, header=True)"
   ]
  },
  {
   "cell_type": "markdown",
   "metadata": {},
   "source": [
    "Translating the party label into a numerical value:"
   ]
  },
  {
   "cell_type": "code",
   "execution_count": null,
   "metadata": {},
   "outputs": [],
   "source": [
    "# Example here is with parties, but the same function works for any kind of dictionary, eg. lobbying mandates\n",
    "party_map = {'UDC': 6,'PSS': -6,'PDC':0,'BastA':-3,'PLR':5,'pvl':-2,\n",
    "             'PES':-5, 'PBD':2, 'PdT':-4,'PLS':5,\n",
    "             'PRD':5, 'MCR':4, 'PEV':-1, 'Lega':3, 'csp-ow':1, 'Al':-7,'FraP!':-8, 'GB':7, 'CSPO':8 }\n",
    "\n",
    "name_with_party_num, labels_in_data = label_to_numeric(name_with_party, 'PartyAbbreviation', party_map, ret_values=True)"
   ]
  },
  {
   "cell_type": "code",
   "execution_count": null,
   "metadata": {},
   "outputs": [],
   "source": [
    "name_labels = name_with_party['CouncillorName'].values\n",
    "d= name_with_party_num['PartyAbbreviation'].values\n",
    "Party_attribute = pd.DataFrame(data=np.c_[name_labels,d], columns=['Id','party'])\n",
    "Party_attribute.to_csv('gephi_'+leg+'-'+from_date+'-'+to_date+'party'+'.csv', sep=',',  index=False, header=True)"
   ]
  },
  {
   "cell_type": "markdown",
   "metadata": {},
   "source": [
    "This can be used to see if the label dictionary needs to be adjusted:"
   ]
  },
  {
   "cell_type": "code",
   "execution_count": null,
   "metadata": {},
   "outputs": [],
   "source": [
    "print(\"Unique label values found in data: \\n{0}\".format(labels_in_data))\n",
    "print(\"Label values that are translated by provided dictionary: \\n{0}\".format(party_map.keys()))"
   ]
  },
  {
   "cell_type": "markdown",
   "metadata": {},
   "source": [
    "Find partitions based on Louvain method and calculate modularity"
   ]
  },
  {
   "cell_type": "code",
   "execution_count": null,
   "metadata": {},
   "outputs": [],
   "source": [
    "partitions, modularity = detect_partitions(adjacency, resolution=1)"
   ]
  },
  {
   "cell_type": "markdown",
   "metadata": {},
   "source": [
    "Draw some eigenmaps and plot party membership as signal:"
   ]
  },
  {
   "cell_type": "code",
   "execution_count": null,
   "metadata": {},
   "outputs": [],
   "source": [
    "eigenvals, eigenvectors = get_lap_eigendecomp(adjacency, lap_type='normalized', ret_eigval=True)"
   ]
  },
  {
   "cell_type": "code",
   "execution_count": null,
   "metadata": {},
   "outputs": [],
   "source": [
    "import matplotlib.pylab as plt\n",
    "%matplotlib inline"
   ]
  },
  {
   "cell_type": "code",
   "execution_count": null,
   "metadata": {},
   "outputs": [],
   "source": [
    "partition_signal = make_signal(adjacency.shape[0],partitions)\n",
    "party_signal = name_with_party_num['PartyAbbreviation'].values\n",
    "colorbar_labels = ['UDC', 'PLR', 'MCR', 'LEGA', 'PBD', 'csp-ow', 'PDC', 'PEV', 'pvl', 'BastA', 'PdT', 'PES', 'PSS']"
   ]
  },
  {
   "cell_type": "code",
   "execution_count": null,
   "metadata": {},
   "outputs": [],
   "source": [
    "fig = plt.figure(figsize=(16,9))\n",
    "ax = fig.add_subplot(111)\n",
    "ax.scatter(eigenvectors[:,1], eigenvectors[:,2], c=partition_signal, s=15, vmin=-6, vmax=6, cmap=\"jet\")\n",
    "\n",
    "for i, txt in enumerate(name_labels):\n",
    "    ax.annotate(txt, (eigenvectors[i,1], eigenvectors[i,2]), xytext=(1,1), textcoords='offset points')\n",
    "    \n",
    "ax.set_title('Position on political spectrum by party ')\n",
    "fig.tight_layout()"
   ]
  },
  {
   "cell_type": "markdown",
   "metadata": {},
   "source": [
    "Set colorbar to whatever"
   ]
  },
  {
   "cell_type": "code",
   "execution_count": null,
   "metadata": {},
   "outputs": [],
   "source": [
    "cbar = fig.colorbar(ax.collections[0], ticks=np.linspace(6,-6,13), orientation='vertical')\n",
    "cbar.ax.set_yticklabels(colorbar_labels)"
   ]
  },
  {
   "cell_type": "markdown",
   "metadata": {},
   "source": [
    "**Party orientation assessment**"
   ]
  },
  {
   "cell_type": "code",
   "execution_count": null,
   "metadata": {},
   "outputs": [],
   "source": [
    "legislatures=['48','49','50']\n",
    "# Compute average orientation of a party per year\n",
    "party_evolution_df, years = create_evolution_features_v1(legislatures)"
   ]
  },
  {
   "cell_type": "code",
   "execution_count": null,
   "metadata": {},
   "outputs": [],
   "source": [
    "party_to_be_plotted = ['UDC','PSS','PDC','pvl','PLR','PES','PBD']\n",
    "party_colors = ['royalblue','r', 'orange', 'g', 'cyan', 'forestgreen', 'yellow']\n",
    "party_color_map = dict((key, value) for (key, value) in zip(party_to_be_plotted, party_colors))\n",
    "\n",
    "fig = plt.figure(figsize=(16,9))\n",
    "ax = fig.add_subplot(111)\n",
    "for party in party_to_be_plotted:\n",
    "    orientation = []\n",
    "    domination = []\n",
    "    for values_per_year in party_evolution_df:\n",
    "        values_party = values_per_year[party].values\n",
    "        orientation.append(values_party[0])\n",
    "        domination.append(values_party[1])\n",
    "    ax.plot(orientation, years, c=party_color_map[party])\n",
    "plt.yticks(years, years.astype(str))"
   ]
  },
  {
   "cell_type": "markdown",
   "metadata": {},
   "source": [
    "** Modularity analysis **"
   ]
  },
  {
   "cell_type": "code",
   "execution_count": null,
   "metadata": {},
   "outputs": [],
   "source": [
    "from matplotlib import pyplot as plt\n",
    "    \n",
    "modularity_data = visualize_modularity(resolution=0.6)\n",
    "years = [2008, 2009, 2010, 2011, 2012, 2013, 2014, 2015, 2016, 2017, 2018] \n",
    "\n",
    "fig, ax = plt.subplots()\n",
    "ax = plt.axes()      \n",
    "\n",
    "plt.plot(years, modularity_data)\n",
    "ax.set_title(\"Evolution of modularity over time\",fontsize=14)\n",
    "ax.set_xlabel(\"Year\",fontsize=12)\n",
    "ax.set_xticks(years)\n",
    "ax.set_ylabel(\"Modularity\",fontsize=12)\n",
    "ax.set_ylim([0,0.4])\n",
    "plt.show()\n",
    "fig.savefig('modularity_evolution.png', dpi=300, bbox_inches = \"tight\")"
   ]
  },
  {
   "cell_type": "markdown",
   "metadata": {},
   "source": [
    "** Community \"loyalty\" analysis**"
   ]
  },
  {
   "cell_type": "code",
   "execution_count": null,
   "metadata": {},
   "outputs": [],
   "source": [
    "leg = ['50']\n",
    "leg_years = [3]\n",
    "# Analyze for communities formed by modularity maximization\n",
    "community_type = 'party'\n",
    "\n",
    "communities, community_loyalty, node_loyalty = compute_community_loyalty(community_type, leg, leg_years )"
   ]
  },
  {
   "cell_type": "code",
   "execution_count": null,
   "metadata": {},
   "outputs": [],
   "source": [
    "#print(community_loyalty[0])\n",
    "#print(communities[0])\n",
    "print(node_loyalty[0].to_string())"
   ]
  },
  {
   "cell_type": "code",
   "execution_count": null,
   "metadata": {},
   "outputs": [],
   "source": [
    "visualize_node_loyalty(node_loyalty[0], padding=10)"
   ]
  },
  {
   "cell_type": "code",
   "execution_count": null,
   "metadata": {},
   "outputs": [],
   "source": []
  }
 ],
 "metadata": {
  "kernelspec": {
   "display_name": "Python 3",
   "language": "python",
   "name": "python3"
  },
  "language_info": {
   "codemirror_mode": {
    "name": "ipython",
    "version": 3
   },
   "file_extension": ".py",
   "mimetype": "text/x-python",
   "name": "python",
   "nbconvert_exporter": "python",
   "pygments_lexer": "ipython3",
   "version": "3.6.4"
  }
 },
 "nbformat": 4,
 "nbformat_minor": 2
}
