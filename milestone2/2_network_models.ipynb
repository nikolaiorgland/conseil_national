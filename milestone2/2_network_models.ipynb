{
 "cells": [
  {
   "cell_type": "markdown",
   "metadata": {},
   "source": [
    "# [NTDS'18] milestone 2: network models\n",
    "[ntds'18]: https://github.com/mdeff/ntds_2018\n",
    "\n",
    "[Hermina Petric Maretic](https://people.epfl.ch/hermina.petricmaretic), [EPFL LTS4](https://lts4.epfl.ch)"
   ]
  },
  {
   "cell_type": "markdown",
   "metadata": {},
   "source": [
    "## Students\n",
    "\n",
    "* Team: 44\n",
    "* Students: Nikolai Orgland, Silvan Stettler, Yann Morize, Diego Debruyn\n",
    "* Dataset: Swiss Federal Council"
   ]
  },
  {
   "cell_type": "markdown",
   "metadata": {},
   "source": [
    "## Rules\n",
    "\n",
    "* Milestones have to be completed by teams. No collaboration between teams is allowed.\n",
    "* Textual answers shall be short. Typically one to two sentences.\n",
    "* Code has to be clean.\n",
    "* In the first part, you cannot import any other library than we imported. In the second part, you are allowed to import any library you want.\n",
    "* When submitting, the notebook is executed and the results are stored. I.e., if you open the notebook again it should show numerical results and plots. We won't be able to execute your notebooks.\n",
    "* The notebook is re-executed from a blank state before submission. That is to be sure it is reproducible. You can click \"Kernel\" then \"Restart & Run All\" in Jupyter."
   ]
  },
  {
   "cell_type": "markdown",
   "metadata": {},
   "source": [
    "## Objective\n",
    "\n",
    "The purpose of this milestone is to explore various random network models, analyse their properties and compare them to your network. In the first part of the milestone you will implement two random graph models and try to fit them to your network. In this part you are not allowed to use any additional package. In the second part of the milestone you will choose a third random graph model that you think shares some properties with your network. You will be allowed to use additional packages to construct this network, but you must explain your network choice. Finally, make your code as clean as possible, and keep your textual answers short."
   ]
  },
  {
   "cell_type": "markdown",
   "metadata": {},
   "source": [
    "## Part 0\n",
    "\n",
    "Import the adjacency matrix of your graph that you constructed in milestone 1, as well as the number of nodes and edges of your network."
   ]
  },
  {
   "cell_type": "code",
   "execution_count": 1,
   "metadata": {},
   "outputs": [],
   "source": [
    "import numpy as np\n",
    "\n",
    "# We have several binary matrices created using different thresholds\n",
    "filenames = [\"adjacency_0.1\", \"adjacency_0.3\", \"adjacency_0.5\", \"adjacency_0.7\", \"adjacency_0.9\"]\n",
    "\n",
    "adjacencies_binary =  [np.load(file+\".npy\") for file in filenames]\n",
    "n_nodes =  np.asarray([a.shape[0] for a in adjacencies_binary])\n",
    "n_edges =  np.asarray([np.sum(a)/2 for a in adjacencies_binary])\n",
    "thresholds = np.linspace(0.1, 0.9, 5)"
   ]
  },
  {
   "cell_type": "markdown",
   "metadata": {},
   "source": [
    "## Part 1\n",
    "\n",
    "**For the computation of this part of the milestone you are only allowed to use the packages that have been imported in the cell below.**"
   ]
  },
  {
   "cell_type": "code",
   "execution_count": 2,
   "metadata": {},
   "outputs": [],
   "source": [
    "%matplotlib inline\n",
    "\n",
    "import random\n",
    "\n",
    "import pandas as pd\n",
    "import matplotlib.pyplot as plt\n",
    "import scipy"
   ]
  },
  {
   "cell_type": "markdown",
   "metadata": {},
   "source": [
    "### Question 1\n",
    "\n",
    "Create a function that constructs an Erdős–Rényi graph."
   ]
  },
  {
   "cell_type": "code",
   "execution_count": 3,
   "metadata": {},
   "outputs": [],
   "source": [
    "def erdos_renyi(n, p, seed=None):\n",
    "    \"\"\"Create an instance from the Erdos-Renyi graph model.\n",
    "    \n",
    "    Parameters\n",
    "    ----------\n",
    "    n: int\n",
    "        Size of the graph.\n",
    "    p: float\n",
    "        Edge probability. A number between 0 and 1.\n",
    "    seed: int (optional)\n",
    "        Seed for the random number generator. To get reproducible results.\n",
    "    \n",
    "    Returns\n",
    "    -------\n",
    "    adjacency\n",
    "        The adjacency matrix of a graph.\n",
    "    \"\"\"\n",
    "    \n",
    "    np.random.seed(seed)\n",
    "    G = np.zeros((n,n))\n",
    "    \n",
    "    for i in range(n):\n",
    "        for j in range(i,n):\n",
    "            if i != j:\n",
    "                r = random.random()\n",
    "                if r <= p:\n",
    "                    # Probability p that nodes are connected\n",
    "                    G[i,j] = 1\n",
    "                else:\n",
    "                    continue\n",
    "            else:\n",
    "                # Nodes are not connected with themselves, leave the zeros\n",
    "                continue\n",
    "    adjacency = G + np.transpose(G)\n",
    "    \n",
    "    return adjacency"
   ]
  },
  {
   "cell_type": "code",
   "execution_count": 4,
   "metadata": {},
   "outputs": [
    {
     "data": {
      "text/plain": [
       "Text(0.5,1.05,'Erdos-Renyi (5, 0.6)')"
      ]
     },
     "execution_count": 4,
     "metadata": {},
     "output_type": "execute_result"
    },
    {
     "data": {
      "image/png": "[encoded data removed]",
      "text/plain": [
       "<matplotlib.figure.Figure at 0x27ca121d6d8>"
      ]
     },
     "metadata": {},
     "output_type": "display_data"
    }
   ],
   "source": [
    "er = erdos_renyi(5, 0.6, 9765)\n",
    "plt.spy(er)\n",
    "plt.title('Erdos-Renyi (5, 0.6)')"
   ]
  },
  {
   "cell_type": "code",
   "execution_count": 5,
   "metadata": {},
   "outputs": [
    {
     "data": {
      "text/plain": [
       "Text(0.5,1.05,'Erdos-Renyi (10, 0.4)')"
      ]
     },
     "execution_count": 5,
     "metadata": {},
     "output_type": "execute_result"
    },
    {
     "data": {
      "image/png": "[encoded data removed]",
      "text/plain": [
       "<matplotlib.figure.Figure at 0x27ca121ddd8>"
      ]
     },
     "metadata": {},
     "output_type": "display_data"
    }
   ],
   "source": [
    "er = erdos_renyi(10, 0.4, 7648)\n",
    "plt.spy(er)\n",
    "plt.title('Erdos-Renyi (10, 0.4)')"
   ]
  },
  {
   "cell_type": "markdown",
   "metadata": {},
   "source": [
    "### Question 2\n",
    "\n",
    "Use the function to create a random Erdos-Renyi graph. Choose the parameters such that number of nodes is the same as in your graph, and the number of edges similar. You don't need to set the random seed. Comment on your choice of parameters."
   ]
  },
  {
   "cell_type": "code",
   "execution_count": 6,
   "metadata": {},
   "outputs": [
    {
     "name": "stdout",
     "output_type": "stream",
     "text": [
      "The number of links in the Erdos-Renyi graph with p = 0.806 is 15980\n",
      "The number of links in our graph with threshold 0.1 is 16030\n",
      "\n",
      "The number of links in the Erdos-Renyi graph with p = 0.634 is 12620\n",
      "The number of links in our graph with threshold 0.3 is 12618\n",
      "\n",
      "The number of links in the Erdos-Renyi graph with p = 0.376 is 7466\n",
      "The number of links in our graph with threshold 0.5 is 7485\n",
      "\n",
      "The number of links in the Erdos-Renyi graph with p = 0.236 is 4691\n",
      "The number of links in our graph with threshold 0.7 is 4697\n",
      "\n",
      "The number of links in the Erdos-Renyi graph with p = 0.179 is 3559\n",
      "The number of links in our graph with threshold 0.9 is 3568\n",
      "\n"
     ]
    }
   ],
   "source": [
    "# Take probability based on maximum possible number of edges and observed edges\n",
    "p_link = n_edges/(n_nodes*(n_nodes-1)/2)\n",
    "er_CN = [erdos_renyi(n, p) for n,p in zip(n_nodes,p_link)]\n",
    "L_er = [(np.count_nonzero(er))/2 for er in er_CN]\n",
    "n_nodes_er = [er.shape[0] for er in er_CN]\n",
    "L = n_edges\n",
    "\n",
    "for i in range(len(er_CN)):\n",
    "    print(\"The number of links in the Erdos-Renyi graph with p = {0:.3f} is {1:.0f}\".format(p_link[i], L_er[i]))\n",
    "    print(\"The number of links in our graph with threshold {0:.1f} is {1:.0f}\\n\".format(thresholds[i], L[i]))"
   ]
  },
  {
   "cell_type": "markdown",
   "metadata": {},
   "source": [
    "**By using the formula of the course for the expected number of links in a random graph\n",
    "\\begin{equation}\n",
    "L =p\\frac{N(N-1)}{2}  \n",
    "\\end{equation} \n",
    "We can isolate $p$ and calculate it with the number of links $N$ and the number of edges $L$ for our different thresholded adjacency matrix. We can then use this value $p$ and the number of nodes $N$ to create an Erdos-Renyi graph which will have (in average) the same number of edges as our adjacency**\n"
   ]
  },
  {
   "cell_type": "markdown",
   "metadata": {},
   "source": [
    "### Question 3\n",
    "\n",
    "Create a function that constructs a Barabási-Albert graph."
   ]
  },
  {
   "cell_type": "code",
   "execution_count": 7,
   "metadata": {},
   "outputs": [],
   "source": [
    "def barabasi_albert(n, m, m0, seed=None):\n",
    "    \"\"\"Create an instance from the Barabasi-Albert graph model.\n",
    "    \n",
    "    Parameters\n",
    "    ----------\n",
    "    n: int\n",
    "        Size of the graph.\n",
    "    m: int\n",
    "        Number of edges to attach from a new node to existing nodes.\n",
    "    m0: int\n",
    "        Number of initial nodes\n",
    "    seed: int (optional)\n",
    "        Seed for the random number generator. To get reproducible results.\n",
    "    \n",
    "    Returns\n",
    "    -------\n",
    "    adjacency\n",
    "        The adjacency matrix of a graph.\n",
    "    \"\"\"\n",
    "    \n",
    "    if m > m0:\n",
    "        return print(\"The inital number of nodes is too small\")\n",
    "    \n",
    "    np.random.seed(seed)\n",
    "    \n",
    "    # initalizing the graph\n",
    "    G = np.zeros((n,n))\n",
    "    nodes = np.arange(m0)\n",
    "    \n",
    "\n",
    "    # connecting the initial m0 nodes together\n",
    "    for i in range(m0):\n",
    "        G[i,i+1] = 1\n",
    "    \n",
    "    for j in range(m0,n):\n",
    "    \n",
    "        # count degrees of existing nodes\n",
    "        k_i = np.sum(G[nodes, :],axis = 1)\n",
    "        \n",
    "        # Nodes to which no edge exists yet\n",
    "        available_nodes = nodes\n",
    "    \n",
    "        # add m links to new node\n",
    "        rand_nb = np.random.rand(m)  \n",
    "\n",
    "        for i in range(m):\n",
    "            # compute probability of connection with each available node\n",
    "            p = k_i[available_nodes]/np.sum(k_i[available_nodes])\n",
    "            \n",
    "            # compute cumulated probability array which can be used to classifiy a generated random number\n",
    "            p_cum = np.cumsum(p)\n",
    "            \n",
    "            target_index = min(np.argwhere(p_cum >= rand_nb[i]))\n",
    "            target_node = available_nodes[target_index]\n",
    "            available_nodes = np.delete(available_nodes, target_index)\n",
    "    \n",
    "            # We connect the selected target node\n",
    "            G[j,target_node] = 1\n",
    "        \n",
    "        # Finally, we add the new node to our existing node list\n",
    "        nodes = np.append(nodes, j)\n",
    "    \n",
    "    adjacency = G + np.transpose(G)\n",
    "    \n",
    "    \n",
    "    return adjacency\n"
   ]
  },
  {
   "cell_type": "code",
   "execution_count": 8,
   "metadata": {},
   "outputs": [
    {
     "data": {
      "text/plain": [
       "Text(0.5,1.05,'Barabasi-Albert (5, 1)')"
      ]
     },
     "execution_count": 8,
     "metadata": {},
     "output_type": "execute_result"
    },
    {
     "data": {
      "image/png": "[encoded data removed]",
      "text/plain": [
       "<matplotlib.figure.Figure at 0x27ca13de9b0>"
      ]
     },
     "metadata": {},
     "output_type": "display_data"
    }
   ],
   "source": [
    "ba = barabasi_albert(5, 1, 2, 9087)\n",
    "plt.spy(ba)\n",
    "plt.title('Barabasi-Albert (5, 1)')"
   ]
  },
  {
   "cell_type": "code",
   "execution_count": 9,
   "metadata": {},
   "outputs": [
    {
     "data": {
      "text/plain": [
       "Text(0.5,1.05,'Barabasi-Albert (10, 2)')"
      ]
     },
     "execution_count": 9,
     "metadata": {},
     "output_type": "execute_result"
    },
    {
     "data": {
      "image/png": "[encoded data removed]",
      "text/plain": [
       "<matplotlib.figure.Figure at 0x27ca13e4748>"
      ]
     },
     "metadata": {},
     "output_type": "display_data"
    }
   ],
   "source": [
    "ba = barabasi_albert(10, 2, 2, 8708)\n",
    "plt.spy(ba)\n",
    "plt.title('Barabasi-Albert (10, 2)')"
   ]
  },
  {
   "cell_type": "markdown",
   "metadata": {},
   "source": [
    "### Question 4\n",
    "\n",
    "Use the function to create a random Barabási-Albert graph. Choose the parameters such that number of nodes is the same as in your graph, and the number of edges similar. You don't need to set the random seed. Comment on your choice of parameters."
   ]
  },
  {
   "cell_type": "markdown",
   "metadata": {},
   "source": [
    "**The number of edges $w$ in a random Barabási-Albert graph with $n$ nodes and is given by\n",
    "\\begin{equation}\n",
    "w = m_0 + (n-m_0)m \n",
    "\\end{equation}\n",
    "Thus, if a given number of edges $w^*$ should be contained in the graph (similar to the number of edges in our network), we need to find the integer solution to the above equations with the constraint $m \\leq m_0$.\n",
    "For the networks that were created with the thresholds 0.1 and 0.3, the number of edges is $>10000$ and it is impossible to find a corresponding $m$ and $m_0$ that result in a similar number of edges.**"
   ]
  },
  {
   "cell_type": "code",
   "execution_count": 10,
   "metadata": {
    "scrolled": true
   },
   "outputs": [
    {
     "name": "stdout",
     "output_type": "stream",
     "text": [
      "Simulation of a BA model with 48 inital nodes, 48 links per new node\n",
      "The number of nodes with this BA model: 200 \n",
      "The number of edges with this BA model: 7344\n",
      "\n",
      "Simulation of a BA model with 50 inital nodes, 31 links per new node\n",
      "The number of nodes with this BA model: 200 \n",
      "The number of edges with this BA model: 4700\n",
      "\n",
      "Simulation of a BA model with 32 inital nodes, 21 links per new node\n",
      "The number of nodes with this BA model: 200 \n",
      "The number of edges with this BA model: 3560\n",
      "\n"
     ]
    }
   ],
   "source": [
    "# These m0 and m correspond to a final number of edges similar to the real network with thresholds 0.5, 0.7 and 0.9\n",
    "ba_param = [(48,48),(50,31),(32,21)]\n",
    "\n",
    "ba_CN = [barabasi_albert(200, param[1], param[0]) for param in ba_param]\n",
    "n_nodes_ba_CN = [ba.shape[0] for ba in ba_CN]\n",
    "n_edges_ba_CN = [np.sum(ba)/2 for ba in ba_CN]\n",
    "\n",
    "#plt.spy(ba_CN)\n",
    "#plt.title('Barabasi-Albert Conseil National (10, 2)')\n",
    "for i in range(len(ba_CN)):\n",
    "    print (\"Simulation of a BA model with {0} inital nodes, {1} links per new node\"\n",
    "           .format(ba_param[i][0], ba_param[i][1]))\n",
    "    print (\"The number of nodes with this BA model: %d \" % n_nodes_ba_CN[i])\n",
    "    print (\"The number of edges with this BA model: %d\\n\" % n_edges_ba_CN[i])\n"
   ]
  },
  {
   "cell_type": "markdown",
   "metadata": {},
   "source": [
    "**The corresponding $m_0$ and $m$ values for the thresholds 0.5, 0.7 and 0.9 were found with Wolfram Alpha and applying the constraint $m \\leq m_0$. The obtained values were 48, 50, 32 for the inital number of nodes $m_0$ and 48, 31, 21 for the links per node $m$ respectively**"
   ]
  },
  {
   "cell_type": "markdown",
   "metadata": {},
   "source": [
    "### Question 5\n",
    "\n",
    "Compare the number of edges in all three networks (your real network, the Erdős–Rényi network, and the Barabási-Albert netowk)."
   ]
  },
  {
   "cell_type": "code",
   "execution_count": 11,
   "metadata": {},
   "outputs": [
    {
     "name": "stdout",
     "output_type": "stream",
     "text": [
      "\n",
      "Real network created with threshold 0.1: Nodes: 200 Edges: 16030\n",
      "Erdös-Rényi network                      Nodes: 200 Edges: 15980\n",
      "\n",
      "Real network created with threshold 0.3: Nodes: 200 Edges: 12618\n",
      "Erdös-Rényi network                      Nodes: 200 Edges: 12620\n",
      "\n",
      "Real network created with threshold 0.5: Nodes: 200 Edges: 7485\n",
      "Erdös-Rényi network                      Nodes: 200 Edges: 7466\n",
      "Barabási-Albert network                  Nodes: 200 Edges: 7344\n",
      "\n",
      "Real network created with threshold 0.7: Nodes: 200 Edges: 4697\n",
      "Erdös-Rényi network                      Nodes: 200 Edges: 4691\n",
      "Barabási-Albert network                  Nodes: 200 Edges: 4700\n",
      "\n",
      "Real network created with threshold 0.9: Nodes: 200 Edges: 3568\n",
      "Erdös-Rényi network                      Nodes: 200 Edges: 3559\n",
      "Barabási-Albert network                  Nodes: 200 Edges: 3560\n"
     ]
    }
   ],
   "source": [
    "for i in range(len(thresholds)):\n",
    "    print (\"\\nReal network created with threshold {0:.1f}: Nodes: {1} Edges: {2:.0f}\"\n",
    "           .format(thresholds[i],n_nodes[i], n_edges[i]))\n",
    "    print (\"Erdös-Rényi network                      Nodes: {0} Edges: {1:.0f}\"\n",
    "           .format(n_nodes_er[i], L_er[i]))\n",
    "    \n",
    "    # For thresholds 0.1 and 0.3, no equivalent BA network can be created\n",
    "    if i > 1:\n",
    "        print (\"Barabási-Albert network                  Nodes: {0} Edges: {1:.0f}\"\n",
    "               .format(n_nodes_ba_CN[i-2], n_edges_ba_CN[i-2])) \n"
   ]
  },
  {
   "cell_type": "markdown",
   "metadata": {},
   "source": [
    "**As explained above, we were not able to to generate a Barabási-Albert network for the tresholds 0.1 and 0.3. For the other synthetic Erdös-Rényi and Barabási-Albert networks, we were able to find reasonable parameters that produced very similar amounts of edges than the real network. The observable differences in number of edges for the Erdös-Rényi model are due to the randomness in the network generation function. The differneces for the Barabási-Albert occur as as there were no combination of $m_0$ and $m$ that resulted in the exact same number of edges as for the real networks**"
   ]
  },
  {
   "cell_type": "markdown",
   "metadata": {},
   "source": [
    "### Question 6\n",
    "\n",
    "Implement a function that computes the [Kullback–Leibler (KL) divergence](https://en.wikipedia.org/wiki/Kullback%E2%80%93Leibler_divergence) between two probability distributions.\n",
    "We'll use it to compare the degree distributions of networks."
   ]
  },
  {
   "cell_type": "code",
   "execution_count": 12,
   "metadata": {},
   "outputs": [],
   "source": [
    "def kl_divergence(p, q):\n",
    "    \"\"\"Compute the KL divergence between probability distributions of degrees of two networks.\n",
    "    \n",
    "    Parameters\n",
    "    ----------\n",
    "    p: np.array\n",
    "        Probability distribution of degrees of the 1st graph.\n",
    "    q: np.array\n",
    "        Probability distribution of degrees of the 2nd graph.\n",
    "    \n",
    "    Returns\n",
    "    -------\n",
    "    kl\n",
    "        The KL divergence between the two distributions.\n",
    "    \"\"\"\n",
    "    \n",
    "    kl=np.dot(p,np.log(p/q))\n",
    "    \n",
    "    return kl"
   ]
  },
  {
   "cell_type": "code",
   "execution_count": 13,
   "metadata": {},
   "outputs": [
    {
     "data": {
      "text/plain": [
       "0.09151622184943572"
      ]
     },
     "execution_count": 13,
     "metadata": {},
     "output_type": "execute_result"
    }
   ],
   "source": [
    "p_test = np.array([0.2, 0.2, 0.2, 0.4])\n",
    "q_test = np.array([0.3, 0.3, 0.1, 0.3])\n",
    "kl_divergence(p_test, q_test)"
   ]
  },
  {
   "cell_type": "markdown",
   "metadata": {},
   "source": [
    "### Question 7\n",
    "\n",
    "Compare the degree distribution of your network to each of the two synthetic ones, in terms of KL divergence. **Hint:** Make sure you normalise your degree distributions to make them valid probability distributions."
   ]
  },
  {
   "cell_type": "code",
   "execution_count": 14,
   "metadata": {},
   "outputs": [],
   "source": [
    "def get_degree_distibution(adjacency, bins=None, laplace_smoothing=True, set_minmax=None):\n",
    "    \"\"\"\"This function returns the degree distribution for a graph with adjacency matrix adjacency.\n",
    "    In order to compute meaningful KL divergences, the degree axis is divided into intervals\n",
    "    and an average degree per intervall is computed. Furthermore, Laplace smoothing can be enabled in order to avoid \n",
    "    zero frequencies for some intervals which is necessary for the computation of the KL divergence.\n",
    "    \n",
    "    Returns vector of interval midpoints (degrees), probability for node to have a degree inside a certain interval,\n",
    "    average and extremas of the degree distirbution\"\"\"\n",
    "    \n",
    "    \"\"\" bins: number of intervalls between k_min and k_max\n",
    "        set_minmax: The minimum and maximum of the k axis can optionally be chosen. Along with the bins argument,\n",
    "        the sampling points can implicitly be chosen\n",
    "        laplace_smoothing: enables additive laplace smoothing. One occurence of a degree inside a given interval is \n",
    "        added to the counts actually observed in the adjacency matrix. This avoids having zero probabilities in \n",
    "        certain intervals of k, thus avoiding problems when computing KL-Divergence. \"\"\"\n",
    "        \n",
    "    k_i = np.sum(adjacency, axis=1)/2\n",
    "    k_i.sort()\n",
    "    k_freq, counts = np.unique(k_i, return_counts=True)\n",
    "    \n",
    "    if bins == None:\n",
    "        return k_freq, counts/np.sum(counts), [np.mean(k_i), (min(k_i), max(k_i))]\n",
    "    \n",
    "    # Create sample intervalls\n",
    "    if set_minmax == None:\n",
    "        dk, h = np.linspace(min(k_freq), max(k_freq), bins+1, retstep=True)\n",
    "    else:\n",
    "        dk, h = np.linspace(set_minmax[0], set_minmax[1], bins+1, retstep=True)\n",
    "    \n",
    "    if dk[-1] < max(k_i):\n",
    "        print(\"Warning: Chosen domain not wide enough\")\n",
    "    # Midpoints of the sampling intervals\n",
    "    k_s = dk[1:] - h/2\n",
    "    counts_s = []\n",
    "    prev_idx = 0\n",
    "    \n",
    "    # Laplace smoothing to avoid zero frequencies\n",
    "    if laplace_smoothing:\n",
    "        alpha = 1;\n",
    "        d = len(dk[1:])\n",
    "    else:\n",
    "        alpha = 0;\n",
    "        d = 0;\n",
    "        \n",
    "    # Sample degree distribution\n",
    "    for k in dk[1:]:\n",
    "        idx_smaller = np.argwhere(k_freq <= k)\n",
    "        if idx_smaller.size == 0:\n",
    "            counts_s.append(alpha)\n",
    "            continue\n",
    "        else:\n",
    "            idx = max(idx_smaller)+1\n",
    "            idx = np.asscalar(idx)\n",
    "            counts_s.append(np.sum(counts[prev_idx:idx])+alpha)\n",
    "            prev_idx = idx\n",
    "    # Normalize distribution\n",
    "    counts_s = np.array(counts_s)/(sum(counts_s)+d*alpha)\n",
    "    \n",
    "    # Return mean, max and min of degree distribution\n",
    "    stats = [np.mean(k_i), (min(k_i), max(k_i))]\n",
    "    return k_s, counts_s, stats "
   ]
  },
  {
   "cell_type": "code",
   "execution_count": 15,
   "metadata": {},
   "outputs": [],
   "source": [
    "# Computation of normalized degree distributions\n",
    "intervals = 66\n",
    "# Degrees from 0 to 100 and apply smoothing to avoid non-zero frequencies \n",
    "k_minmax = (0,100)\n",
    "smooth = True\n",
    "\n",
    "# Degree distributions for real network, ER and BA corresponding to thresholds 0.3, 0.5, 0.7\n",
    "deg_dist = [get_degree_distibution(adj_bin, bins=intervals,\n",
    "                                laplace_smoothing=smooth, set_minmax=k_minmax) for adj_bin in adjacencies_binary[1:4]]\n",
    "deg_dist_er = [get_degree_distibution(er, bins=intervals, \n",
    "                                laplace_smoothing=smooth, set_minmax=k_minmax) for er in er_CN[1:4]]\n",
    "deg_dist_ba = [get_degree_distibution(ba, bins=intervals,\n",
    "                                laplace_smoothing=smooth, set_minmax=k_minmax) for ba in ba_CN]"
   ]
  },
  {
   "cell_type": "code",
   "execution_count": 16,
   "metadata": {},
   "outputs": [],
   "source": [
    "# Prepare iterables\n",
    "k = []; p = []; k_er = []; p_er = []; k_ba = []; p_ba = []\n",
    "for real, er, ba in zip(deg_dist, deg_dist_er, deg_dist_ba):\n",
    "    k.append(real[0])\n",
    "    p.append(real[1])\n",
    "    k_er.append(er[0])\n",
    "    p_er.append(er[1])\n",
    "    k_ba.append(ba[0])\n",
    "    p_ba.append(ba[1])\n"
   ]
  },
  {
   "cell_type": "code",
   "execution_count": 17,
   "metadata": {},
   "outputs": [
    {
     "name": "stdout",
     "output_type": "stream",
     "text": [
      "\n",
      "KL-Divergence from the real network with threshold 0.3 to the ER network: 0.693\n",
      "\n",
      "KL-Divergence from the real network with threshold 0.5 to the ER network: 0.127\n",
      "KL-Divergence from the real network with threshold 0.5 to the BA network: 0.584\n",
      "\n",
      "KL-Divergence from the real network with threshold 0.7 to the ER network: 1.259\n",
      "KL-Divergence from the real network with threshold 0.7 to the BA network: 0.857\n"
     ]
    }
   ],
   "source": [
    "# Calculate Kullback-Leibler divergences\n",
    "kl_er = [kl_divergence(weights, weights_er) for weights, weights_er in zip(p, p_er)]\n",
    "kl_ba = [kl_divergence(weights,weights_ba) for weights, weights_ba in zip(p[1:3], p_ba[0:2])]\n",
    "\n",
    "for i in range(3):\n",
    "    print(\"\\nKL-Divergence from the real network with threshold {0:.1f} to the ER network: {1:.3f}\"\n",
    "          .format(thresholds[i+1],kl_er[i]))\n",
    "    if i > 0:\n",
    "        print(\"KL-Divergence from the real network with threshold {0:.1f} to the BA network: {1:.3f}\"\n",
    "          .format(thresholds[i+1],kl_ba[i-1]))"
   ]
  },
  {
   "cell_type": "markdown",
   "metadata": {},
   "source": [
    "**When looking into our values of the KL-Divergence, we observe that only the degree distribution that ressembles to that of a ER or BA network is the real network with a treshold of 0.5. If we tried to approximate our degree distributions with either the ER or BA models, the highest information loss would occur for real networks with a threshold of 0.7. For a treshold value of 0.5, we observe intermediate values of information loss**"
   ]
  },
  {
   "cell_type": "markdown",
   "metadata": {},
   "source": [
    "### Question 8\n",
    "\n",
    "Plot the degree distribution historgrams for all three networks. Are they consistent with the KL divergence results? Explain."
   ]
  },
  {
   "cell_type": "code",
   "execution_count": 18,
   "metadata": {},
   "outputs": [
    {
     "data": {
      "image/png": "[encoded data removed]",
      "text/plain": [
       "<matplotlib.figure.Figure at 0x27ca26754a8>"
      ]
     },
     "metadata": {},
     "output_type": "display_data"
    }
   ],
   "source": [
    "# Degree distributions of real network (thres. 0.3, 0.5, 0.7) and the equivalent ER and BA in the same row\n",
    "plt.figure(figsize=(20, 10))\n",
    "for i in range(3):\n",
    "    plt.subplot(3,3,1+3*i)\n",
    "    plt.bar(k[i], p[i])\n",
    "    plt.grid(True)\n",
    "    plt.xlabel(\"Degree k\")\n",
    "    plt.ylabel(\"Probability\")\n",
    "    plt.title(\"Degree dist. real network (Threshold: {0:.1f})\".format(thresholds[i+1]))\n",
    "    plt.subplot(3,3,2+3*i)\n",
    "    plt.bar(k_er[i], p_er[i])\n",
    "    plt.grid(True)\n",
    "    plt.xlabel(\"Degree k\")\n",
    "    plt.ylabel(\"Probability\")\n",
    "    plt.title(\"Degree dist. Erdös-Renyi\")\n",
    "    plt.text(70,0.06,\"D_KL = {0:.3f}\".format(kl_er[i]), fontsize=13)\n",
    "    if i > 0:\n",
    "        plt.subplot(3,3,3+3*i)\n",
    "        plt.bar(k_ba[i-1], p_ba[i-1])\n",
    "        plt.grid(True)\n",
    "        plt.xlabel(\"Degree k\")\n",
    "        plt.ylabel(\"Probability\")\n",
    "        plt.title(\"Degree dist. Barabasi-Albert\")\n",
    "        plt.text(70,0.04,\"D_KL = {0:.3f}\".format(kl_ba[i-1]), fontsize=13)\n",
    "plt.subplots_adjust(hspace=0.35, wspace=0.2)"
   ]
  },
  {
   "cell_type": "markdown",
   "metadata": {},
   "source": [
    "**From comparing the degree distributions, we can clearly conclude that the ER model is a better approximation of our real networks than the BA model. This is also consisent with the values of the KL-divergence which are significantly higher when computed for BA models (with respect to the real networks), than for the ER models. In short: More information is lost when we use BA to approximate our data than for using ER.**"
   ]
  },
  {
   "cell_type": "markdown",
   "metadata": {},
   "source": [
    "### Question 9\n",
    "\n",
    "Imagine you got equal degree distributions. Would that guarantee you got the same graph? Explain."
   ]
  },
  {
   "cell_type": "markdown",
   "metadata": {},
   "source": [
    "**No. The spatial distribution of nodes with the same degree is not reflected in the simple plots of the degreee distributions. For the same degree distribution, a graph might for example have a higher clustering coefficient as another graph with exactly the same degree distribution. Degree distribution only describes how many links there are but not how they are connected and therefore does not fully describe what is happening in a graph**"
   ]
  },
  {
   "cell_type": "markdown",
   "metadata": {},
   "source": [
    "## Part 2\n",
    "\n",
    "**You are allowed to use any additional library here (e.g., NetworkX, PyGSP, etc.).** Be careful not to include something here and use it in part 1!"
   ]
  },
  {
   "cell_type": "code",
   "execution_count": 19,
   "metadata": {},
   "outputs": [],
   "source": [
    "import networkx as nx"
   ]
  },
  {
   "cell_type": "markdown",
   "metadata": {},
   "source": [
    "### Question 10\n",
    "\n",
    "Choose a random network model that fits you network well. Explain your choice. \n",
    "\n",
    "**Hint:** Check lecture notes for different network models and their properties. Your choice should be made based on at least one property you'd expect to be similar."
   ]
  },
  {
   "cell_type": "markdown",
   "metadata": {},
   "source": [
    "**The choice of a similar network is not straight-forward. Our network doesn't change in time and highly depends on the  chosen threshhold. Our network does not look like it is scale free, since we don't really see any nodes that are of a degree orders of magnitudes larger than the average degree. Neither do we have a significant number of nodes around low degrees. Yet, the degree distributions for all thresholds look more complex than a Poisson-like distribution. Considering that we are modelling a parliament with political parties it is reasonable that there is some kind of preferential attachment mechanism underlying our network.\n",
    "Hence, we suspect that our network corresponds to the limiting case of the BA model in which there is no growth and only preferential attachment (presented as 'Model B' in the course). We expect a similar clustering coefficient. KL divergence will be assessed to compare degree distributions. A random network chosen among all network with n nodes and m links will also be computed for comparison purpose.**"
   ]
  },
  {
   "cell_type": "markdown",
   "metadata": {},
   "source": [
    "### Question 11\n",
    "\n",
    "Explain (in short) how the chosen model works."
   ]
  },
  {
   "cell_type": "markdown",
   "metadata": {},
   "source": [
    "**Model B start from N nodes without any link. At each step a new link is added between a randomly chosen node and a second one. The later is chosen with a probablity proportional to its degree. Thus, a large degree node is more likely to be the second one. This is similar to the 'normal' Barabasi-Albert model**"
   ]
  },
  {
   "cell_type": "markdown",
   "metadata": {},
   "source": [
    "### Question 12\n",
    "\n",
    "Create a random graph from that model, such that the number of nodes is the same as in your graph."
   ]
  },
  {
   "cell_type": "code",
   "execution_count": 20,
   "metadata": {},
   "outputs": [],
   "source": [
    "# Function that creates a given number of nodes and connects them with a preference one after the other. \n",
    "# The link probability is given by the Pi function such as in the normal BA model that includes growth\n",
    "def preferential_attachment_graph(n, n_links, seed=None):\n",
    "    \"\"\"Based on the Barabasi-Albert graph, but without network growth. At each instance t, a link is added to a node\n",
    "    out of n nodes in the network with preferential attachment\"\"\"\n",
    "    \n",
    "    if n_links > n*(n-1)/2:\n",
    "        return print(\"The number of edges is larger than the maximum number of edges possible\")\n",
    "    \n",
    "    np.random.seed(seed)\n",
    "    G = np.zeros((n,n))\n",
    "    nodes = np.arange(n)\n",
    "    \n",
    "    # Initial attachment probability (unconnected nodes have Pi(1) => equivalent to every node having one link)\n",
    "    k_i = np.ones(n)\n",
    "    fully_connected_nodes = []\n",
    "    \n",
    "    for t in range(n_links):\n",
    "        rand_number = np.random.random(2)\n",
    "        # Nodes that are already fully connected can be connected more\n",
    "        k1 = np.delete(k_i, fully_connected_nodes)\n",
    "        # Cum. probability to connect to any of the non-fully connected nodes\n",
    "        p1 = np.cumsum(k1)/np.sum(k1)\n",
    "        nodes_1 = np.delete(nodes, fully_connected_nodes)\n",
    "        \n",
    "        # Choose first node and remove node and neighbours temporarily from list\n",
    "        node_1 = np.asscalar(nodes_1[min(np.argwhere(p1 >= rand_number[0]))])\n",
    "        node_1_neighbours = np.nonzero(G[node_1,:])\n",
    "        \n",
    "        # Attachment probability for the remaining available nodes (Can't connect to itself and already connected nodes)\n",
    "        excluded_nodes = np.append(node_1, node_1_neighbours)\n",
    "        k2 = np.delete(k_i, excluded_nodes)\n",
    "        p2 = np.cumsum(k2)/np.sum(k2)\n",
    "        nodes_2 = np.delete(nodes, excluded_nodes)\n",
    "\n",
    "        # Choose second node\n",
    "        node_2 = np.asscalar(nodes_2[min(np.argwhere(p2 >= rand_number[1]))])\n",
    "        # Connect them\n",
    "        G[node_1, node_2] = 1\n",
    "        G[node_2, node_1] = 1\n",
    "        \n",
    "        # Check if nodes are now fully connected\n",
    "        if np.count_nonzero(G[node_1,:])>= n-1:\n",
    "            fully_connected_nodes.append(node_1)\n",
    "        if np.count_nonzero(G[node_2,:]) >= n-1:\n",
    "            fully_connected_nodes.append(node_2)\n",
    "            \n",
    "        # Update degrees\n",
    "        k_i[node_1] += 1\n",
    "        k_i[node_2] += 1\n",
    "    \n",
    "    return G\n",
    "\n",
    "# clustering coefficient functions from Milestone 1\n",
    "def compute_clustering_coefficient(adjacency, node):\n",
    "    Li=0\n",
    "    \n",
    "    #Counts the number of neighbours of 'node' \n",
    "    ki= np.count_nonzero(adjacency[node,:])\n",
    "    \n",
    "    #creates a vector with all the neighbours of 'node'\n",
    "    idx_neighbour_nodes = np.nonzero(adjacency[node,:])                   \n",
    "    idx_neighbour_nodes = list(idx_neighbour_nodes[0])                    \n",
    "    \n",
    "    #all the potential connexions between the neighbours of 'node'\n",
    "    for i in range(len(idx_neighbour_nodes)):\n",
    "        for j in range(i,len(idx_neighbour_nodes)): \n",
    "            #test if theses nodes are actually connected\n",
    "            if adjacency[idx_neighbour_nodes[i],idx_neighbour_nodes[j]]>0:\n",
    "                Li=Li+1\n",
    "            else: continue\n",
    "    \n",
    "    if (ki == 0)|(ki == 1):\n",
    "        clustering_coefficient=0\n",
    "    else :\n",
    "        clustering_coefficient= (2*Li)/(ki*(ki-1))\n",
    "\n",
    "    return clustering_coefficient\n",
    "\n",
    "def compute_avg_clustering_coefficient(adjacency):\n",
    "    c_i = [compute_clustering_coefficient(adjacency, node) for node in range(200) ]\n",
    "    c=np.mean(c_i)\n",
    "    \n",
    "    return c\n"
   ]
  },
  {
   "cell_type": "code",
   "execution_count": 21,
   "metadata": {},
   "outputs": [],
   "source": [
    "# Create Model B graph and compute degree distribution\n",
    "G_pref_attach = [preferential_attachment_graph(n, int(n_link)) for n,n_link in zip(n_nodes,n_edges)]\n",
    "deg_dist_pref_attach = [get_degree_distibution(a_pref, bins=intervals,\n",
    "                                laplace_smoothing=smooth, set_minmax=k_minmax) for a_pref in G_pref_attach[1:4]]\n",
    "\n",
    "# Create random graph and compute degree distribution\n",
    "G_random_graph= [nx.to_numpy_array(nx.gnm_random_graph(n,int(n_link))) for n,n_link in zip(n_nodes,n_edges)]\n",
    "deg_dist_random_graph = [get_degree_distibution(a_pref, bins=intervals,\n",
    "                                laplace_smoothing=smooth, set_minmax=k_minmax) for a_pref in G_random_graph[1:4]]"
   ]
  },
  {
   "cell_type": "code",
   "execution_count": 22,
   "metadata": {},
   "outputs": [],
   "source": [
    "# Prepare iterables\n",
    "k_pref = []; p_pref = []\n",
    "for pref_attach in deg_dist_pref_attach:\n",
    "    k_pref.append(pref_attach[0])\n",
    "    p_pref.append(pref_attach[1])\n",
    "    \n",
    "k_rand = []; p_rand = []\n",
    "for rand in deg_dist_random_graph:\n",
    "    k_rand.append(rand[0])\n",
    "    p_rand.append(rand[1])"
   ]
  },
  {
   "cell_type": "code",
   "execution_count": 23,
   "metadata": {},
   "outputs": [],
   "source": [
    "# Calculate clustering coefficient and KL divergence\n",
    "kl_pref = [kl_divergence(weights, weights_pref) for weights, weights_pref in zip(p, p_pref)]\n",
    "kl_rand = [kl_divergence(weights, weights_rand) for weights, weights_rand in zip(p, p_rand)]\n",
    "\n",
    "\n",
    "clustering_pref=[compute_avg_clustering_coefficient(adjancecy) for adjancecy in G_pref_attach[1:4]]\n",
    "clustering_rand=[compute_avg_clustering_coefficient(adjancecy) for adjancecy in G_random_graph[1:4]]\n",
    "clustering_net=[compute_avg_clustering_coefficient(adjancecy) for adjancecy in adjacencies_binary[1:4]]"
   ]
  },
  {
   "cell_type": "code",
   "execution_count": 24,
   "metadata": {},
   "outputs": [
    {
     "data": {
      "image/png": "[encoded data removed]",
      "text/plain": [
       "<matplotlib.figure.Figure at 0x27ca2a111d0>"
      ]
     },
     "metadata": {},
     "output_type": "display_data"
    }
   ],
   "source": [
    "plt.figure(figsize=(20, 10))\n",
    "for i in range(3):\n",
    "    plt.subplot(3,3,1+3*i)\n",
    "    plt.bar(k[i], p[i])\n",
    "    plt.grid(True)\n",
    "    plt.xlabel(\"Degree k\")\n",
    "    plt.ylabel(\"Probability\")\n",
    "    plt.title(\"Degree dist. real network (Threshold: {0:.1f})\".format(thresholds[i+1]))\n",
    "    plt.text(0,0.06,\"clustering = {0:.3f}\".format(clustering_net[i]), fontsize=13)\n",
    "    \n",
    "    plt.subplot(3,3,2+3*i)\n",
    "    plt.bar(k_pref[i], p_pref[i])\n",
    "    plt.grid(True)\n",
    "    plt.xlabel(\"Degree k\")\n",
    "    plt.ylabel(\"Probability\")\n",
    "    plt.title(\"Degree dist. Preferential attach. only\")\n",
    "    plt.text(10,0.02,\"D_KL = {0:.3f}\".format(kl_pref[i]), fontsize=13)\n",
    "    plt.text(10,0.03,\"clustering = {0:.3f}\".format(clustering_pref[i]), fontsize=13)\n",
    "    \n",
    "    plt.subplot(3,3,3+3*i)\n",
    "    plt.bar(k_rand[i], p_rand[i])\n",
    "    plt.grid(True)\n",
    "    plt.xlabel(\"Degree k\")\n",
    "    plt.ylabel(\"Probability\")\n",
    "    plt.title(\"Degree dist. Random Graph\")\n",
    "    plt.text(10,0.08,\"D_KL = {0:.3f}\".format(kl_rand[i]), fontsize=13)\n",
    "    plt.text(10,0.10,\"clustering = {0:.3f}\".format(clustering_rand[i]), fontsize=13)\n",
    "    "
   ]
  },
  {
   "cell_type": "markdown",
   "metadata": {},
   "source": [
    "### Question 13\n",
    "\n",
    "Check the properties you expected to be similar, and compare to your network."
   ]
  },
  {
   "cell_type": "code",
   "execution_count": 25,
   "metadata": {},
   "outputs": [
    {
     "name": "stdout",
     "output_type": "stream",
     "text": [
      "The clustering coefficients of our networks are (thresholds 0.3 0.5 0.7)\n",
      "0.89 0.89 0.90\n",
      "The clustering coefficients of model B are\n",
      "0.80 0.67 0.51  \n",
      "The clustering coefficients of the random network is\n",
      "0.63 0.38 0.24  \n",
      "\n",
      "The KL divergences for model B are\n",
      "0.42 0.51 0.84\n",
      "The KL divergences for the random network are\n",
      "0.70 0.13 1.00  \n"
     ]
    }
   ],
   "source": [
    "print('The clustering coefficients of our networks are (thresholds 0.3 0.5 0.7)')\n",
    "print(\"{0:.2f} {1:.2f} {2:.2f}\".format(clustering_net[0], clustering_net[1], clustering_net[2]))\n",
    "print('The clustering coefficients of model B are')\n",
    "print(\"{0:.2f} {1:.2f} {2:.2f}  \".format(clustering_pref[0], clustering_pref[1], clustering_pref[2]))\n",
    "print('The clustering coefficients of the random network is')\n",
    "print(\"{0:.2f} {1:.2f} {2:.2f}  \".format(clustering_rand[0], clustering_rand[1], clustering_rand[2]))\n",
    "\n",
    "print('\\nThe KL divergences for model B are')\n",
    "print(\"{0:.2f} {1:.2f} {2:.2f}\".format(kl_pref[0], kl_pref[1], kl_pref[2]))\n",
    "print('The KL divergences for the random network are')\n",
    "print(\"{0:.2f} {1:.2f} {2:.2f}  \".format(kl_rand[0], kl_rand[1], kl_rand[2]))"
   ]
  },
  {
   "cell_type": "markdown",
   "metadata": {},
   "source": [
    "Are the results what you expected? Explain."
   ]
  },
  {
   "cell_type": "markdown",
   "metadata": {},
   "source": [
    "**One can observe that the clustering coefficients are far bigger in our network then in a random netwok. Model B leads to closer clustering coefficients, mainly for small thresholds. But the graphs show that it is rather questionable whether a comparison of the three models is really insightful since they seem very different.\n",
    "We tried several of the other models presented in class (for example the copying model) and we found that none of the random models presented really fit our case. This is not that surprising since the formation mechanism in our case is very specific (eg. political parties, no growth). In reality, nodes (councillors) preferentially attach not to high degree nodes but to nodes that share the same label as them (party).**\n"
   ]
  },
  {
   "cell_type": "markdown",
   "metadata": {},
   "source": [
    "**One possible modellisation could consist of several Watts-Strogatz graphs, each representing one party for example. These could then be connected in a random fashion with a varying number of connecting links, resulting in one single graph. This could potentially capture the small-world properties observed without having high degree nodes**"
   ]
  }
 ],
 "metadata": {
  "kernelspec": {
   "display_name": "Python 3",
   "language": "python",
   "name": "python3"
  },
  "language_info": {
   "codemirror_mode": {
    "name": "ipython",
    "version": 3
   },
   "file_extension": ".py",
   "mimetype": "text/x-python",
   "name": "python",
   "nbconvert_exporter": "python",
   "pygments_lexer": "ipython3",
   "version": "3.6.4"
  }
 },
 "nbformat": 4,
 "nbformat_minor": 2
}
